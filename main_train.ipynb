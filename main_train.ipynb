
  {
   "cell_type": "code",
   "execution_count": 146,
   "metadata": {},
   "outputs": [],
   "source": [
    "import numpy as np\n",
    "import pandas as pd\n",
    "\n",
    "import matplotlib.pyplot as plt\n",
    "import seaborn as sns"
   ]
  },
  {
   "cell_type": "code",
   "execution_count": 147,
   "metadata": {},
   "outputs": [
    {
     "name": "stderr",
     "output_type": "stream",
     "text": [
      "C:\\Users\\ilya\\AppData\\Local\\Temp\\ipykernel_8780\\3928981067.py:10: FutureWarning: The frame.append method is deprecated and will be removed from pandas in a future version. Use pandas.concat instead.\n",
      "  data = df_test.append(df_train, sort=False).reset_index(drop=True) # объединяем\n"
     ]
    },
    {
     "data": {
      "text/html": [
       "<div>\n",
       "<style scoped>\n",
       "    .dataframe tbody tr th:only-of-type {\n",
       "        vertical-align: middle;\n",
       "    }\n",
       "\n",
       "    .dataframe tbody tr th {\n",
       "        vertical-align: top;\n",
       "    }\n",
       "\n",
       "    .dataframe thead th {\n",
       "        text-align: right;\n",
       "    }\n",
       "</style>\n",
       "<table border=\"1\" class=\"dataframe\">\n",
       "  <thead>\n",
       "    <tr style=\"text-align: right;\">\n",
       "      <th></th>\n",
       "      <th>hotel_address</th>\n",
       "      <th>additional_number_of_scoring</th>\n",
       "      <th>review_date</th>\n",
       "      <th>average_score</th>\n",
       "      <th>hotel_name</th>\n",
       "      <th>reviewer_nationality</th>\n",
       "      <th>negative_review</th>\n",
       "      <th>review_total_negative_word_counts</th>\n",
       "      <th>total_number_of_reviews</th>\n",
       "      <th>positive_review</th>\n",
       "      <th>review_total_positive_word_counts</th>\n",
       "      <th>total_number_of_reviews_reviewer_has_given</th>\n",
       "      <th>tags</th>\n",
       "      <th>days_since_review</th>\n",
       "      <th>lat</th>\n",
       "      <th>lng</th>\n",
       "      <th>sample</th>\n",
       "      <th>reviewer_score</th>\n",
       "    </tr>\n",
       "  </thead>\n",
       "  <tbody>\n",
       "    <tr>\n",
       "      <th>515736</th>\n",
       "      <td>31 Great Cumberland Place Westminster Borough ...</td>\n",
       "      <td>365</td>\n",
       "      <td>5/21/2017</td>\n",
       "      <td>8.1</td>\n",
       "      <td>The Marble Arch London</td>\n",
       "      <td>United Arab Emirates</td>\n",
       "      <td>No Negative</td>\n",
       "      <td>0</td>\n",
       "      <td>1567</td>\n",
       "      <td>Location and very comfy bed</td>\n",
       "      <td>6</td>\n",
       "      <td>28</td>\n",
       "      <td>[' Leisure trip ', ' Solo traveler ', ' Deluxe...</td>\n",
       "      <td>74 days</td>\n",
       "      <td>51.515125</td>\n",
       "      <td>-0.160066</td>\n",
       "      <td>1</td>\n",
       "      <td>9.2</td>\n",
       "    </tr>\n",
       "    <tr>\n",
       "      <th>515737</th>\n",
       "      <td>25 Courtfield Gardens Kensington and Chelsea L...</td>\n",
       "      <td>222</td>\n",
       "      <td>8/5/2016</td>\n",
       "      <td>9.0</td>\n",
       "      <td>The Nadler Kensington</td>\n",
       "      <td>Australia</td>\n",
       "      <td>Patio outside could have been cleaned of alga...</td>\n",
       "      <td>20</td>\n",
       "      <td>1209</td>\n",
       "      <td>Beds comfortable Pillows also good Homely fee...</td>\n",
       "      <td>20</td>\n",
       "      <td>2</td>\n",
       "      <td>[' Leisure trip ', ' Couple ', ' Bunk Bed Room...</td>\n",
       "      <td>363 day</td>\n",
       "      <td>51.493109</td>\n",
       "      <td>-0.190208</td>\n",
       "      <td>1</td>\n",
       "      <td>8.8</td>\n",
       "    </tr>\n",
       "  </tbody>\n",
       "</table>\n",
       "</div>"
      ],
      "text/plain": [
       "                                            hotel_address  \\\n",
       "515736  31 Great Cumberland Place Westminster Borough ...   \n",
       "515737  25 Courtfield Gardens Kensington and Chelsea L...   \n",
       "\n",
       "        additional_number_of_scoring review_date  average_score  \\\n",
       "515736                           365   5/21/2017            8.1   \n",
       "515737                           222    8/5/2016            9.0   \n",
       "\n",
       "                    hotel_name    reviewer_nationality  \\\n",
       "515736  The Marble Arch London   United Arab Emirates    \n",
       "515737   The Nadler Kensington              Australia    \n",
       "\n",
       "                                          negative_review  \\\n",
       "515736                                        No Negative   \n",
       "515737   Patio outside could have been cleaned of alga...   \n",
       "\n",
       "        review_total_negative_word_counts  total_number_of_reviews  \\\n",
       "515736                                  0                     1567   \n",
       "515737                                 20                     1209   \n",
       "\n",
       "                                          positive_review  \\\n",
       "515736                        Location and very comfy bed   \n",
       "515737   Beds comfortable Pillows also good Homely fee...   \n",
       "\n",
       "        review_total_positive_word_counts  \\\n",
       "515736                                  6   \n",
       "515737                                 20   \n",
       "\n",
       "        total_number_of_reviews_reviewer_has_given  \\\n",
       "515736                                          28   \n",
       "515737                                           2   \n",
       "\n",
       "                                                     tags days_since_review  \\\n",
       "515736  [' Leisure trip ', ' Solo traveler ', ' Deluxe...           74 days   \n",
       "515737  [' Leisure trip ', ' Couple ', ' Bunk Bed Room...           363 day   \n",
       "\n",
       "              lat       lng  sample  reviewer_score  \n",
       "515736  51.515125 -0.160066       1             9.2  \n",
       "515737  51.493109 -0.190208       1             8.8  "
      ]
     },
     "execution_count": 147,
     "metadata": {},
     "output_type": "execute_result"
    }
   ],
   "source": [
    "df_train = pd.read_csv('hotels_train.csv') # датасет для обучения\n",
    "df_test = pd.read_csv('hotels_test.csv') # датасет для предсказания\n",
    "sample_submission = pd.read_csv('submission.csv') # самбмишн\n",
    "\n",
    "# ВАЖНО! дря корректной обработки признаков объединяем трейн и тест в один датасет\n",
    "df_train['sample'] = 1 # помечаем где у нас трейн\n",
    "df_test['sample'] = 0 # помечаем где у нас тест\n",
    "df_test['reviewer_score'] = 0 # в тесте у нас нет значения reviewer_score, мы его должны предсказать, по этому пока просто заполняем нулями\n",
    "\n",
    "data = df_test.append(df_train, sort=False).reset_index(drop=True) # объединяем\n",
    "data.tail(2)"
   ]
  },
  {
   "attachments": {},
   "cell_type": "markdown",
   "metadata": {},
   "source": [
    "#### Предварительный небольшой анализ для поиска выжных признаков"
   ]
  },
  {
   "cell_type": "code",
   "execution_count": 3,
   "metadata": {},
   "outputs": [
    {
     "data": {
      "text/plain": [
       "1492"
      ]
     },
     "execution_count": 3,
     "metadata": {},
     "output_type": "execute_result"
    }
   ],
   "source": [
    "data['hotel_name'].nunique()"
   ]
  },
  {
   "cell_type": "code",
   "execution_count": 160,
   "metadata": {},
   "outputs": [],
   "source": [
    "data['review_date'] = pd.to_datetime(data['review_date'])"
   ]
  },
  {
   "attachments": {},
   "cell_type": "markdown",
   "metadata": {},
   "source": [
    "### Работа с тегами - создадим из строки тегов признак списков тегов"
   ]
  },
  {
   "cell_type": "code",
   "execution_count": 161,
   "metadata": {},
   "outputs": [
    {
     "data": {
      "text/plain": [
       "['Leisure trip', 'Couple', 'Double Room', 'Stayed 2 nights']"
      ]
     },
     "execution_count": 161,
     "metadata": {},
     "output_type": "execute_result"
    }
   ],
   "source": [
    "n_hotels = data.copy()\n",
    "\n",
    "def rev_func(num_tags):\n",
    "    # Преобразуем строку тегов в списки тегов\n",
    "    num_tags = num_tags[2:-2]\n",
    "    res = num_tags.strip().split(' \\', \\' ')\n",
    "    return res\n",
    "\n",
    "n_hotels['tags_n'] = n_hotels['tags'].apply(rev_func)\n",
    "n_hotels['tags_n'][0]"
   ]
  },
  {
   "attachments": {},
   "cell_type": "markdown",
   "metadata": {},
   "source": [
    "#### Выявим только популярные теги "
   ]
  },
  {
   "attachments": {},
   "cell_type": "markdown",
   "metadata": {},
   "source": [
    "**explode()** - Эта функция используется для преобразования столбца списков или массивов в несколько строк, с одной строкой для каждого элемента в списке или массиве"
   ]
  },
  {
   "cell_type": "code",
   "execution_count": 162,
   "metadata": {},
   "outputs": [
    {
     "name": "stdout",
     "output_type": "stream",
     "text": [
      "Всего униакльных тегов: \n",
      "2428\n",
      "Оставляем теги: \n",
      "96\n"
     ]
    }
   ],
   "source": [
    "# отберем популярные теги\n",
    "explode= n_hotels.explode('tags_n')\n",
    "\n",
    "tags = explode['tags_n'].value_counts() \n",
    "top_tag = tags[tags > 900]\n",
    "top_tag_l = list(top_tag.index)\n",
    "\n",
    "print('Всего униакльных тегов: ',explode['tags_n'].nunique(), \n",
    "      'Оставляем теги: ',len(top_tag_l),\n",
    "      sep='\\n')"
   ]
  },
  {
   "attachments": {},
   "cell_type": "markdown",
   "metadata": {},
   "source": [
    "### Для определения важности тегов, построим корреляцию"
   ]
  },
  {
   "cell_type": "markdown",
   "metadata": {},
   "source": [
    "#### Построим корреляцию между тегами и признакми оценок"
   ]
  },
  {
   "cell_type": "code",
   "execution_count": 163,
   "metadata": {},
   "outputs": [],
   "source": [
    "explode_tags = explode[['tags_n','reviewer_score','average_score']]"
   ]
  },
  {
   "cell_type": "markdown",
   "metadata": {},
   "source": [
    "Таблица со всеми тегами"
   ]
  },
  {
   "cell_type": "code",
   "execution_count": 164,
   "metadata": {},
   "outputs": [
    {
     "data": {
      "text/html": [
       "<div>\n",
       "<style scoped>\n",
       "    .dataframe tbody tr th:only-of-type {\n",
       "        vertical-align: middle;\n",
       "    }\n",
       "\n",
       "    .dataframe tbody tr th {\n",
       "        vertical-align: top;\n",
       "    }\n",
       "\n",
       "    .dataframe thead th {\n",
       "        text-align: right;\n",
       "    }\n",
       "</style>\n",
       "<table border=\"1\" class=\"dataframe\">\n",
       "  <thead>\n",
       "    <tr style=\"text-align: right;\">\n",
       "      <th></th>\n",
       "      <th>tags_n</th>\n",
       "      <th>reviewer_score</th>\n",
       "      <th>average_score</th>\n",
       "    </tr>\n",
       "  </thead>\n",
       "  <tbody>\n",
       "    <tr>\n",
       "      <th>0</th>\n",
       "      <td>Leisure trip</td>\n",
       "      <td>0.0</td>\n",
       "      <td>8.1</td>\n",
       "    </tr>\n",
       "    <tr>\n",
       "      <th>0</th>\n",
       "      <td>Couple</td>\n",
       "      <td>0.0</td>\n",
       "      <td>8.1</td>\n",
       "    </tr>\n",
       "    <tr>\n",
       "      <th>0</th>\n",
       "      <td>Double Room</td>\n",
       "      <td>0.0</td>\n",
       "      <td>8.1</td>\n",
       "    </tr>\n",
       "    <tr>\n",
       "      <th>0</th>\n",
       "      <td>Stayed 2 nights</td>\n",
       "      <td>0.0</td>\n",
       "      <td>8.1</td>\n",
       "    </tr>\n",
       "    <tr>\n",
       "      <th>1</th>\n",
       "      <td>Leisure trip</td>\n",
       "      <td>0.0</td>\n",
       "      <td>8.6</td>\n",
       "    </tr>\n",
       "    <tr>\n",
       "      <th>...</th>\n",
       "      <td>...</td>\n",
       "      <td>...</td>\n",
       "      <td>...</td>\n",
       "    </tr>\n",
       "    <tr>\n",
       "      <th>515736</th>\n",
       "      <td>Stayed 2 nights</td>\n",
       "      <td>9.2</td>\n",
       "      <td>8.1</td>\n",
       "    </tr>\n",
       "    <tr>\n",
       "      <th>515737</th>\n",
       "      <td>Leisure trip</td>\n",
       "      <td>8.8</td>\n",
       "      <td>9.0</td>\n",
       "    </tr>\n",
       "    <tr>\n",
       "      <th>515737</th>\n",
       "      <td>Couple</td>\n",
       "      <td>8.8</td>\n",
       "      <td>9.0</td>\n",
       "    </tr>\n",
       "    <tr>\n",
       "      <th>515737</th>\n",
       "      <td>Bunk Bed Room</td>\n",
       "      <td>8.8</td>\n",
       "      <td>9.0</td>\n",
       "    </tr>\n",
       "    <tr>\n",
       "      <th>515737</th>\n",
       "      <td>Stayed 4 nights</td>\n",
       "      <td>8.8</td>\n",
       "      <td>9.0</td>\n",
       "    </tr>\n",
       "  </tbody>\n",
       "</table>\n",
       "<p>2356592 rows × 3 columns</p>\n",
       "</div>"
      ],
      "text/plain": [
       "                 tags_n  reviewer_score  average_score\n",
       "0          Leisure trip             0.0            8.1\n",
       "0                Couple             0.0            8.1\n",
       "0           Double Room             0.0            8.1\n",
       "0       Stayed 2 nights             0.0            8.1\n",
       "1          Leisure trip             0.0            8.6\n",
       "...                 ...             ...            ...\n",
       "515736  Stayed 2 nights             9.2            8.1\n",
       "515737     Leisure trip             8.8            9.0\n",
       "515737           Couple             8.8            9.0\n",
       "515737    Bunk Bed Room             8.8            9.0\n",
       "515737  Stayed 4 nights             8.8            9.0\n",
       "\n",
       "[2356592 rows x 3 columns]"
      ]
     },
     "execution_count": 164,
     "metadata": {},
     "output_type": "execute_result"
    }
   ],
   "source": [
    "explode_tags"
   ]
  },
  {
   "cell_type": "markdown",
   "metadata": {},
   "source": [
    "Таблица с популярными тегами"
   ]
  },
  {
   "cell_type": "code",
   "execution_count": 165,
   "metadata": {},
   "outputs": [
    {
     "data": {
      "text/html": [
       "<div>\n",
       "<style scoped>\n",
       "    .dataframe tbody tr th:only-of-type {\n",
       "        vertical-align: middle;\n",
       "    }\n",
       "\n",
       "    .dataframe tbody tr th {\n",
       "        vertical-align: top;\n",
       "    }\n",
       "\n",
       "    .dataframe thead th {\n",
       "        text-align: right;\n",
       "    }\n",
       "</style>\n",
       "<table border=\"1\" class=\"dataframe\">\n",
       "  <thead>\n",
       "    <tr style=\"text-align: right;\">\n",
       "      <th></th>\n",
       "      <th>tags_n</th>\n",
       "      <th>count</th>\n",
       "    </tr>\n",
       "  </thead>\n",
       "  <tbody>\n",
       "    <tr>\n",
       "      <th>0</th>\n",
       "      <td>Leisure trip</td>\n",
       "      <td>417778</td>\n",
       "    </tr>\n",
       "    <tr>\n",
       "      <th>1</th>\n",
       "      <td>Submitted from a mobile device</td>\n",
       "      <td>307640</td>\n",
       "    </tr>\n",
       "    <tr>\n",
       "      <th>2</th>\n",
       "      <td>Couple</td>\n",
       "      <td>252294</td>\n",
       "    </tr>\n",
       "    <tr>\n",
       "      <th>3</th>\n",
       "      <td>Stayed 1 night</td>\n",
       "      <td>193645</td>\n",
       "    </tr>\n",
       "    <tr>\n",
       "      <th>4</th>\n",
       "      <td>Stayed 2 nights</td>\n",
       "      <td>133937</td>\n",
       "    </tr>\n",
       "    <tr>\n",
       "      <th>...</th>\n",
       "      <td>...</td>\n",
       "      <td>...</td>\n",
       "    </tr>\n",
       "    <tr>\n",
       "      <th>91</th>\n",
       "      <td>Superior Double or Twin Room 1 2 Adults</td>\n",
       "      <td>971</td>\n",
       "    </tr>\n",
       "    <tr>\n",
       "      <th>92</th>\n",
       "      <td>Twin Hilton Guest Room</td>\n",
       "      <td>951</td>\n",
       "    </tr>\n",
       "    <tr>\n",
       "      <th>93</th>\n",
       "      <td>Family Room 2 Adults 2 Children</td>\n",
       "      <td>926</td>\n",
       "    </tr>\n",
       "    <tr>\n",
       "      <th>94</th>\n",
       "      <td>Studio King Family</td>\n",
       "      <td>925</td>\n",
       "    </tr>\n",
       "    <tr>\n",
       "      <th>95</th>\n",
       "      <td>Compact Double Room</td>\n",
       "      <td>913</td>\n",
       "    </tr>\n",
       "  </tbody>\n",
       "</table>\n",
       "<p>96 rows × 2 columns</p>\n",
       "</div>"
      ],
      "text/plain": [
       "                                     tags_n   count\n",
       "0                              Leisure trip  417778\n",
       "1            Submitted from a mobile device  307640\n",
       "2                                    Couple  252294\n",
       "3                            Stayed 1 night  193645\n",
       "4                           Stayed 2 nights  133937\n",
       "..                                      ...     ...\n",
       "91  Superior Double or Twin Room 1 2 Adults     971\n",
       "92                   Twin Hilton Guest Room     951\n",
       "93          Family Room 2 Adults 2 Children     926\n",
       "94                       Studio King Family     925\n",
       "95                      Compact Double Room     913\n",
       "\n",
       "[96 rows x 2 columns]"
      ]
     },
     "execution_count": 165,
     "metadata": {},
     "output_type": "execute_result"
    }
   ],
   "source": [
    "top_tag = top_tag.reset_index()\n",
    "top_tag.rename(columns={'tags_n':'count',\n",
    "                        'index':'tags_n'},inplace=True) \n",
    "top_tag"
   ]
  },
  {
   "cell_type": "markdown",
   "metadata": {},
   "source": [
    "#### Объединим таблицы и получим таблицу только с популярными тегами и их оценками"
   ]
  },
  {
   "cell_type": "code",
   "execution_count": 166,
   "metadata": {},
   "outputs": [
    {
     "data": {
      "text/html": [
       "<div>\n",
       "<style scoped>\n",
       "    .dataframe tbody tr th:only-of-type {\n",
       "        vertical-align: middle;\n",
       "    }\n",
       "\n",
       "    .dataframe tbody tr th {\n",
       "        vertical-align: top;\n",
       "    }\n",
       "\n",
       "    .dataframe thead th {\n",
       "        text-align: right;\n",
       "    }\n",
       "</style>\n",
       "<table border=\"1\" class=\"dataframe\">\n",
       "  <thead>\n",
       "    <tr style=\"text-align: right;\">\n",
       "      <th></th>\n",
       "      <th>tags_n</th>\n",
       "      <th>reviewer_score</th>\n",
       "      <th>average_score</th>\n",
       "      <th>tags_n_top</th>\n",
       "      <th>count</th>\n",
       "    </tr>\n",
       "  </thead>\n",
       "  <tbody>\n",
       "    <tr>\n",
       "      <th>0</th>\n",
       "      <td>Leisure trip</td>\n",
       "      <td>0.0</td>\n",
       "      <td>8.1</td>\n",
       "      <td>Leisure trip</td>\n",
       "      <td>417778</td>\n",
       "    </tr>\n",
       "    <tr>\n",
       "      <th>0</th>\n",
       "      <td>Couple</td>\n",
       "      <td>0.0</td>\n",
       "      <td>8.1</td>\n",
       "      <td>Leisure trip</td>\n",
       "      <td>417778</td>\n",
       "    </tr>\n",
       "    <tr>\n",
       "      <th>0</th>\n",
       "      <td>Double Room</td>\n",
       "      <td>0.0</td>\n",
       "      <td>8.1</td>\n",
       "      <td>Leisure trip</td>\n",
       "      <td>417778</td>\n",
       "    </tr>\n",
       "  </tbody>\n",
       "</table>\n",
       "</div>"
      ],
      "text/plain": [
       "         tags_n  reviewer_score  average_score    tags_n_top   count\n",
       "0  Leisure trip             0.0            8.1  Leisure trip  417778\n",
       "0        Couple             0.0            8.1  Leisure trip  417778\n",
       "0   Double Room             0.0            8.1  Leisure trip  417778"
      ]
     },
     "execution_count": 166,
     "metadata": {},
     "output_type": "execute_result"
    }
   ],
   "source": [
    "result = explode_tags.join(top_tag,\n",
    "                           how = 'right',\n",
    "                           rsuffix='_top')\n",
    "result.head(3)"
   ]
  },
  {
   "cell_type": "markdown",
   "metadata": {},
   "source": [
    "Удалим ненужные столбцы"
   ]
  },
  {
   "cell_type": "code",
   "execution_count": 167,
   "metadata": {},
   "outputs": [
    {
     "data": {
      "text/html": [
       "<div>\n",
       "<style scoped>\n",
       "    .dataframe tbody tr th:only-of-type {\n",
       "        vertical-align: middle;\n",
       "    }\n",
       "\n",
       "    .dataframe tbody tr th {\n",
       "        vertical-align: top;\n",
       "    }\n",
       "\n",
       "    .dataframe thead th {\n",
       "        text-align: right;\n",
       "    }\n",
       "</style>\n",
       "<table border=\"1\" class=\"dataframe\">\n",
       "  <thead>\n",
       "    <tr style=\"text-align: right;\">\n",
       "      <th></th>\n",
       "      <th>tags_n</th>\n",
       "      <th>reviewer_score</th>\n",
       "      <th>average_score</th>\n",
       "      <th>count</th>\n",
       "    </tr>\n",
       "  </thead>\n",
       "  <tbody>\n",
       "    <tr>\n",
       "      <th>0</th>\n",
       "      <td>Leisure trip</td>\n",
       "      <td>0.0</td>\n",
       "      <td>8.1</td>\n",
       "      <td>417778</td>\n",
       "    </tr>\n",
       "    <tr>\n",
       "      <th>0</th>\n",
       "      <td>Couple</td>\n",
       "      <td>0.0</td>\n",
       "      <td>8.1</td>\n",
       "      <td>417778</td>\n",
       "    </tr>\n",
       "    <tr>\n",
       "      <th>0</th>\n",
       "      <td>Double Room</td>\n",
       "      <td>0.0</td>\n",
       "      <td>8.1</td>\n",
       "      <td>417778</td>\n",
       "    </tr>\n",
       "    <tr>\n",
       "      <th>0</th>\n",
       "      <td>Stayed 2 nights</td>\n",
       "      <td>0.0</td>\n",
       "      <td>8.1</td>\n",
       "      <td>417778</td>\n",
       "    </tr>\n",
       "    <tr>\n",
       "      <th>1</th>\n",
       "      <td>Leisure trip</td>\n",
       "      <td>0.0</td>\n",
       "      <td>8.6</td>\n",
       "      <td>307640</td>\n",
       "    </tr>\n",
       "    <tr>\n",
       "      <th>...</th>\n",
       "      <td>...</td>\n",
       "      <td>...</td>\n",
       "      <td>...</td>\n",
       "      <td>...</td>\n",
       "    </tr>\n",
       "    <tr>\n",
       "      <th>95</th>\n",
       "      <td>Leisure trip</td>\n",
       "      <td>0.0</td>\n",
       "      <td>8.3</td>\n",
       "      <td>913</td>\n",
       "    </tr>\n",
       "    <tr>\n",
       "      <th>95</th>\n",
       "      <td>Travelers with friends</td>\n",
       "      <td>0.0</td>\n",
       "      <td>8.3</td>\n",
       "      <td>913</td>\n",
       "    </tr>\n",
       "    <tr>\n",
       "      <th>95</th>\n",
       "      <td>Deluxe Twin Room Annex</td>\n",
       "      <td>0.0</td>\n",
       "      <td>8.3</td>\n",
       "      <td>913</td>\n",
       "    </tr>\n",
       "    <tr>\n",
       "      <th>95</th>\n",
       "      <td>Stayed 3 nights</td>\n",
       "      <td>0.0</td>\n",
       "      <td>8.3</td>\n",
       "      <td>913</td>\n",
       "    </tr>\n",
       "    <tr>\n",
       "      <th>95</th>\n",
       "      <td>Submitted from a mobile device</td>\n",
       "      <td>0.0</td>\n",
       "      <td>8.3</td>\n",
       "      <td>913</td>\n",
       "    </tr>\n",
       "  </tbody>\n",
       "</table>\n",
       "<p>432 rows × 4 columns</p>\n",
       "</div>"
      ],
      "text/plain": [
       "                            tags_n  reviewer_score  average_score   count\n",
       "0                     Leisure trip             0.0            8.1  417778\n",
       "0                           Couple             0.0            8.1  417778\n",
       "0                      Double Room             0.0            8.1  417778\n",
       "0                  Stayed 2 nights             0.0            8.1  417778\n",
       "1                     Leisure trip             0.0            8.6  307640\n",
       "..                             ...             ...            ...     ...\n",
       "95                    Leisure trip             0.0            8.3     913\n",
       "95          Travelers with friends             0.0            8.3     913\n",
       "95          Deluxe Twin Room Annex             0.0            8.3     913\n",
       "95                 Stayed 3 nights             0.0            8.3     913\n",
       "95  Submitted from a mobile device             0.0            8.3     913\n",
       "\n",
       "[432 rows x 4 columns]"
      ]
     },
     "execution_count": 167,
     "metadata": {},
     "output_type": "execute_result"
    }
   ],
   "source": [
    "result = result.drop('tags_n_top',axis=1)\n",
    "result"
   ]
  },
  {
   "cell_type": "markdown",
   "metadata": {},
   "source": [
    "Построим график корреляции"
   ]
  },
  {
   "cell_type": "code",
   "execution_count": 168,
   "metadata": {},
   "outputs": [
    {
     "data": {
      "image/png": "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",
      "text/plain": [
       "<Figure size 1500x400 with 1 Axes>"
      ]
     },
     "metadata": {},
     "output_type": "display_data"
    }
   ],
   "source": [
    "low = result[result['average_score'] <8]\n",
    "\n",
    "fig = plt.figure(figsize=(15,4))\n",
    "ax = fig.add_axes([0,0,1,1])\n",
    "\n",
    "plot = sns.barplot(data=low,\n",
    "            x= 'tags_n',\n",
    "            y= 'average_score')\n",
    "plt.xticks(rotation=30);"
   ]
  },
  {
   "cell_type": "markdown",
   "metadata": {},
   "source": [
    "Теги \"семья с ребенком\" имеют средний рейтинг ниже остальных"
   ]
  },
  {
   "cell_type": "code",
   "execution_count": 169,
   "metadata": {},
   "outputs": [
    {
     "data": {
      "text/html": [
       "<div>\n",
       "<style scoped>\n",
       "    .dataframe tbody tr th:only-of-type {\n",
       "        vertical-align: middle;\n",
       "    }\n",
       "\n",
       "    .dataframe tbody tr th {\n",
       "        vertical-align: top;\n",
       "    }\n",
       "\n",
       "    .dataframe thead th {\n",
       "        text-align: right;\n",
       "    }\n",
       "</style>\n",
       "<table border=\"1\" class=\"dataframe\">\n",
       "  <thead>\n",
       "    <tr style=\"text-align: right;\">\n",
       "      <th></th>\n",
       "      <th>tags_n</th>\n",
       "      <th>reviewer_score</th>\n",
       "      <th>average_score</th>\n",
       "      <th>count</th>\n",
       "    </tr>\n",
       "  </thead>\n",
       "  <tbody>\n",
       "    <tr>\n",
       "      <th>0</th>\n",
       "      <td>Leisure trip</td>\n",
       "      <td>0.0</td>\n",
       "      <td>8.1</td>\n",
       "      <td>417778</td>\n",
       "    </tr>\n",
       "    <tr>\n",
       "      <th>0</th>\n",
       "      <td>Couple</td>\n",
       "      <td>0.0</td>\n",
       "      <td>8.1</td>\n",
       "      <td>417778</td>\n",
       "    </tr>\n",
       "    <tr>\n",
       "      <th>0</th>\n",
       "      <td>Double Room</td>\n",
       "      <td>0.0</td>\n",
       "      <td>8.1</td>\n",
       "      <td>417778</td>\n",
       "    </tr>\n",
       "    <tr>\n",
       "      <th>0</th>\n",
       "      <td>Stayed 2 nights</td>\n",
       "      <td>0.0</td>\n",
       "      <td>8.1</td>\n",
       "      <td>417778</td>\n",
       "    </tr>\n",
       "    <tr>\n",
       "      <th>1</th>\n",
       "      <td>Leisure trip</td>\n",
       "      <td>0.0</td>\n",
       "      <td>8.6</td>\n",
       "      <td>307640</td>\n",
       "    </tr>\n",
       "    <tr>\n",
       "      <th>...</th>\n",
       "      <td>...</td>\n",
       "      <td>...</td>\n",
       "      <td>...</td>\n",
       "      <td>...</td>\n",
       "    </tr>\n",
       "    <tr>\n",
       "      <th>95</th>\n",
       "      <td>Leisure trip</td>\n",
       "      <td>0.0</td>\n",
       "      <td>8.3</td>\n",
       "      <td>913</td>\n",
       "    </tr>\n",
       "    <tr>\n",
       "      <th>95</th>\n",
       "      <td>Travelers with friends</td>\n",
       "      <td>0.0</td>\n",
       "      <td>8.3</td>\n",
       "      <td>913</td>\n",
       "    </tr>\n",
       "    <tr>\n",
       "      <th>95</th>\n",
       "      <td>Deluxe Twin Room Annex</td>\n",
       "      <td>0.0</td>\n",
       "      <td>8.3</td>\n",
       "      <td>913</td>\n",
       "    </tr>\n",
       "    <tr>\n",
       "      <th>95</th>\n",
       "      <td>Stayed 3 nights</td>\n",
       "      <td>0.0</td>\n",
       "      <td>8.3</td>\n",
       "      <td>913</td>\n",
       "    </tr>\n",
       "    <tr>\n",
       "      <th>95</th>\n",
       "      <td>Submitted from a mobile device</td>\n",
       "      <td>0.0</td>\n",
       "      <td>8.3</td>\n",
       "      <td>913</td>\n",
       "    </tr>\n",
       "  </tbody>\n",
       "</table>\n",
       "<p>432 rows × 4 columns</p>\n",
       "</div>"
      ],
      "text/plain": [
       "                            tags_n  reviewer_score  average_score   count\n",
       "0                     Leisure trip             0.0            8.1  417778\n",
       "0                           Couple             0.0            8.1  417778\n",
       "0                      Double Room             0.0            8.1  417778\n",
       "0                  Stayed 2 nights             0.0            8.1  417778\n",
       "1                     Leisure trip             0.0            8.6  307640\n",
       "..                             ...             ...            ...     ...\n",
       "95                    Leisure trip             0.0            8.3     913\n",
       "95          Travelers with friends             0.0            8.3     913\n",
       "95          Deluxe Twin Room Annex             0.0            8.3     913\n",
       "95                 Stayed 3 nights             0.0            8.3     913\n",
       "95  Submitted from a mobile device             0.0            8.3     913\n",
       "\n",
       "[432 rows x 4 columns]"
      ]
     },
     "execution_count": 169,
     "metadata": {},
     "output_type": "execute_result"
    }
   ],
   "source": [
    "result"
   ]
  },
  {
   "attachments": {},
   "cell_type": "markdown",
   "metadata": {},
   "source": [
    "#### Создадим признаки по каждому популярному тегу,  это пригодится для обучения модели"
   ]
  },
  {
   "cell_type": "code",
   "execution_count": 170,
   "metadata": {},
   "outputs": [
    {
     "name": "stderr",
     "output_type": "stream",
     "text": [
      "C:\\Users\\ilya\\AppData\\Local\\Temp\\ipykernel_8780\\109651573.py:2: PerformanceWarning: DataFrame is highly fragmented.  This is usually the result of calling `frame.insert` many times, which has poor performance.  Consider joining all columns at once using pd.concat(axis=1) instead. To get a de-fragmented frame, use `newframe = frame.copy()`\n",
      "  n_hotels[tag] = n_hotels['tags_n'].apply(lambda x: 1 if tag in x else 0)\n"
     ]
    }
   ],
   "source": [
    "for tag in list(top_tag['tags_n']):\n",
    "    n_hotels[tag] = n_hotels['tags_n'].apply(lambda x: 1 if tag in x else 0)"
   ]
  },
  {
   "attachments": {},
   "cell_type": "markdown",
   "metadata": {},
   "source": [
    "#### Обновляем признак tags_n, оставляя только популярные теги"
   ]
  },
  {
   "attachments": {},
   "cell_type": "markdown",
   "metadata": {},
   "source": [
    "#### Работа с признаком Даты"
   ]
  },
  {
   "attachments": {},
   "cell_type": "markdown",
   "metadata": {},
   "source": [
    "Создадим признак года"
   ]
  },
  {
   "cell_type": "code",
   "execution_count": 171,
   "metadata": {},
   "outputs": [
    {
     "name": "stdout",
     "output_type": "stream",
     "text": [
      "[2016, 2017, 2015]\n"
     ]
    },
    {
     "name": "stderr",
     "output_type": "stream",
     "text": [
      "C:\\Users\\ilya\\AppData\\Local\\Temp\\ipykernel_8780\\15465462.py:6: PerformanceWarning: DataFrame is highly fragmented.  This is usually the result of calling `frame.insert` many times, which has poor performance.  Consider joining all columns at once using pd.concat(axis=1) instead. To get a de-fragmented frame, use `newframe = frame.copy()`\n",
      "  n_hotels['year'] = n_hotels['review_date'].apply(lambda x: x.year)\n"
     ]
    },
    {
     "data": {
      "text/plain": [
       "0    2017\n",
       "1    2016\n",
       "2    2015\n",
       "3    2015\n",
       "4    2016\n",
       "Name: year, dtype: int64"
      ]
     },
     "metadata": {},
     "output_type": "display_data"
    }
   ],
   "source": [
    "# выведем уникальные года\n",
    "years = n_hotels['review_date'].dt.year.value_counts()\n",
    "years = list(years.index)\n",
    "print(years)\n",
    "\n",
    "n_hotels['year'] = n_hotels['review_date'].apply(lambda x: x.year)\n",
    "display(n_hotels['year'].head())"
   ]
  },
  {
   "attachments": {},
   "cell_type": "markdown",
   "metadata": {},
   "source": [
    "Создадим признак времен года"
   ]
  },
  {
   "cell_type": "code",
   "execution_count": 172,
   "metadata": {},
   "outputs": [
    {
     "name": "stderr",
     "output_type": "stream",
     "text": [
      "C:\\Users\\ilya\\AppData\\Local\\Temp\\ipykernel_8780\\1026058198.py:14: PerformanceWarning: DataFrame is highly fragmented.  This is usually the result of calling `frame.insert` many times, which has poor performance.  Consider joining all columns at once using pd.concat(axis=1) instead. To get a de-fragmented frame, use `newframe = frame.copy()`\n",
      "  n_hotels['season'] = n_hotels['review_date'].dt.date.apply(season_finding)\n"
     ]
    },
    {
     "data": {
      "text/plain": [
       "0    summer\n",
       "1    winter\n",
       "2    autumn\n",
       "3    autumn\n",
       "4    spring\n",
       "Name: season, dtype: object"
      ]
     },
     "execution_count": 172,
     "metadata": {},
     "output_type": "execute_result"
    }
   ],
   "source": [
    "def season_finding(x):\n",
    "    if x.month in [12,1,2]:\n",
    "        return 'winter'\n",
    "    if x.month in [3,4,5]:\n",
    "        return 'spring'\n",
    "    if x.month in [6,7,8]:\n",
    "        return 'summer'\n",
    "    if x.month in [9,10,11]:\n",
    "        return 'autumn'\n",
    "    else:\n",
    "        print('no necessary value')\n",
    "        raise ValueError\n",
    "\n",
    "n_hotels['season'] = n_hotels['review_date'].dt.date.apply(season_finding)\n",
    "n_hotels['season'].head()"
   ]
  },
  {
   "cell_type": "code",
   "execution_count": 173,
   "metadata": {},
   "outputs": [
    {
     "data": {
      "text/html": [
       "<div>\n",
       "<style scoped>\n",
       "    .dataframe tbody tr th:only-of-type {\n",
       "        vertical-align: middle;\n",
       "    }\n",
       "\n",
       "    .dataframe tbody tr th {\n",
       "        vertical-align: top;\n",
       "    }\n",
       "\n",
       "    .dataframe thead th {\n",
       "        text-align: right;\n",
       "    }\n",
       "</style>\n",
       "<table border=\"1\" class=\"dataframe\">\n",
       "  <thead>\n",
       "    <tr style=\"text-align: right;\">\n",
       "      <th></th>\n",
       "      <th>hotel_address</th>\n",
       "      <th>additional_number_of_scoring</th>\n",
       "      <th>review_date</th>\n",
       "      <th>average_score</th>\n",
       "      <th>hotel_name</th>\n",
       "      <th>reviewer_nationality</th>\n",
       "      <th>negative_review</th>\n",
       "      <th>review_total_negative_word_counts</th>\n",
       "      <th>total_number_of_reviews</th>\n",
       "      <th>positive_review</th>\n",
       "      <th>...</th>\n",
       "      <th>Dorsett Double Room</th>\n",
       "      <th>Premier Double Room</th>\n",
       "      <th>Studio</th>\n",
       "      <th>Superior Double or Twin Room 1 2 Adults</th>\n",
       "      <th>Twin Hilton Guest Room</th>\n",
       "      <th>Family Room 2 Adults 2 Children</th>\n",
       "      <th>Studio King Family</th>\n",
       "      <th>Compact Double Room</th>\n",
       "      <th>year</th>\n",
       "      <th>season</th>\n",
       "    </tr>\n",
       "  </thead>\n",
       "  <tbody>\n",
       "    <tr>\n",
       "      <th>0</th>\n",
       "      <td>Via Senigallia 6 20161 Milan Italy</td>\n",
       "      <td>904</td>\n",
       "      <td>2017-07-21</td>\n",
       "      <td>8.1</td>\n",
       "      <td>Hotel Da Vinci</td>\n",
       "      <td>United Kingdom</td>\n",
       "      <td>Would have appreciated a shop in the hotel th...</td>\n",
       "      <td>52</td>\n",
       "      <td>16670</td>\n",
       "      <td>Hotel was great clean friendly staff free bre...</td>\n",
       "      <td>...</td>\n",
       "      <td>0</td>\n",
       "      <td>0</td>\n",
       "      <td>0</td>\n",
       "      <td>0</td>\n",
       "      <td>0</td>\n",
       "      <td>0</td>\n",
       "      <td>0</td>\n",
       "      <td>0</td>\n",
       "      <td>2017</td>\n",
       "      <td>summer</td>\n",
       "    </tr>\n",
       "    <tr>\n",
       "      <th>1</th>\n",
       "      <td>Arlandaweg 10 Westpoort 1043 EW Amsterdam Neth...</td>\n",
       "      <td>612</td>\n",
       "      <td>2016-12-12</td>\n",
       "      <td>8.6</td>\n",
       "      <td>Urban Lodge Hotel</td>\n",
       "      <td>Belgium</td>\n",
       "      <td>No tissue paper box was present at the room</td>\n",
       "      <td>10</td>\n",
       "      <td>5018</td>\n",
       "      <td>No Positive</td>\n",
       "      <td>...</td>\n",
       "      <td>0</td>\n",
       "      <td>0</td>\n",
       "      <td>0</td>\n",
       "      <td>0</td>\n",
       "      <td>0</td>\n",
       "      <td>0</td>\n",
       "      <td>0</td>\n",
       "      <td>0</td>\n",
       "      <td>2016</td>\n",
       "      <td>winter</td>\n",
       "    </tr>\n",
       "  </tbody>\n",
       "</table>\n",
       "<p>2 rows × 117 columns</p>\n",
       "</div>"
      ],
      "text/plain": [
       "                                       hotel_address  \\\n",
       "0                 Via Senigallia 6 20161 Milan Italy   \n",
       "1  Arlandaweg 10 Westpoort 1043 EW Amsterdam Neth...   \n",
       "\n",
       "   additional_number_of_scoring review_date  average_score         hotel_name  \\\n",
       "0                           904  2017-07-21            8.1     Hotel Da Vinci   \n",
       "1                           612  2016-12-12            8.6  Urban Lodge Hotel   \n",
       "\n",
       "  reviewer_nationality                                    negative_review  \\\n",
       "0      United Kingdom    Would have appreciated a shop in the hotel th...   \n",
       "1             Belgium         No tissue paper box was present at the room   \n",
       "\n",
       "   review_total_negative_word_counts  total_number_of_reviews  \\\n",
       "0                                 52                    16670   \n",
       "1                                 10                     5018   \n",
       "\n",
       "                                     positive_review  ...  \\\n",
       "0   Hotel was great clean friendly staff free bre...  ...   \n",
       "1                                        No Positive  ...   \n",
       "\n",
       "   Dorsett Double Room  Premier Double Room Studio  \\\n",
       "0                    0                    0      0   \n",
       "1                    0                    0      0   \n",
       "\n",
       "  Superior Double or Twin Room 1 2 Adults  Twin Hilton Guest Room  \\\n",
       "0                                       0                       0   \n",
       "1                                       0                       0   \n",
       "\n",
       "   Family Room 2 Adults 2 Children  Studio King Family  Compact Double Room  \\\n",
       "0                                0                   0                    0   \n",
       "1                                0                   0                    0   \n",
       "\n",
       "   year  season  \n",
       "0  2017  summer  \n",
       "1  2016  winter  \n",
       "\n",
       "[2 rows x 117 columns]"
      ]
     },
     "metadata": {},
     "output_type": "display_data"
    }
   ],
   "source": [
    "display(n_hotels.head(2))"
   ]
  },
  {
   "attachments": {},
   "cell_type": "markdown",
   "metadata": {},
   "source": [
    "### Очистка данных"
   ]
  },
  {
   "cell_type": "code",
   "execution_count": 174,
   "metadata": {},
   "outputs": [
    {
     "data": {
      "text/plain": [
       "lat    3268\n",
       "lng    3268\n",
       "dtype: int64"
      ]
     },
     "metadata": {},
     "output_type": "display_data"
    },
    {
     "data": {
      "text/plain": [
       "['lat', 'lng']"
      ]
     },
     "metadata": {},
     "output_type": "display_data"
    }
   ],
   "source": [
    "# Найдем колонки с пропусками\n",
    "mask = n_hotels.isnull().sum() \n",
    "col_pass = list(mask[mask > 0].index)\n",
    "display(mask[mask > 0], col_pass)\n",
    "\n",
    "# Один из вариантов заполнить пропуски:\n",
    "dic_fill = {col_pass[0]: n_hotels[col_pass].iloc[:,0].median(),\n",
    "            col_pass[1]: n_hotels[col_pass].iloc[:,1].median()}\n",
    "#data[col_pass] = data[col_pass].fillna(dic_fill)"
   ]
  },
  {
   "attachments": {},
   "cell_type": "markdown",
   "metadata": {},
   "source": [
    "Найдем недостающие координаты"
   ]
  },
  {
   "cell_type": "code",
   "execution_count": 175,
   "metadata": {},
   "outputs": [
    {
     "data": {
      "text/html": [
       "<div>\n",
       "<style scoped>\n",
       "    .dataframe tbody tr th:only-of-type {\n",
       "        vertical-align: middle;\n",
       "    }\n",
       "\n",
       "    .dataframe tbody tr th {\n",
       "        vertical-align: top;\n",
       "    }\n",
       "\n",
       "    .dataframe thead th {\n",
       "        text-align: right;\n",
       "    }\n",
       "</style>\n",
       "<table border=\"1\" class=\"dataframe\">\n",
       "  <thead>\n",
       "    <tr style=\"text-align: right;\">\n",
       "      <th></th>\n",
       "      <th>lat</th>\n",
       "      <th>lng</th>\n",
       "    </tr>\n",
       "    <tr>\n",
       "      <th>hotel_address</th>\n",
       "      <th></th>\n",
       "      <th></th>\n",
       "    </tr>\n",
       "  </thead>\n",
       "  <tbody>\n",
       "    <tr>\n",
       "      <th>20 Rue De La Ga t 14th arr 75014 Paris France</th>\n",
       "      <td>0</td>\n",
       "      <td>0</td>\n",
       "    </tr>\n",
       "    <tr>\n",
       "      <th>23 Rue Damr mont 18th arr 75018 Paris France</th>\n",
       "      <td>0</td>\n",
       "      <td>0</td>\n",
       "    </tr>\n",
       "    <tr>\n",
       "      <th>4 rue de la P pini re 8th arr 75008 Paris France</th>\n",
       "      <td>0</td>\n",
       "      <td>0</td>\n",
       "    </tr>\n",
       "    <tr>\n",
       "      <th>Bail n 4 6 Eixample 08010 Barcelona Spain</th>\n",
       "      <td>0</td>\n",
       "      <td>0</td>\n",
       "    </tr>\n",
       "    <tr>\n",
       "      <th>Gr nentorgasse 30 09 Alsergrund 1090 Vienna Austria</th>\n",
       "      <td>0</td>\n",
       "      <td>0</td>\n",
       "    </tr>\n",
       "    <tr>\n",
       "      <th>Hasenauerstra e 12 19 D bling 1190 Vienna Austria</th>\n",
       "      <td>0</td>\n",
       "      <td>0</td>\n",
       "    </tr>\n",
       "    <tr>\n",
       "      <th>Josefst dter Stra e 10 12 08 Josefstadt 1080 Vienna Austria</th>\n",
       "      <td>0</td>\n",
       "      <td>0</td>\n",
       "    </tr>\n",
       "    <tr>\n",
       "      <th>Josefst dter Stra e 22 08 Josefstadt 1080 Vienna Austria</th>\n",
       "      <td>0</td>\n",
       "      <td>0</td>\n",
       "    </tr>\n",
       "    <tr>\n",
       "      <th>Landstra er G rtel 5 03 Landstra e 1030 Vienna Austria</th>\n",
       "      <td>0</td>\n",
       "      <td>0</td>\n",
       "    </tr>\n",
       "    <tr>\n",
       "      <th>Paragonstra e 1 11 Simmering 1110 Vienna Austria</th>\n",
       "      <td>0</td>\n",
       "      <td>0</td>\n",
       "    </tr>\n",
       "    <tr>\n",
       "      <th>Pau Clar s 122 Eixample 08009 Barcelona Spain</th>\n",
       "      <td>0</td>\n",
       "      <td>0</td>\n",
       "    </tr>\n",
       "    <tr>\n",
       "      <th>Savoyenstra e 2 16 Ottakring 1160 Vienna Austria</th>\n",
       "      <td>0</td>\n",
       "      <td>0</td>\n",
       "    </tr>\n",
       "    <tr>\n",
       "      <th>Sep lveda 180 Eixample 08011 Barcelona Spain</th>\n",
       "      <td>0</td>\n",
       "      <td>0</td>\n",
       "    </tr>\n",
       "    <tr>\n",
       "      <th>Sieveringer Stra e 4 19 D bling 1190 Vienna Austria</th>\n",
       "      <td>0</td>\n",
       "      <td>0</td>\n",
       "    </tr>\n",
       "    <tr>\n",
       "      <th>Taborstra e 8 A 02 Leopoldstadt 1020 Vienna Austria</th>\n",
       "      <td>0</td>\n",
       "      <td>0</td>\n",
       "    </tr>\n",
       "    <tr>\n",
       "      <th>W hringer Stra e 12 09 Alsergrund 1090 Vienna Austria</th>\n",
       "      <td>0</td>\n",
       "      <td>0</td>\n",
       "    </tr>\n",
       "    <tr>\n",
       "      <th>W hringer Stra e 33 35 09 Alsergrund 1090 Vienna Austria</th>\n",
       "      <td>0</td>\n",
       "      <td>0</td>\n",
       "    </tr>\n",
       "  </tbody>\n",
       "</table>\n",
       "</div>"
      ],
      "text/plain": [
       "                                                    lat  lng\n",
       "hotel_address                                               \n",
       "20 Rue De La Ga t 14th arr 75014 Paris France         0    0\n",
       "23 Rue Damr mont 18th arr 75018 Paris France          0    0\n",
       "4 rue de la P pini re 8th arr 75008 Paris France      0    0\n",
       "Bail n 4 6 Eixample 08010 Barcelona Spain             0    0\n",
       "Gr nentorgasse 30 09 Alsergrund 1090 Vienna Aus...    0    0\n",
       "Hasenauerstra e 12 19 D bling 1190 Vienna Austria     0    0\n",
       "Josefst dter Stra e 10 12 08 Josefstadt 1080 Vi...    0    0\n",
       "Josefst dter Stra e 22 08 Josefstadt 1080 Vienn...    0    0\n",
       "Landstra er G rtel 5 03 Landstra e 1030 Vienna ...    0    0\n",
       "Paragonstra e 1 11 Simmering 1110 Vienna Austria      0    0\n",
       "Pau Clar s 122 Eixample 08009 Barcelona Spain         0    0\n",
       "Savoyenstra e 2 16 Ottakring 1160 Vienna Austria      0    0\n",
       "Sep lveda 180 Eixample 08011 Barcelona Spain          0    0\n",
       "Sieveringer Stra e 4 19 D bling 1190 Vienna Aus...    0    0\n",
       "Taborstra e 8 A 02 Leopoldstadt 1020 Vienna Aus...    0    0\n",
       "W hringer Stra e 12 09 Alsergrund 1090 Vienna A...    0    0\n",
       "W hringer Stra e 33 35 09 Alsergrund 1090 Vienn...    0    0"
      ]
     },
     "execution_count": 175,
     "metadata": {},
     "output_type": "execute_result"
    }
   ],
   "source": [
    "df_coord = n_hotels[n_hotels['lat'].isnull()].groupby('hotel_address').count()[['lat','lng']]\n",
    "df_coord"
   ]
  },
  {
   "attachments": {},
   "cell_type": "markdown",
   "metadata": {},
   "source": [
    "Преобразуем адреса"
   ]
  },
  {
   "cell_type": "code",
   "execution_count": 176,
   "metadata": {},
   "outputs": [
    {
     "data": {
      "text/plain": [
       "['75014 Paris France',\n",
       " '75018 Paris France',\n",
       " '75008 Paris France',\n",
       " '08010 Barcelona Spain',\n",
       " '1090 Vienna Austria',\n",
       " '1190 Vienna Austria',\n",
       " '1080 Vienna Austria',\n",
       " '1080 Vienna Austria',\n",
       " '1030 Vienna Austria',\n",
       " '1110 Vienna Austria',\n",
       " '08009 Barcelona Spain',\n",
       " '1160 Vienna Austria',\n",
       " '08011 Barcelona Spain',\n",
       " '1190 Vienna Austria',\n",
       " '1020 Vienna Austria',\n",
       " '1090 Vienna Austria',\n",
       " '1090 Vienna Austria']"
      ]
     },
     "execution_count": 176,
     "metadata": {},
     "output_type": "execute_result"
    }
   ],
   "source": [
    "list_address = list(df_coord.index)\n",
    "clean_adress = list()\n",
    "for i in list_address:\n",
    "    adress = i.split(' ')[-3:]\n",
    "    clean_adress.append(' '.join(adress))\n",
    "    \n",
    "clean_adress"
   ]
  },
  {
   "attachments": {},
   "cell_type": "markdown",
   "metadata": {},
   "source": [
    "Теперь определим координаты с помощью библиотеки **geopy**"
   ]
  },
  {
   "cell_type": "code",
   "execution_count": 177,
   "metadata": {},
   "outputs": [
    {
     "name": "stdout",
     "output_type": "stream",
     "text": [
      "KG Alsergrund, Alsergrund, Wien, 1090, Österreich\n",
      "48.22507295 16.35839764159848\n"
     ]
    },
    {
     "data": {
      "text/plain": [
       "[[48.8588897, 2.3200410217200766],\n",
       " [48.8534951, 2.3483915],\n",
       " [48.8588897, 2.3200410217200766],\n",
       " [41.3828939, 2.1774322],\n",
       " [48.2083537, 16.3725042],\n",
       " [48.2083537, 16.3725042],\n",
       " [48.2083537, 16.3725042],\n",
       " [48.2083537, 16.3725042],\n",
       " [48.2083537, 16.3725042],\n",
       " [48.2083537, 16.3725042],\n",
       " [41.3828939, 2.1774322],\n",
       " [48.2083537, 16.3725042],\n",
       " [41.3828939, 2.1774322],\n",
       " [48.2083537, 16.3725042],\n",
       " [48.2083537, 16.3725042],\n",
       " [48.2083537, 16.3725042],\n",
       " [48.2083537, 16.3725042]]"
      ]
     },
     "execution_count": 177,
     "metadata": {},
     "output_type": "execute_result"
    }
   ],
   "source": [
    "from geopy.geocoders import Nominatim #Подключаем библиотеку\n",
    "\n",
    "# Пример \n",
    "geolocator = Nominatim(user_agent=\"Tester\") #Указываем название приложения \n",
    "adress = str('Alsergrund 1090 Vienna Austria') #Получаем интересующий нас адрес\n",
    "location = geolocator.geocode(adress) #Создаем переменную, которая состоит из нужного нам адреса\n",
    "\n",
    "print(location.address) #Выводим результат: адрес в полном виде\n",
    "print(location.latitude, location.longitude) #И теперь выводим GPS-координаты нужного нам адреса\n",
    "\n",
    "# Применяем к адресам\n",
    "lat_long = list()\n",
    "clean_adress\n",
    "for i in clean_adress:\n",
    "    adress = str(i) \n",
    "    location = geolocator.geocode(adress) \n",
    "    lat_long.append([location.latitude, location.longitude])\n",
    "lat_long"
   ]
  },
  {
   "attachments": {},
   "cell_type": "markdown",
   "metadata": {},
   "source": [
    "Заменим пустые координаты"
   ]
  },
  {
   "attachments": {},
   "cell_type": "markdown",
   "metadata": {},
   "source": [
    "**update** - Изменяет на месте, используя значения, отличные от NA, из другого кадра данных. Выравнивает по индексам. Нет возвращаемого значения."
   ]
  },
  {
   "cell_type": "code",
   "execution_count": 178,
   "metadata": {},
   "outputs": [],
   "source": [
    "# Переносим данные в наш основной датафрейм.\n",
    "n_hotels = n_hotels.set_index('hotel_address') # Создаем индексы по адресам\n",
    "n_hotels.update(df_coord) # Добавляем по адресам данные координат\n",
    "n_hotels = n_hotels.reset_index() # Обновляем индексы "
   ]
  },
  {
   "attachments": {},
   "cell_type": "markdown",
   "metadata": {},
   "source": [
    "Проверим пропуски"
   ]
  },
  {
   "cell_type": "code",
   "execution_count": 179,
   "metadata": {},
   "outputs": [
    {
     "data": {
      "text/plain": [
       "lat    0\n",
       "lng    0\n",
       "dtype: int64"
      ]
     },
     "execution_count": 179,
     "metadata": {},
     "output_type": "execute_result"
    }
   ],
   "source": [
    "n_hotels.isnull().sum()[['lat','lng']]"
   ]
  },
  {
   "attachments": {},
   "cell_type": "markdown",
   "metadata": {},
   "source": [
    "#### Для оценки значимости категориальных переменных будем использовать изученный нами непараметрический тест **хи-квадрат**"
   ]
  },
  {
   "attachments": {},
   "cell_type": "markdown",
   "metadata": {},
   "source": [
    "#### Разделим признаки по типу"
   ]
  },
  {
   "cell_type": "code",
   "execution_count": 180,
   "metadata": {},
   "outputs": [
    {
     "data": {
      "text/plain": [
       "(['additional_number_of_scoring',\n",
       "  'average_score',\n",
       "  'review_total_negative_word_counts',\n",
       "  'total_number_of_reviews',\n",
       "  'review_total_positive_word_counts',\n",
       "  'total_number_of_reviews_reviewer_has_given',\n",
       "  'lat',\n",
       "  'lng',\n",
       "  'sample'],\n",
       " ['hotel_address',\n",
       "  'review_date',\n",
       "  'hotel_name',\n",
       "  'reviewer_nationality',\n",
       "  'negative_review',\n",
       "  'positive_review',\n",
       "  'tags',\n",
       "  'days_since_review',\n",
       "  'reviewer_score'])"
      ]
     },
     "execution_count": 180,
     "metadata": {},
     "output_type": "execute_result"
    }
   ],
   "source": [
    "# непрерывные признаки\n",
    "num = [i for i in data.columns if (data[i].dtype == 'int64' or data[i].dtype == 'float64') and i != 'reviewer_score']\n",
    "\n",
    "# категориальные признаки\n",
    "cat = list(data.drop(columns=num, axis=1))\n",
    "num, cat"
   ]
  },
  {
   "attachments": {},
   "cell_type": "markdown",
   "metadata": {},
   "source": [
    "#### Для поиска аномалий и выбросов построим графики распределения числовых признаков"
   ]
  },
  {
   "cell_type": "code",
   "execution_count": 181,
   "metadata": {},
   "outputs": [
    {
     "ename": "IndexError",
     "evalue": "index 4 is out of bounds for axis 0 with size 4",
     "output_type": "error",
     "traceback": [
      "\u001b[1;31m---------------------------------------------------------------------------\u001b[0m",
      "\u001b[1;31mIndexError\u001b[0m                                Traceback (most recent call last)",
      "\u001b[1;32m~\\AppData\\Local\\Temp\\ipykernel_8780\\190646216.py\u001b[0m in \u001b[0;36m<module>\u001b[1;34m\u001b[0m\n\u001b[0;32m      9\u001b[0m \u001b[1;32mfor\u001b[0m \u001b[0mindex\u001b[0m\u001b[1;33m,\u001b[0m \u001b[0mvalue\u001b[0m \u001b[1;32min\u001b[0m \u001b[0menumerate\u001b[0m\u001b[1;33m(\u001b[0m\u001b[0mnum\u001b[0m\u001b[1;33m[\u001b[0m\u001b[0mhalf_features\u001b[0m\u001b[1;33m:\u001b[0m\u001b[1;33m]\u001b[0m\u001b[1;33m)\u001b[0m\u001b[1;33m:\u001b[0m\u001b[1;33m\u001b[0m\u001b[1;33m\u001b[0m\u001b[0m\n\u001b[0;32m     10\u001b[0m     plot_num = sns.histplot(data= n_hotels[value],\n\u001b[1;32m---> 11\u001b[1;33m                             ax= ax[1][index])\n\u001b[0m",
      "\u001b[1;31mIndexError\u001b[0m: index 4 is out of bounds for axis 0 with size 4"
     ]
    },
    {
     "data": {
      "image/png": "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",
      "text/plain": [
       "<Figure size 1500x1000 with 8 Axes>"
      ]
     },
     "metadata": {},
     "output_type": "display_data"
    }
   ],
   "source": [
    "fig, ax = plt.subplots(2,4,figsize=(15, 10))\n",
    "\n",
    "# Построим графики распределения числовых признаков\n",
    "half_features = int(len(num)/2) \n",
    "for index, value in enumerate(num[0:half_features]):\n",
    "    plot_num = sns.histplot(data= n_hotels[value],\n",
    "                            ax= ax[0][index])\n",
    "    \n",
    "for index, value in enumerate(num[half_features:]):\n",
    "    plot_num = sns.histplot(data= n_hotels[value],\n",
    "                            ax= ax[1][index])"
   ]
  },
  {
   "attachments": {},
   "cell_type": "markdown",
   "metadata": {},
   "source": [
    "По графикам видно, что в признаках есть аномальные значения"
   ]
  },
  {
   "attachments": {},
   "cell_type": "markdown",
   "metadata": {},
   "source": [
    "#### Используем метод 3х сигм (метод тьюки) для определения выбросов в числовых признаках"
   ]
  },
  {
   "cell_type": "code",
   "execution_count": null,
   "metadata": {},
   "outputs": [],
   "source": [
    "data_cleaner = pd.DataFrame()\n",
    "\n",
    "def outliers_iqr(data, feature):\n",
    "    x = data[feature]\n",
    "    quartile_1, quartile_3 = x.quantile(0.25), x.quantile(0.75),\n",
    "    iqr = quartile_3 - quartile_1\n",
    "    lower_bound = quartile_1 - (iqr * 8) # умнажая iqr на меньшее число, уменьшим диапазон усов (больше очистим)\n",
    "    # ослабить границы метода Тьюки можно справа или усилить слева и наоборот. \n",
    "    upper_bound = quartile_3 + (iqr * 8) \n",
    "    outliers = data[(x<lower_bound) | (x > upper_bound)]\n",
    "    cleaned = data[(x>lower_bound) & (x < upper_bound)]\n",
    "    \n",
    "    data_cleaner[feature] = cleaned[feature]\n",
    "    return outliers, cleaned\n",
    "\n",
    "for feature in num:\n",
    "        outliers, cleaned = outliers_iqr(n_hotels, feature)"
   ]
  },
  {
   "cell_type": "code",
   "execution_count": null,
   "metadata": {},
   "outputs": [
    {
     "data": {
      "text/plain": [
       "additional_number_of_scoring                     0\n",
       "average_score                                    0\n",
       "review_total_negative_word_counts             2305\n",
       "total_number_of_reviews                          0\n",
       "review_total_positive_word_counts             1432\n",
       "total_number_of_reviews_reviewer_has_given    2940\n",
       "lat                                           3268\n",
       "lng                                              0\n",
       "sample                                           0\n",
       "dtype: int64"
      ]
     },
     "execution_count": 34,
     "metadata": {},
     "output_type": "execute_result"
    }
   ],
   "source": [
    "data_cleaner.isnull().sum()"
   ]
  },
  {
   "attachments": {},
   "cell_type": "markdown",
   "metadata": {},
   "source": [
    "Внесем полученные очищенные столбцы в датасет"
   ]
  },
  {
   "cell_type": "code",
   "execution_count": null,
   "metadata": {},
   "outputs": [
    {
     "name": "stdout",
     "output_type": "stream",
     "text": [
      "additional_number_of_scoring                     0\n",
      "average_score                                    0\n",
      "review_total_negative_word_counts             2305\n",
      "total_number_of_reviews                          0\n",
      "review_total_positive_word_counts             1432\n",
      "total_number_of_reviews_reviewer_has_given    2940\n",
      "lat                                           3268\n",
      "lng                                              0\n",
      "sample                                           0\n",
      "dtype: int64\n"
     ]
    }
   ],
   "source": [
    "cols_cleaner = list(data_cleaner.columns)\n",
    "n_hotels[cols_cleaner] = data_cleaner[cols_cleaner]\n",
    "\n",
    "print(n_hotels.isnull().sum()[num])"
   ]
  },
  {
   "attachments": {},
   "cell_type": "markdown",
   "metadata": {},
   "source": [
    "**Для лаьнейшей работы, предварительно уберем прропуски**"
   ]
  },
  {
   "attachments": {},
   "cell_type": "markdown",
   "metadata": {},
   "source": [
    "Вариант №1 заполнения медианой"
   ]
  },
  {
   "cell_type": "code",
   "execution_count": 182,
   "metadata": {},
   "outputs": [],
   "source": [
    "median_fill = {\n",
    "            'total_number_of_reviews_reviewer_has_given': n_hotels['total_number_of_reviews_reviewer_has_given'].median(),\n",
    "            'average_score': n_hotels['average_score'].median(),\n",
    "            'review_total_negative_word_counts': n_hotels['review_total_negative_word_counts'].median(),\n",
    "            'total_number_of_reviews': n_hotels['total_number_of_reviews'].median(),\n",
    "            'lat': n_hotels['lat'].median(),\n",
    "            'lng': n_hotels['lng'].median(),\n",
    "            'review_total_positive_word_counts': n_hotels['review_total_positive_word_counts'].median(),\n",
    "            'additional_number_of_scoring':  n_hotels['additional_number_of_scoring'].median()}\n",
    "\n",
    "n_hotels = n_hotels.fillna(median_fill)"
   ]
  },
  {
   "attachments": {},
   "cell_type": "markdown",
   "metadata": {},
   "source": [
    "Вариант №2 удалить строки "
   ]
  },
  {
   "cell_type": "code",
   "execution_count": 26,
   "metadata": {},
   "outputs": [
    {
     "name": "stdout",
     "output_type": "stream",
     "text": [
      "additional_number_of_scoring                  0\n",
      "average_score                                 0\n",
      "review_total_negative_word_counts             0\n",
      "total_number_of_reviews                       0\n",
      "review_total_positive_word_counts             0\n",
      "total_number_of_reviews_reviewer_has_given    0\n",
      "lat                                           0\n",
      "lng                                           0\n",
      "sample                                        0\n",
      "dtype: int64\n"
     ]
    }
   ],
   "source": [
    "n_hotels = n_hotels.dropna(how='any', axis=0)\n",
    "print(n_hotels[cols_cleaner].isnull().sum())"
   ]
  },
  {
   "attachments": {},
   "cell_type": "markdown",
   "metadata": {},
   "source": [
    "#### Разделим данные на выборки (тестовая и обучения)"
   ]
  },
  {
   "cell_type": "code",
   "execution_count": 183,
   "metadata": {},
   "outputs": [],
   "source": [
    "# Загружаем специальный инструмент для разбивки:  \n",
    "from sklearn.model_selection import train_test_split  "
   ]
  },
  {
   "cell_type": "code",
   "execution_count": 184,
   "metadata": {},
   "outputs": [],
   "source": [
    "X = n_hotels.drop(['reviewer_score'], axis = 1)  \n",
    "y = n_hotels['reviewer_score']\n",
    "\n",
    "X_train, X_test, y_train, y_test = train_test_split(X, y, test_size=0.25, random_state=42)"
   ]
  },
  {
   "cell_type": "code",
   "execution_count": 185,
   "metadata": {},
   "outputs": [],
   "source": [
    "from sklearn.feature_selection import chi2 # хи-квадрат. Максимум 3 признака\n",
    "# Показывает насколько признаки влияют на один указанный признак"
   ]
  },
  {
   "cell_type": "code",
   "execution_count": 186,
   "metadata": {},
   "outputs": [
    {
     "data": {
      "image/png": "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",
      "text/plain": [
       "<Figure size 640x480 with 1 Axes>"
      ]
     },
     "metadata": {},
     "output_type": "display_data"
    }
   ],
   "source": [
    "y=y.astype('int') # - Целевой признак, оценка отеля \"reviewer_score\"\n",
    "\n",
    "# категориальные признаки (закодированные) признаки, максимум 3\n",
    "num_cols = ['lat','average_score']\n",
    "\n",
    "imp_cat = pd.Series(chi2(X[num_cols], y)[0], index=num_cols)\n",
    "imp_cat.sort_values(inplace = True)\n",
    "imp_cat.plot(kind = 'barh');"
   ]
  },
  {
   "attachments": {},
   "cell_type": "markdown",
   "metadata": {},
   "source": [
    "По графику важности категориальных признаков мы можем понять, что признак average_score важнее, чем lat, в определении рейтинга отеля:"
   ]
  },
  {
   "attachments": {},
   "cell_type": "markdown",
   "metadata": {},
   "source": [
    "#### Сравним несколько категориальных признаков для оценки значимости непрерывной переменной \"reviewer_score\""
   ]
  },
  {
   "cell_type": "code",
   "execution_count": 187,
   "metadata": {},
   "outputs": [],
   "source": [
    "from sklearn.feature_selection import f_classif # на основе anova, можно оценить значимость для непрерывных признаков"
   ]
  },
  {
   "cell_type": "code",
   "execution_count": 188,
   "metadata": {},
   "outputs": [
    {
     "name": "stderr",
     "output_type": "stream",
     "text": [
      "c:\\Users\\ilya\\anaconda3\\lib\\site-packages\\sklearn\\feature_selection\\_univariate_selection.py:113: RuntimeWarning: divide by zero encountered in true_divide\n",
      "  f = msb / msw\n"
     ]
    },
    {
     "data": {
      "image/png": "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",
      "text/plain": [
       "<Figure size 640x480 with 1 Axes>"
      ]
     },
     "metadata": {},
     "output_type": "display_data"
    }
   ],
   "source": [
    "imp_num = pd.Series(f_classif(X[num], y)[0], index = num)\n",
    "imp_num.sort_values(inplace = True)\n",
    "imp_num.plot(kind = 'barh');"
   ]
  },
  {
   "attachments": {},
   "cell_type": "markdown",
   "metadata": {},
   "source": [
    "По  графику важности категориальных переменных мы можем понять, что признак review_total_negative_word_counts важнее, чем total_number_of_reviews и average_score, в определении рейтинга отеля"
   ]
  },
  {
   "attachments": {},
   "cell_type": "markdown",
   "metadata": {},
   "source": [
    "## Закодируем признаки"
   ]
  },
  {
   "cell_type": "code",
   "execution_count": 189,
   "metadata": {},
   "outputs": [],
   "source": [
    "import category_encoders as ce \n",
    "# Для кодирования категорий: Порядковые-ce.OrdinalEncoder(), номинал-OneHotEncoder,бинарного-BinaryEncoder"
   ]
  },
  {
   "attachments": {},
   "cell_type": "markdown",
   "metadata": {},
   "source": [
    "### Работа с текстовыми данными. Признаки 'positive_review' и 'negative_review'"
   ]
  },
  {
   "cell_type": "markdown",
   "metadata": {},
   "source": [
    "SentimentIntensityAnalyzer - Модуль позволяет найти интонации в тексте, выяивить негативные/нейтральные/положительные слова"
   ]
  },
  {
   "cell_type": "code",
   "execution_count": 190,
   "metadata": {},
   "outputs": [
    {
     "name": "stderr",
     "output_type": "stream",
     "text": [
      "[nltk_data] Downloading package vader_lexicon to\n",
      "[nltk_data]     C:\\Users\\ilya\\AppData\\Roaming\\nltk_data...\n",
      "[nltk_data]   Package vader_lexicon is already up-to-date!\n"
     ]
    }
   ],
   "source": [
    "import nltk\n",
    "nltk.download('vader_lexicon')\n",
    "from nltk.sentiment.vader import SentimentIntensityAnalyzer\n",
    "\n",
    "sid = SentimentIntensityAnalyzer()"
   ]
  },
  {
   "cell_type": "code",
   "execution_count": 191,
   "metadata": {},
   "outputs": [],
   "source": [
    "n_hotels['scores_negative'] = n_hotels['negative_review'].apply(lambda negative_review: sid.polarity_scores(negative_review))\n",
    "n_hotels['scores_positive'] = n_hotels['positive_review'].apply(lambda positive_review: sid.polarity_scores(positive_review))"
   ]
  },
  {
   "cell_type": "code",
   "execution_count": 199,
   "metadata": {},
   "outputs": [
    {
     "data": {
      "text/plain": [
       "0         {'neg': 0.0, 'neu': 0.671, 'pos': 0.329, 'comp...\n",
       "1         {'neg': 0.379, 'neu': 0.0, 'pos': 0.621, 'comp...\n",
       "2         {'neg': 0.0, 'neu': 0.26, 'pos': 0.74, 'compou...\n",
       "3         {'neg': 0.0, 'neu': 0.621, 'pos': 0.379, 'comp...\n",
       "4         {'neg': 0.0, 'neu': 0.23, 'pos': 0.77, 'compou...\n",
       "                                ...                        \n",
       "515733    {'neg': 0.0, 'neu': 1.0, 'pos': 0.0, 'compound...\n",
       "515734    {'neg': 0.045, 'neu': 0.857, 'pos': 0.098, 'co...\n",
       "515735    {'neg': 0.0, 'neu': 0.465, 'pos': 0.535, 'comp...\n",
       "515736    {'neg': 0.0, 'neu': 1.0, 'pos': 0.0, 'compound...\n",
       "515737    {'neg': 0.0, 'neu': 0.458, 'pos': 0.542, 'comp...\n",
       "Name: scores_positive, Length: 515738, dtype: object"
      ]
     },
     "execution_count": 199,
     "metadata": {},
     "output_type": "execute_result"
    }
   ],
   "source": [
    "n_hotels['scores_positive']"
   ]
  },
  {
   "cell_type": "code",
   "execution_count": 200,
   "metadata": {},
   "outputs": [],
   "source": [
    "n_hotels['negative_neg'] = n_hotels['scores_negative'].apply(lambda arg: list((arg).values())[0])\n",
    "n_hotels['negative_neu'] = n_hotels['scores_negative'].apply(lambda arg: list((arg).values())[1])\n",
    "n_hotels['negative_pos'] = n_hotels['scores_negative'].apply(lambda arg: list((arg).values())[2])\n",
    "n_hotels['negative_compound'] = n_hotels['scores_negative'].apply(lambda arg: list((arg).values())[-1])"
   ]
  },
  {
   "cell_type": "code",
   "execution_count": 201,
   "metadata": {},
   "outputs": [],
   "source": [
    "n_hotels['positive_neg'] = n_hotels['scores_positive'].apply(lambda arg: list((arg).values())[0])\n",
    "n_hotels['positive_neu'] = n_hotels['scores_positive'].apply(lambda arg: list((arg).values())[1])\n",
    "n_hotels['positive_pos'] = n_hotels['scores_positive'].apply(lambda arg: list((arg).values())[2])\n",
    "n_hotels['positive_compound'] = n_hotels['scores_positive'].apply(lambda arg: list((arg).values())[-1])"
   ]
  },
  {
   "cell_type": "code",
   "execution_count": 203,
   "metadata": {},
   "outputs": [
    {
     "data": {
      "text/plain": [
       "0         0.329\n",
       "1         0.621\n",
       "2         0.740\n",
       "3         0.379\n",
       "4         0.770\n",
       "          ...  \n",
       "515733    0.000\n",
       "515734    0.098\n",
       "515735    0.535\n",
       "515736    0.000\n",
       "515737    0.542\n",
       "Name: positive_pos, Length: 515738, dtype: float64"
      ]
     },
     "execution_count": 203,
     "metadata": {},
     "output_type": "execute_result"
    }
   ],
   "source": [
    "n_hotels['positive_pos']"
   ]
  },
  {
   "attachments": {},
   "cell_type": "markdown",
   "metadata": {},
   "source": [
    "#### Теперь закодируем остальные признаки"
   ]
  },
  {
   "cell_type": "code",
   "execution_count": 192,
   "metadata": {},
   "outputs": [
    {
     "data": {
      "text/html": [
       "<div>\n",
       "<style scoped>\n",
       "    .dataframe tbody tr th:only-of-type {\n",
       "        vertical-align: middle;\n",
       "    }\n",
       "\n",
       "    .dataframe tbody tr th {\n",
       "        vertical-align: top;\n",
       "    }\n",
       "\n",
       "    .dataframe thead th {\n",
       "        text-align: right;\n",
       "    }\n",
       "</style>\n",
       "<table border=\"1\" class=\"dataframe\">\n",
       "  <thead>\n",
       "    <tr style=\"text-align: right;\">\n",
       "      <th></th>\n",
       "      <th>review_date_0</th>\n",
       "      <th>review_date_1</th>\n",
       "      <th>review_date_2</th>\n",
       "      <th>review_date_3</th>\n",
       "      <th>review_date_4</th>\n",
       "      <th>review_date_5</th>\n",
       "      <th>review_date_6</th>\n",
       "      <th>review_date_7</th>\n",
       "      <th>review_date_8</th>\n",
       "      <th>review_date_9</th>\n",
       "      <th>...</th>\n",
       "      <th>hotel_name_9</th>\n",
       "      <th>hotel_name_10</th>\n",
       "      <th>reviewer_nationality_0</th>\n",
       "      <th>reviewer_nationality_1</th>\n",
       "      <th>reviewer_nationality_2</th>\n",
       "      <th>reviewer_nationality_3</th>\n",
       "      <th>reviewer_nationality_4</th>\n",
       "      <th>reviewer_nationality_5</th>\n",
       "      <th>reviewer_nationality_6</th>\n",
       "      <th>reviewer_nationality_7</th>\n",
       "    </tr>\n",
       "  </thead>\n",
       "  <tbody>\n",
       "    <tr>\n",
       "      <th>0</th>\n",
       "      <td>0</td>\n",
       "      <td>0</td>\n",
       "      <td>0</td>\n",
       "      <td>0</td>\n",
       "      <td>0</td>\n",
       "      <td>0</td>\n",
       "      <td>0</td>\n",
       "      <td>0</td>\n",
       "      <td>0</td>\n",
       "      <td>1</td>\n",
       "      <td>...</td>\n",
       "      <td>0</td>\n",
       "      <td>1</td>\n",
       "      <td>0</td>\n",
       "      <td>0</td>\n",
       "      <td>0</td>\n",
       "      <td>0</td>\n",
       "      <td>0</td>\n",
       "      <td>0</td>\n",
       "      <td>0</td>\n",
       "      <td>1</td>\n",
       "    </tr>\n",
       "    <tr>\n",
       "      <th>1</th>\n",
       "      <td>0</td>\n",
       "      <td>0</td>\n",
       "      <td>0</td>\n",
       "      <td>0</td>\n",
       "      <td>0</td>\n",
       "      <td>0</td>\n",
       "      <td>0</td>\n",
       "      <td>0</td>\n",
       "      <td>1</td>\n",
       "      <td>0</td>\n",
       "      <td>...</td>\n",
       "      <td>1</td>\n",
       "      <td>0</td>\n",
       "      <td>0</td>\n",
       "      <td>0</td>\n",
       "      <td>0</td>\n",
       "      <td>0</td>\n",
       "      <td>0</td>\n",
       "      <td>0</td>\n",
       "      <td>1</td>\n",
       "      <td>0</td>\n",
       "    </tr>\n",
       "    <tr>\n",
       "      <th>2</th>\n",
       "      <td>0</td>\n",
       "      <td>0</td>\n",
       "      <td>0</td>\n",
       "      <td>0</td>\n",
       "      <td>0</td>\n",
       "      <td>0</td>\n",
       "      <td>0</td>\n",
       "      <td>0</td>\n",
       "      <td>1</td>\n",
       "      <td>1</td>\n",
       "      <td>...</td>\n",
       "      <td>1</td>\n",
       "      <td>1</td>\n",
       "      <td>0</td>\n",
       "      <td>0</td>\n",
       "      <td>0</td>\n",
       "      <td>0</td>\n",
       "      <td>0</td>\n",
       "      <td>0</td>\n",
       "      <td>1</td>\n",
       "      <td>1</td>\n",
       "    </tr>\n",
       "    <tr>\n",
       "      <th>3</th>\n",
       "      <td>0</td>\n",
       "      <td>0</td>\n",
       "      <td>0</td>\n",
       "      <td>0</td>\n",
       "      <td>0</td>\n",
       "      <td>0</td>\n",
       "      <td>0</td>\n",
       "      <td>1</td>\n",
       "      <td>0</td>\n",
       "      <td>0</td>\n",
       "      <td>...</td>\n",
       "      <td>0</td>\n",
       "      <td>0</td>\n",
       "      <td>0</td>\n",
       "      <td>0</td>\n",
       "      <td>0</td>\n",
       "      <td>0</td>\n",
       "      <td>0</td>\n",
       "      <td>1</td>\n",
       "      <td>0</td>\n",
       "      <td>0</td>\n",
       "    </tr>\n",
       "    <tr>\n",
       "      <th>4</th>\n",
       "      <td>0</td>\n",
       "      <td>0</td>\n",
       "      <td>0</td>\n",
       "      <td>0</td>\n",
       "      <td>0</td>\n",
       "      <td>0</td>\n",
       "      <td>0</td>\n",
       "      <td>1</td>\n",
       "      <td>0</td>\n",
       "      <td>1</td>\n",
       "      <td>...</td>\n",
       "      <td>0</td>\n",
       "      <td>1</td>\n",
       "      <td>0</td>\n",
       "      <td>0</td>\n",
       "      <td>0</td>\n",
       "      <td>0</td>\n",
       "      <td>0</td>\n",
       "      <td>0</td>\n",
       "      <td>0</td>\n",
       "      <td>1</td>\n",
       "    </tr>\n",
       "  </tbody>\n",
       "</table>\n",
       "<p>5 rows × 29 columns</p>\n",
       "</div>"
      ],
      "text/plain": [
       "   review_date_0  review_date_1  review_date_2  review_date_3  review_date_4  \\\n",
       "0              0              0              0              0              0   \n",
       "1              0              0              0              0              0   \n",
       "2              0              0              0              0              0   \n",
       "3              0              0              0              0              0   \n",
       "4              0              0              0              0              0   \n",
       "\n",
       "   review_date_5  review_date_6  review_date_7  review_date_8  review_date_9  \\\n",
       "0              0              0              0              0              1   \n",
       "1              0              0              0              1              0   \n",
       "2              0              0              0              1              1   \n",
       "3              0              0              1              0              0   \n",
       "4              0              0              1              0              1   \n",
       "\n",
       "   ...  hotel_name_9  hotel_name_10  reviewer_nationality_0  \\\n",
       "0  ...             0              1                       0   \n",
       "1  ...             1              0                       0   \n",
       "2  ...             1              1                       0   \n",
       "3  ...             0              0                       0   \n",
       "4  ...             0              1                       0   \n",
       "\n",
       "   reviewer_nationality_1  reviewer_nationality_2  reviewer_nationality_3  \\\n",
       "0                       0                       0                       0   \n",
       "1                       0                       0                       0   \n",
       "2                       0                       0                       0   \n",
       "3                       0                       0                       0   \n",
       "4                       0                       0                       0   \n",
       "\n",
       "   reviewer_nationality_4  reviewer_nationality_5  reviewer_nationality_6  \\\n",
       "0                       0                       0                       0   \n",
       "1                       0                       0                       1   \n",
       "2                       0                       0                       1   \n",
       "3                       0                       1                       0   \n",
       "4                       0                       0                       0   \n",
       "\n",
       "   reviewer_nationality_7  \n",
       "0                       1  \n",
       "1                       0  \n",
       "2                       1  \n",
       "3                       0  \n",
       "4                       1  \n",
       "\n",
       "[5 rows x 29 columns]"
      ]
     },
     "metadata": {},
     "output_type": "display_data"
    }
   ],
   "source": [
    "# Признаки для кодировки\n",
    "cols_binar = ['review_date','hotel_name','reviewer_nationality']\n",
    "\n",
    "bin_coder = ce.BinaryEncoder(cols=cols_binar)\n",
    "coding = bin_coder.fit_transform(n_hotels[cols_binar])\n",
    "display(coding.head(5))\n",
    "\n",
    "cols_drop = ['hotel_address','tags','review_date','hotel_name','reviewer_nationality']\n",
    "n_hotels = n_hotels.drop(cols_drop,axis=1)"
   ]
  },
  {
   "cell_type": "code",
   "execution_count": 193,
   "metadata": {},
   "outputs": [
    {
     "data": {
      "text/html": [
       "<div>\n",
       "<style scoped>\n",
       "    .dataframe tbody tr th:only-of-type {\n",
       "        vertical-align: middle;\n",
       "    }\n",
       "\n",
       "    .dataframe tbody tr th {\n",
       "        vertical-align: top;\n",
       "    }\n",
       "\n",
       "    .dataframe thead th {\n",
       "        text-align: right;\n",
       "    }\n",
       "</style>\n",
       "<table border=\"1\" class=\"dataframe\">\n",
       "  <thead>\n",
       "    <tr style=\"text-align: right;\">\n",
       "      <th></th>\n",
       "      <th>additional_number_of_scoring</th>\n",
       "      <th>average_score</th>\n",
       "      <th>negative_review</th>\n",
       "      <th>review_total_negative_word_counts</th>\n",
       "      <th>total_number_of_reviews</th>\n",
       "      <th>positive_review</th>\n",
       "      <th>review_total_positive_word_counts</th>\n",
       "      <th>total_number_of_reviews_reviewer_has_given</th>\n",
       "      <th>days_since_review</th>\n",
       "      <th>lat</th>\n",
       "      <th>...</th>\n",
       "      <th>Studio</th>\n",
       "      <th>Superior Double or Twin Room 1 2 Adults</th>\n",
       "      <th>Twin Hilton Guest Room</th>\n",
       "      <th>Family Room 2 Adults 2 Children</th>\n",
       "      <th>Studio King Family</th>\n",
       "      <th>Compact Double Room</th>\n",
       "      <th>year</th>\n",
       "      <th>season</th>\n",
       "      <th>scores_negative</th>\n",
       "      <th>scores_positive</th>\n",
       "    </tr>\n",
       "  </thead>\n",
       "  <tbody>\n",
       "    <tr>\n",
       "      <th>0</th>\n",
       "      <td>904</td>\n",
       "      <td>8.1</td>\n",
       "      <td>Would have appreciated a shop in the hotel th...</td>\n",
       "      <td>52</td>\n",
       "      <td>16670</td>\n",
       "      <td>Hotel was great clean friendly staff free bre...</td>\n",
       "      <td>62</td>\n",
       "      <td>1</td>\n",
       "      <td>13 days</td>\n",
       "      <td>45.533137</td>\n",
       "      <td>...</td>\n",
       "      <td>0</td>\n",
       "      <td>0</td>\n",
       "      <td>0</td>\n",
       "      <td>0</td>\n",
       "      <td>0</td>\n",
       "      <td>0</td>\n",
       "      <td>2017</td>\n",
       "      <td>summer</td>\n",
       "      <td>{'neg': 0.129, 'neu': 0.747, 'pos': 0.125, 'co...</td>\n",
       "      <td>{'neg': 0.0, 'neu': 0.671, 'pos': 0.329, 'comp...</td>\n",
       "    </tr>\n",
       "    <tr>\n",
       "      <th>1</th>\n",
       "      <td>612</td>\n",
       "      <td>8.6</td>\n",
       "      <td>No tissue paper box was present at the room</td>\n",
       "      <td>10</td>\n",
       "      <td>5018</td>\n",
       "      <td>No Positive</td>\n",
       "      <td>0</td>\n",
       "      <td>7</td>\n",
       "      <td>234 day</td>\n",
       "      <td>52.385649</td>\n",
       "      <td>...</td>\n",
       "      <td>0</td>\n",
       "      <td>0</td>\n",
       "      <td>0</td>\n",
       "      <td>0</td>\n",
       "      <td>0</td>\n",
       "      <td>0</td>\n",
       "      <td>2016</td>\n",
       "      <td>winter</td>\n",
       "      <td>{'neg': 0.216, 'neu': 0.784, 'pos': 0.0, 'comp...</td>\n",
       "      <td>{'neg': 0.379, 'neu': 0.0, 'pos': 0.621, 'comp...</td>\n",
       "    </tr>\n",
       "  </tbody>\n",
       "</table>\n",
       "<p>2 rows × 114 columns</p>\n",
       "</div>"
      ],
      "text/plain": [
       "   additional_number_of_scoring  average_score  \\\n",
       "0                           904            8.1   \n",
       "1                           612            8.6   \n",
       "\n",
       "                                     negative_review  \\\n",
       "0   Would have appreciated a shop in the hotel th...   \n",
       "1        No tissue paper box was present at the room   \n",
       "\n",
       "   review_total_negative_word_counts  total_number_of_reviews  \\\n",
       "0                                 52                    16670   \n",
       "1                                 10                     5018   \n",
       "\n",
       "                                     positive_review  \\\n",
       "0   Hotel was great clean friendly staff free bre...   \n",
       "1                                        No Positive   \n",
       "\n",
       "   review_total_positive_word_counts  \\\n",
       "0                                 62   \n",
       "1                                  0   \n",
       "\n",
       "   total_number_of_reviews_reviewer_has_given days_since_review        lat  \\\n",
       "0                                           1           13 days  45.533137   \n",
       "1                                           7           234 day  52.385649   \n",
       "\n",
       "   ...  Studio  Superior Double or Twin Room 1 2 Adults  \\\n",
       "0  ...       0                                        0   \n",
       "1  ...       0                                        0   \n",
       "\n",
       "   Twin Hilton Guest Room Family Room 2 Adults 2 Children  Studio King Family  \\\n",
       "0                       0                               0                   0   \n",
       "1                       0                               0                   0   \n",
       "\n",
       "   Compact Double Room  year  season  \\\n",
       "0                    0  2017  summer   \n",
       "1                    0  2016  winter   \n",
       "\n",
       "                                     scores_negative  \\\n",
       "0  {'neg': 0.129, 'neu': 0.747, 'pos': 0.125, 'co...   \n",
       "1  {'neg': 0.216, 'neu': 0.784, 'pos': 0.0, 'comp...   \n",
       "\n",
       "                                     scores_positive  \n",
       "0  {'neg': 0.0, 'neu': 0.671, 'pos': 0.329, 'comp...  \n",
       "1  {'neg': 0.379, 'neu': 0.0, 'pos': 0.621, 'comp...  \n",
       "\n",
       "[2 rows x 114 columns]"
      ]
     },
     "execution_count": 193,
     "metadata": {},
     "output_type": "execute_result"
    }
   ],
   "source": [
    "n_hotels.head(2)"
   ]
  },
  {
   "cell_type": "code",
   "execution_count": 194,
   "metadata": {},
   "outputs": [
    {
     "data": {
      "text/html": [
       "<div>\n",
       "<style scoped>\n",
       "    .dataframe tbody tr th:only-of-type {\n",
       "        vertical-align: middle;\n",
       "    }\n",
       "\n",
       "    .dataframe tbody tr th {\n",
       "        vertical-align: top;\n",
       "    }\n",
       "\n",
       "    .dataframe thead th {\n",
       "        text-align: right;\n",
       "    }\n",
       "</style>\n",
       "<table border=\"1\" class=\"dataframe\">\n",
       "  <thead>\n",
       "    <tr style=\"text-align: right;\">\n",
       "      <th></th>\n",
       "      <th>year_0</th>\n",
       "      <th>year_1</th>\n",
       "      <th>season_0</th>\n",
       "      <th>season_1</th>\n",
       "      <th>season_2</th>\n",
       "    </tr>\n",
       "  </thead>\n",
       "  <tbody>\n",
       "    <tr>\n",
       "      <th>0</th>\n",
       "      <td>0</td>\n",
       "      <td>1</td>\n",
       "      <td>0</td>\n",
       "      <td>0</td>\n",
       "      <td>1</td>\n",
       "    </tr>\n",
       "    <tr>\n",
       "      <th>1</th>\n",
       "      <td>1</td>\n",
       "      <td>0</td>\n",
       "      <td>0</td>\n",
       "      <td>1</td>\n",
       "      <td>0</td>\n",
       "    </tr>\n",
       "    <tr>\n",
       "      <th>2</th>\n",
       "      <td>1</td>\n",
       "      <td>1</td>\n",
       "      <td>0</td>\n",
       "      <td>1</td>\n",
       "      <td>1</td>\n",
       "    </tr>\n",
       "    <tr>\n",
       "      <th>3</th>\n",
       "      <td>1</td>\n",
       "      <td>1</td>\n",
       "      <td>0</td>\n",
       "      <td>1</td>\n",
       "      <td>1</td>\n",
       "    </tr>\n",
       "    <tr>\n",
       "      <th>4</th>\n",
       "      <td>1</td>\n",
       "      <td>0</td>\n",
       "      <td>1</td>\n",
       "      <td>0</td>\n",
       "      <td>0</td>\n",
       "    </tr>\n",
       "  </tbody>\n",
       "</table>\n",
       "</div>"
      ],
      "text/plain": [
       "   year_0  year_1  season_0  season_1  season_2\n",
       "0       0       1         0         0         1\n",
       "1       1       0         0         1         0\n",
       "2       1       1         0         1         1\n",
       "3       1       1         0         1         1\n",
       "4       1       0         1         0         0"
      ]
     },
     "metadata": {},
     "output_type": "display_data"
    }
   ],
   "source": [
    "# Полученные Признаки для кодировки\n",
    "cols_binar = ['year','season']\n",
    "\n",
    "bin_coder = ce.BinaryEncoder(cols=cols_binar)\n",
    "coding = bin_coder.fit_transform(n_hotels[cols_binar])\n",
    "display(coding.head(5))\n",
    "\n",
    "cols_drop = ['year','season']\n",
    "n_hotels = n_hotels.drop(cols_drop,axis=1)"
   ]
  },
  {
   "cell_type": "code",
   "execution_count": 195,
   "metadata": {},
   "outputs": [
    {
     "data": {
      "text/plain": [
       "0          13\n",
       "1         234\n",
       "2         616\n",
       "3         656\n",
       "4         444\n",
       "         ... \n",
       "515733    106\n",
       "515734    171\n",
       "515735    543\n",
       "515736     74\n",
       "515737    363\n",
       "Name: days_since_review_n, Length: 515738, dtype: int64"
      ]
     },
     "metadata": {},
     "output_type": "display_data"
    }
   ],
   "source": [
    "def dd(x):\n",
    "    try:\n",
    "        return int(str(x)[:3])\n",
    "    except ValueError:\n",
    "        return int(str(x)[:2])\n",
    "     \n",
    "n_hotels['days_since_review_n'] = n_hotels['days_since_review'].apply(dd)\n",
    "display(n_hotels['days_since_review_n'])\n",
    "\n",
    "cols_drop = ['days_since_review']\n",
    "n_hotels = n_hotels.drop(cols_drop, axis=1)"
   ]
  },
  {
   "attachments": {},
   "cell_type": "markdown",
   "metadata": {},
   "source": [
    "### Соединяем закодированные данные и удаляем лишнее"
   ]
  },
  {
   "cell_type": "code",
   "execution_count": 208,
   "metadata": {},
   "outputs": [],
   "source": [
    "n_hotels = n_hotels.drop(['tags_n','negative_review','positive_review','scores_negative','scores_positive'], axis=1)"
   ]
  },
  {
   "cell_type": "code",
   "execution_count": 209,
   "metadata": {},
   "outputs": [
    {
     "data": {
      "text/html": [
       "<div>\n",
       "<style scoped>\n",
       "    .dataframe tbody tr th:only-of-type {\n",
       "        vertical-align: middle;\n",
       "    }\n",
       "\n",
       "    .dataframe tbody tr th {\n",
       "        vertical-align: top;\n",
       "    }\n",
       "\n",
       "    .dataframe thead th {\n",
       "        text-align: right;\n",
       "    }\n",
       "</style>\n",
       "<table border=\"1\" class=\"dataframe\">\n",
       "  <thead>\n",
       "    <tr style=\"text-align: right;\">\n",
       "      <th></th>\n",
       "      <th>additional_number_of_scoring</th>\n",
       "      <th>average_score</th>\n",
       "      <th>review_total_negative_word_counts</th>\n",
       "      <th>total_number_of_reviews</th>\n",
       "      <th>review_total_positive_word_counts</th>\n",
       "      <th>total_number_of_reviews_reviewer_has_given</th>\n",
       "      <th>lat</th>\n",
       "      <th>lng</th>\n",
       "      <th>sample</th>\n",
       "      <th>reviewer_score</th>\n",
       "      <th>...</th>\n",
       "      <th>negative_compound</th>\n",
       "      <th>positive_neg</th>\n",
       "      <th>positive_neu</th>\n",
       "      <th>positive_pos</th>\n",
       "      <th>positive_compound</th>\n",
       "      <th>year_0</th>\n",
       "      <th>year_1</th>\n",
       "      <th>season_0</th>\n",
       "      <th>season_1</th>\n",
       "      <th>season_2</th>\n",
       "    </tr>\n",
       "  </thead>\n",
       "  <tbody>\n",
       "    <tr>\n",
       "      <th>0</th>\n",
       "      <td>904</td>\n",
       "      <td>8.1</td>\n",
       "      <td>52</td>\n",
       "      <td>16670</td>\n",
       "      <td>62</td>\n",
       "      <td>1</td>\n",
       "      <td>45.533137</td>\n",
       "      <td>9.171102</td>\n",
       "      <td>0</td>\n",
       "      <td>0.0</td>\n",
       "      <td>...</td>\n",
       "      <td>-0.0554</td>\n",
       "      <td>0.000</td>\n",
       "      <td>0.671</td>\n",
       "      <td>0.329</td>\n",
       "      <td>0.9615</td>\n",
       "      <td>0</td>\n",
       "      <td>1</td>\n",
       "      <td>0</td>\n",
       "      <td>0</td>\n",
       "      <td>1</td>\n",
       "    </tr>\n",
       "    <tr>\n",
       "      <th>1</th>\n",
       "      <td>612</td>\n",
       "      <td>8.6</td>\n",
       "      <td>10</td>\n",
       "      <td>5018</td>\n",
       "      <td>0</td>\n",
       "      <td>7</td>\n",
       "      <td>52.385649</td>\n",
       "      <td>4.834443</td>\n",
       "      <td>0</td>\n",
       "      <td>0.0</td>\n",
       "      <td>...</td>\n",
       "      <td>-0.2960</td>\n",
       "      <td>0.379</td>\n",
       "      <td>0.000</td>\n",
       "      <td>0.621</td>\n",
       "      <td>0.3400</td>\n",
       "      <td>1</td>\n",
       "      <td>0</td>\n",
       "      <td>0</td>\n",
       "      <td>1</td>\n",
       "      <td>0</td>\n",
       "    </tr>\n",
       "  </tbody>\n",
       "</table>\n",
       "<p>2 rows × 120 columns</p>\n",
       "</div>"
      ],
      "text/plain": [
       "   additional_number_of_scoring  average_score  \\\n",
       "0                           904            8.1   \n",
       "1                           612            8.6   \n",
       "\n",
       "   review_total_negative_word_counts  total_number_of_reviews  \\\n",
       "0                                 52                    16670   \n",
       "1                                 10                     5018   \n",
       "\n",
       "   review_total_positive_word_counts  \\\n",
       "0                                 62   \n",
       "1                                  0   \n",
       "\n",
       "   total_number_of_reviews_reviewer_has_given        lat       lng  sample  \\\n",
       "0                                           1  45.533137  9.171102       0   \n",
       "1                                           7  52.385649  4.834443       0   \n",
       "\n",
       "   reviewer_score  ...  negative_compound  positive_neg  positive_neu  \\\n",
       "0             0.0  ...            -0.0554         0.000         0.671   \n",
       "1             0.0  ...            -0.2960         0.379         0.000   \n",
       "\n",
       "   positive_pos  positive_compound  year_0  year_1  season_0  season_1  \\\n",
       "0         0.329             0.9615       0       1         0         0   \n",
       "1         0.621             0.3400       1       0         0         1   \n",
       "\n",
       "   season_2  \n",
       "0         1  \n",
       "1         0  \n",
       "\n",
       "[2 rows x 120 columns]"
      ]
     },
     "metadata": {},
     "output_type": "display_data"
    },
    {
     "data": {
      "text/plain": [
       "(515738, 120)"
      ]
     },
     "metadata": {},
     "output_type": "display_data"
    }
   ],
   "source": [
    "n_hotels = pd.concat([n_hotels, coding], axis=1)\n",
    "display(n_hotels.head(2), n_hotels.shape)"
   ]
  },
  {
   "attachments": {},
   "cell_type": "markdown",
   "metadata": {},
   "source": [
    "## Строим модель"
   ]
  },
  {
   "attachments": {},
   "cell_type": "markdown",
   "metadata": {},
   "source": [
    "#### Еще раз разделим данные, но уже подготовленные"
   ]
  },
  {
   "cell_type": "code",
   "execution_count": 210,
   "metadata": {},
   "outputs": [],
   "source": [
    "# Теперь выделим тестовую часть\n",
    "train_data = n_hotels.query('sample == 1').drop(['sample'], axis=1)\n",
    "test_data = n_hotels.query('sample == 0').drop(['sample'], axis=1)\n",
    "\n",
    "y = train_data.reviewer_score.values # наш таргет\n",
    "X = train_data.drop(['reviewer_score'], axis=1)"
   ]
  },
  {
   "cell_type": "code",
   "execution_count": 211,
   "metadata": {},
   "outputs": [],
   "source": [
    "X_train, X_test, y_train, y_test = train_test_split(X, y, test_size=0.2)#, random_state=RANDOM_SEED)"
   ]
  },
  {
   "cell_type": "code",
   "execution_count": 212,
   "metadata": {},
   "outputs": [
    {
     "name": "stdout",
     "output_type": "stream",
     "text": [
      "(309442, 118) (77361, 118)\n",
      "(309442,) (77361,)\n"
     ]
    }
   ],
   "source": [
    "print(X_train.shape, X_test.shape) \n",
    "print(y_train.shape, y_test.shape) \n",
    "# X_train относится к y_train - таблица и столбец с 75% "
   ]
  },
  {
   "cell_type": "code",
   "execution_count": 213,
   "metadata": {},
   "outputs": [],
   "source": [
    "# Импортируем необходимые библиотеки:  \n",
    "from sklearn.ensemble import RandomForestRegressor # инструмент для создания и обучения модели  \n",
    "from sklearn import metrics # инструменты для оценки точности модели "
   ]
  },
  {
   "cell_type": "code",
   "execution_count": 214,
   "metadata": {},
   "outputs": [],
   "source": [
    "# Создаём модель  \n",
    "regr = RandomForestRegressor(n_estimators=100)  \n",
    "      \n",
    "# Обучаем модель на тестовом наборе данных  \n",
    "regr.fit(X_train, y_train)  \n",
    "\n",
    "# Используем обученную модель для предсказания рейтинга отелей в тестовой выборке.  \n",
    "# Предсказанные значения записываем в переменную y_pred  \n",
    "y_pred = regr.predict(X_test)"
   ]
  },
  {
   "cell_type": "code",
   "execution_count": 215,
   "metadata": {},
   "outputs": [
    {
     "name": "stdout",
     "output_type": "stream",
     "text": [
      "[7.898 9.022 9.445 ... 8.677 9.614 7.223]\n"
     ]
    }
   ],
   "source": [
    "print(y_pred)"
   ]
  },
  {
   "cell_type": "code",
   "execution_count": 227,
   "metadata": {},
   "outputs": [
    {
     "name": "stdout",
     "output_type": "stream",
     "text": [
      "MAPE: 12.529946357655486\n"
     ]
    }
   ],
   "source": [
    "# Сравниваем предсказанные значения (y_pred) с реальными (y_test) и смотрим, насколько они отличаются  \n",
    "# Метрика называется Mean Absolute Percentage Error (MAPE)\n",
    "# - показывает среднюю абсолютную процентную ошибку предсказанных значений в отношении фактических.  \n",
    "print('MAPE:', metrics.mean_absolute_percentage_error(y_test, y_pred)*100)"
   ]
  },
  {
   "cell_type": "markdown",
   "metadata": {},
   "source": [
    "Делаем предсказание по данной в задании выборке"
   ]
  },
  {
   "cell_type": "code",
   "execution_count": 230,
   "metadata": {},
   "outputs": [],
   "source": [
    "test_data = test_data.drop(['reviewer_score'],axis=1)"
   ]
  },
  {
   "cell_type": "code",
   "execution_count": 231,
   "metadata": {},
   "outputs": [
    {
     "data": {
      "text/plain": [
       "array([8.566, 7.019, 8.517, ..., 8.04 , 9.63 , 7.097])"
      ]
     },
     "execution_count": 231,
     "metadata": {},
     "output_type": "execute_result"
    }
   ],
   "source": [
    "predict_submission = regr.predict(test_data)\n",
    "predict_submission"
   ]
  },
  {
   "cell_type": "code",
   "execution_count": 226,
   "metadata": {},
   "outputs": [
    {
     "data": {
      "text/html": [
       "<div>\n",
       "<style scoped>\n",
       "    .dataframe tbody tr th:only-of-type {\n",
       "        vertical-align: middle;\n",
       "    }\n",
       "\n",
       "    .dataframe tbody tr th {\n",
       "        vertical-align: top;\n",
       "    }\n",
       "\n",
       "    .dataframe thead th {\n",
       "        text-align: right;\n",
       "    }\n",
       "</style>\n",
       "<table border=\"1\" class=\"dataframe\">\n",
       "  <thead>\n",
       "    <tr style=\"text-align: right;\">\n",
       "      <th></th>\n",
       "      <th>reviewer_score</th>\n",
       "      <th>id</th>\n",
       "    </tr>\n",
       "  </thead>\n",
       "  <tbody>\n",
       "    <tr>\n",
       "      <th>0</th>\n",
       "      <td>1</td>\n",
       "      <td>488440</td>\n",
       "    </tr>\n",
       "    <tr>\n",
       "      <th>1</th>\n",
       "      <td>10</td>\n",
       "      <td>274649</td>\n",
       "    </tr>\n",
       "    <tr>\n",
       "      <th>2</th>\n",
       "      <td>3</td>\n",
       "      <td>374688</td>\n",
       "    </tr>\n",
       "    <tr>\n",
       "      <th>3</th>\n",
       "      <td>10</td>\n",
       "      <td>404352</td>\n",
       "    </tr>\n",
       "    <tr>\n",
       "      <th>4</th>\n",
       "      <td>9</td>\n",
       "      <td>451596</td>\n",
       "    </tr>\n",
       "    <tr>\n",
       "      <th>...</th>\n",
       "      <td>...</td>\n",
       "      <td>...</td>\n",
       "    </tr>\n",
       "    <tr>\n",
       "      <th>128930</th>\n",
       "      <td>7</td>\n",
       "      <td>495812</td>\n",
       "    </tr>\n",
       "    <tr>\n",
       "      <th>128931</th>\n",
       "      <td>1</td>\n",
       "      <td>315577</td>\n",
       "    </tr>\n",
       "    <tr>\n",
       "      <th>128932</th>\n",
       "      <td>3</td>\n",
       "      <td>511968</td>\n",
       "    </tr>\n",
       "    <tr>\n",
       "      <th>128933</th>\n",
       "      <td>6</td>\n",
       "      <td>303386</td>\n",
       "    </tr>\n",
       "    <tr>\n",
       "      <th>128934</th>\n",
       "      <td>5</td>\n",
       "      <td>103157</td>\n",
       "    </tr>\n",
       "  </tbody>\n",
       "</table>\n",
       "<p>128935 rows × 2 columns</p>\n",
       "</div>"
      ],
      "text/plain": [
       "        reviewer_score      id\n",
       "0                    1  488440\n",
       "1                   10  274649\n",
       "2                    3  374688\n",
       "3                   10  404352\n",
       "4                    9  451596\n",
       "...                ...     ...\n",
       "128930               7  495812\n",
       "128931               1  315577\n",
       "128932               3  511968\n",
       "128933               6  303386\n",
       "128934               5  103157\n",
       "\n",
       "[128935 rows x 2 columns]"
      ]
     },
     "execution_count": 226,
     "metadata": {},
     "output_type": "execute_result"
    }
   ],
   "source": [
    "submission = pd.read_csv('submission.csv',sep=',')\n",
    "submission"
   ]
  },
  {
   "cell_type": "code",
   "execution_count": 239,
   "metadata": {},
   "outputs": [
    {
     "data": {
      "text/html": [
       "<div>\n",
       "<style scoped>\n",
       "    .dataframe tbody tr th:only-of-type {\n",
       "        vertical-align: middle;\n",
       "    }\n",
       "\n",
       "    .dataframe tbody tr th {\n",
       "        vertical-align: top;\n",
       "    }\n",
       "\n",
       "    .dataframe thead th {\n",
       "        text-align: right;\n",
       "    }\n",
       "</style>\n",
       "<table border=\"1\" class=\"dataframe\">\n",
       "  <thead>\n",
       "    <tr style=\"text-align: right;\">\n",
       "      <th></th>\n",
       "      <th>reviewer_score</th>\n",
       "      <th>id</th>\n",
       "    </tr>\n",
       "  </thead>\n",
       "  <tbody>\n",
       "    <tr>\n",
       "      <th>0</th>\n",
       "      <td>8.566</td>\n",
       "      <td>488440</td>\n",
       "    </tr>\n",
       "    <tr>\n",
       "      <th>1</th>\n",
       "      <td>7.019</td>\n",
       "      <td>274649</td>\n",
       "    </tr>\n",
       "    <tr>\n",
       "      <th>2</th>\n",
       "      <td>8.517</td>\n",
       "      <td>374688</td>\n",
       "    </tr>\n",
       "    <tr>\n",
       "      <th>3</th>\n",
       "      <td>9.820</td>\n",
       "      <td>404352</td>\n",
       "    </tr>\n",
       "    <tr>\n",
       "      <th>4</th>\n",
       "      <td>9.567</td>\n",
       "      <td>451596</td>\n",
       "    </tr>\n",
       "    <tr>\n",
       "      <th>...</th>\n",
       "      <td>...</td>\n",
       "      <td>...</td>\n",
       "    </tr>\n",
       "    <tr>\n",
       "      <th>128930</th>\n",
       "      <td>8.583</td>\n",
       "      <td>495812</td>\n",
       "    </tr>\n",
       "    <tr>\n",
       "      <th>128931</th>\n",
       "      <td>9.325</td>\n",
       "      <td>315577</td>\n",
       "    </tr>\n",
       "    <tr>\n",
       "      <th>128932</th>\n",
       "      <td>8.040</td>\n",
       "      <td>511968</td>\n",
       "    </tr>\n",
       "    <tr>\n",
       "      <th>128933</th>\n",
       "      <td>9.630</td>\n",
       "      <td>303386</td>\n",
       "    </tr>\n",
       "    <tr>\n",
       "      <th>128934</th>\n",
       "      <td>7.097</td>\n",
       "      <td>103157</td>\n",
       "    </tr>\n",
       "  </tbody>\n",
       "</table>\n",
       "<p>128935 rows × 2 columns</p>\n",
       "</div>"
      ],
      "text/plain": [
       "        reviewer_score      id\n",
       "0                8.566  488440\n",
       "1                7.019  274649\n",
       "2                8.517  374688\n",
       "3                9.820  404352\n",
       "4                9.567  451596\n",
       "...                ...     ...\n",
       "128930           8.583  495812\n",
       "128931           9.325  315577\n",
       "128932           8.040  511968\n",
       "128933           9.630  303386\n",
       "128934           7.097  103157\n",
       "\n",
       "[128935 rows x 2 columns]"
      ]
     },
     "execution_count": 239,
     "metadata": {},
     "output_type": "execute_result"
    }
   ],
   "source": [
    "submission['reviewer_score'] = predict_submission\n",
    "submission.to_csv('submission_pred.csv', index=False)\n",
    "submission"
   ]
  }
 ],
 "metadata": {
  "kernelspec": {
   "display_name": "base",
   "language": "python",
   "name": "python3"
  },
  "language_info": {
   "codemirror_mode": {
    "name": "ipython",
    "version": 3
   },
   "file_extension": ".py",
   "mimetype": "text/x-python",
   "name": "python",
   "nbconvert_exporter": "python",
   "pygments_lexer": "ipython3",
   "version": "3.9.13"
  },
  "orig_nbformat": 4
 },
 "nbformat": 4,
 "nbformat_minor": 2
}
