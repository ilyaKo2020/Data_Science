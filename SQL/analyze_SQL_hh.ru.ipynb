{
 "cells": [
  {
   "cell_type": "markdown",
   "metadata": {},
   "source": [
    "<center> <img src = https://play-lh.googleusercontent.com/YpAV7Q-ZJhI5tzFk_wEX-7-x2BydtnCtFTVUrmq0zAO6jLCLA4nNcfem3p_Pyowg9w width='350'>"
   ]
  },
  {
   "cell_type": "markdown",
   "metadata": {},
   "source": [
    "# <center> Проект SQL: Анализ вакансий из HeadHunter  "
   ]
  },
  {
   "cell_type": "code",
   "execution_count": 1,
   "metadata": {},
   "outputs": [],
   "source": [
    "import psycopg2 # библиотека для работы phyton с СУБД PostgreSQL\n",
    "import pandas as pd"
   ]
  },
  {
   "cell_type": "markdown",
   "metadata": {},
   "source": [
    "## Предварительный анализ данных"
   ]
  },
  {
   "cell_type": "markdown",
   "metadata": {},
   "source": [
    "#### количество вакансий"
   ]
  },
  {
   "cell_type": "code",
   "execution_count": 3,
   "metadata": {},
   "outputs": [],
   "source": [
    "# Используем БД - project_sql, схему - public\n",
    "connection_project = psycopg2.connect(\n",
    "   dbname='-',\n",
    "   user='-',\n",
    "   host='-',\n",
    "   password='-',\n",
    "   port= -\n",
    ")\n",
    "\n",
    "query_3_1 = f''' \n",
    "            select count(*)\n",
    "            from public.vacancies\n",
    "            limit 10\n",
    "            '''\n",
    "            # считаем кол-во вакансий"
   ]
  },
  {
   "cell_type": "code",
   "execution_count": 5,
   "metadata": {},
   "outputs": [
    {
     "data": {
      "text/html": [
       "<div>\n",
       "<style scoped>\n",
       "    .dataframe tbody tr th:only-of-type {\n",
       "        vertical-align: middle;\n",
       "    }\n",
       "\n",
       "    .dataframe tbody tr th {\n",
       "        vertical-align: top;\n",
       "    }\n",
       "\n",
       "    .dataframe thead th {\n",
       "        text-align: right;\n",
       "    }\n",
       "</style>\n",
       "<table border=\"1\" class=\"dataframe\">\n",
       "  <thead>\n",
       "    <tr style=\"text-align: right;\">\n",
       "      <th></th>\n",
       "      <th>count</th>\n",
       "    </tr>\n",
       "  </thead>\n",
       "  <tbody>\n",
       "    <tr>\n",
       "      <th>0</th>\n",
       "      <td>49197</td>\n",
       "    </tr>\n",
       "  </tbody>\n",
       "</table>\n",
       "</div>"
      ],
      "text/plain": [
       "   count\n",
       "0  49197"
      ]
     },
     "metadata": {},
     "output_type": "display_data"
    }
   ],
   "source": [
    "exit_3_1 = pd.read_sql_query(query_3_1, connection_project)# делаем запрос к таблице vacancies\n",
    "display(exit_3_1)"
   ]
  },
  {
   "cell_type": "markdown",
   "metadata": {},
   "source": [
    "#### количество работодателей"
   ]
  },
  {
   "cell_type": "code",
   "execution_count": 6,
   "metadata": {},
   "outputs": [],
   "source": [
    "query_3_2 = f''' \n",
    "            select COUNT(*)\n",
    "            FROM public.employers \n",
    "            '''"
   ]
  },
  {
   "cell_type": "code",
   "execution_count": 7,
   "metadata": {},
   "outputs": [
    {
     "data": {
      "text/html": [
       "<div>\n",
       "<style scoped>\n",
       "    .dataframe tbody tr th:only-of-type {\n",
       "        vertical-align: middle;\n",
       "    }\n",
       "\n",
       "    .dataframe tbody tr th {\n",
       "        vertical-align: top;\n",
       "    }\n",
       "\n",
       "    .dataframe thead th {\n",
       "        text-align: right;\n",
       "    }\n",
       "</style>\n",
       "<table border=\"1\" class=\"dataframe\">\n",
       "  <thead>\n",
       "    <tr style=\"text-align: right;\">\n",
       "      <th></th>\n",
       "      <th>count</th>\n",
       "    </tr>\n",
       "  </thead>\n",
       "  <tbody>\n",
       "    <tr>\n",
       "      <th>0</th>\n",
       "      <td>23501</td>\n",
       "    </tr>\n",
       "  </tbody>\n",
       "</table>\n",
       "</div>"
      ],
      "text/plain": [
       "   count\n",
       "0  23501"
      ]
     },
     "metadata": {},
     "output_type": "display_data"
    }
   ],
   "source": [
    "exit_3_2 = pd.read_sql_query(query_3_2, connection_project)\n",
    "display(exit_3_2)"
   ]
  },
  {
   "cell_type": "markdown",
   "metadata": {},
   "source": [
    "#### количество регионов"
   ]
  },
  {
   "cell_type": "code",
   "execution_count": 8,
   "metadata": {},
   "outputs": [],
   "source": [
    "query_3_3 = f''' \n",
    "            SELECT COUNT(*)\n",
    "            FROM public.areas\n",
    "            '''"
   ]
  },
  {
   "cell_type": "code",
   "execution_count": 9,
   "metadata": {},
   "outputs": [
    {
     "data": {
      "text/html": [
       "<div>\n",
       "<style scoped>\n",
       "    .dataframe tbody tr th:only-of-type {\n",
       "        vertical-align: middle;\n",
       "    }\n",
       "\n",
       "    .dataframe tbody tr th {\n",
       "        vertical-align: top;\n",
       "    }\n",
       "\n",
       "    .dataframe thead th {\n",
       "        text-align: right;\n",
       "    }\n",
       "</style>\n",
       "<table border=\"1\" class=\"dataframe\">\n",
       "  <thead>\n",
       "    <tr style=\"text-align: right;\">\n",
       "      <th></th>\n",
       "      <th>count</th>\n",
       "    </tr>\n",
       "  </thead>\n",
       "  <tbody>\n",
       "    <tr>\n",
       "      <th>0</th>\n",
       "      <td>1362</td>\n",
       "    </tr>\n",
       "  </tbody>\n",
       "</table>\n",
       "</div>"
      ],
      "text/plain": [
       "   count\n",
       "0   1362"
      ]
     },
     "metadata": {},
     "output_type": "display_data"
    }
   ],
   "source": [
    "exit_3_3 = pd.read_sql_query(query_3_3, connection_project)\n",
    "display(exit_3_3)"
   ]
  },
  {
   "cell_type": "markdown",
   "metadata": {},
   "source": [
    "#### количество сфер деятельности"
   ]
  },
  {
   "cell_type": "code",
   "execution_count": 10,
   "metadata": {},
   "outputs": [],
   "source": [
    "query_3_4 = f''' \n",
    "            SELECT COUNT(*)\n",
    "            FROM public.industries\n",
    "            '''"
   ]
  },
  {
   "cell_type": "code",
   "execution_count": 11,
   "metadata": {},
   "outputs": [
    {
     "data": {
      "text/html": [
       "<div>\n",
       "<style scoped>\n",
       "    .dataframe tbody tr th:only-of-type {\n",
       "        vertical-align: middle;\n",
       "    }\n",
       "\n",
       "    .dataframe tbody tr th {\n",
       "        vertical-align: top;\n",
       "    }\n",
       "\n",
       "    .dataframe thead th {\n",
       "        text-align: right;\n",
       "    }\n",
       "</style>\n",
       "<table border=\"1\" class=\"dataframe\">\n",
       "  <thead>\n",
       "    <tr style=\"text-align: right;\">\n",
       "      <th></th>\n",
       "      <th>count</th>\n",
       "    </tr>\n",
       "  </thead>\n",
       "  <tbody>\n",
       "    <tr>\n",
       "      <th>0</th>\n",
       "      <td>294</td>\n",
       "    </tr>\n",
       "  </tbody>\n",
       "</table>\n",
       "</div>"
      ],
      "text/plain": [
       "   count\n",
       "0    294"
      ]
     },
     "metadata": {},
     "output_type": "display_data"
    }
   ],
   "source": [
    "exit_3_4 = pd.read_sql_query(query_3_4, connection_project)\n",
    "display(exit_3_4)"
   ]
  },
  {
   "cell_type": "markdown",
   "metadata": {},
   "source": [
    "# Детальный анализ вакансий"
   ]
  },
  {
   "cell_type": "markdown",
   "metadata": {},
   "source": [
    "#### сколько вакансий в каждом регионе.Выберите пятёрку лидеров по количеству вакансий:"
   ]
  },
  {
   "cell_type": "code",
   "execution_count": 12,
   "metadata": {},
   "outputs": [],
   "source": [
    "query_4_1 = f''' \n",
    "            SELECT\n",
    "                ar.name AS area,\n",
    "                COUNT(*) AS cnt\n",
    "            FROM \n",
    "                public.vacancies AS vc -- Для получения названий регионов и городов соединяем таблицы vacancies и areas\n",
    "                JOIN public.areas AS ar ON vc.area_id = ar.id\n",
    "            GROUP BY ar.name\n",
    "            ORDER BY 2 DESC \n",
    "            LIMIT 5\n",
    "            '''"
   ]
  },
  {
   "cell_type": "code",
   "execution_count": 13,
   "metadata": {},
   "outputs": [
    {
     "data": {
      "text/html": [
       "<div>\n",
       "<style scoped>\n",
       "    .dataframe tbody tr th:only-of-type {\n",
       "        vertical-align: middle;\n",
       "    }\n",
       "\n",
       "    .dataframe tbody tr th {\n",
       "        vertical-align: top;\n",
       "    }\n",
       "\n",
       "    .dataframe thead th {\n",
       "        text-align: right;\n",
       "    }\n",
       "</style>\n",
       "<table border=\"1\" class=\"dataframe\">\n",
       "  <thead>\n",
       "    <tr style=\"text-align: right;\">\n",
       "      <th></th>\n",
       "      <th>area</th>\n",
       "      <th>cnt</th>\n",
       "    </tr>\n",
       "  </thead>\n",
       "  <tbody>\n",
       "    <tr>\n",
       "      <th>0</th>\n",
       "      <td>Москва</td>\n",
       "      <td>5333</td>\n",
       "    </tr>\n",
       "    <tr>\n",
       "      <th>1</th>\n",
       "      <td>Санкт-Петербург</td>\n",
       "      <td>2851</td>\n",
       "    </tr>\n",
       "    <tr>\n",
       "      <th>2</th>\n",
       "      <td>Минск</td>\n",
       "      <td>2112</td>\n",
       "    </tr>\n",
       "    <tr>\n",
       "      <th>3</th>\n",
       "      <td>Новосибирск</td>\n",
       "      <td>2006</td>\n",
       "    </tr>\n",
       "    <tr>\n",
       "      <th>4</th>\n",
       "      <td>Алматы</td>\n",
       "      <td>1892</td>\n",
       "    </tr>\n",
       "  </tbody>\n",
       "</table>\n",
       "</div>"
      ],
      "text/plain": [
       "              area   cnt\n",
       "0           Москва  5333\n",
       "1  Санкт-Петербург  2851\n",
       "2            Минск  2112\n",
       "3      Новосибирск  2006\n",
       "4           Алматы  1892"
      ]
     },
     "metadata": {},
     "output_type": "display_data"
    },
    {
     "data": {
      "application/vnd.plotly.v1+json": {
       "config": {
        "plotlyServerURL": "https://plot.ly"
       },
       "data": [
        {
         "alignmentgroup": "True",
         "hovertemplate": "area=Москва<br>cnt=%{x}<br>index=%{y}<extra></extra>",
         "legendgroup": "Москва",
         "marker": {
          "color": "#636efa",
          "pattern": {
           "shape": ""
          }
         },
         "name": "Москва",
         "offsetgroup": "Москва",
         "orientation": "h",
         "showlegend": true,
         "textposition": "auto",
         "type": "bar",
         "x": [
          5333
         ],
         "xaxis": "x",
         "y": [
          0
         ],
         "yaxis": "y"
        },
        {
         "alignmentgroup": "True",
         "hovertemplate": "area=Санкт-Петербург<br>cnt=%{x}<br>index=%{y}<extra></extra>",
         "legendgroup": "Санкт-Петербург",
         "marker": {
          "color": "#EF553B",
          "pattern": {
           "shape": ""
          }
         },
         "name": "Санкт-Петербург",
         "offsetgroup": "Санкт-Петербург",
         "orientation": "h",
         "showlegend": true,
         "textposition": "auto",
         "type": "bar",
         "x": [
          2851
         ],
         "xaxis": "x",
         "y": [
          1
         ],
         "yaxis": "y"
        },
        {
         "alignmentgroup": "True",
         "hovertemplate": "area=Минск<br>cnt=%{x}<br>index=%{y}<extra></extra>",
         "legendgroup": "Минск",
         "marker": {
          "color": "#00cc96",
          "pattern": {
           "shape": ""
          }
         },
         "name": "Минск",
         "offsetgroup": "Минск",
         "orientation": "h",
         "showlegend": true,
         "textposition": "auto",
         "type": "bar",
         "x": [
          2112
         ],
         "xaxis": "x",
         "y": [
          2
         ],
         "yaxis": "y"
        },
        {
         "alignmentgroup": "True",
         "hovertemplate": "area=Новосибирск<br>cnt=%{x}<br>index=%{y}<extra></extra>",
         "legendgroup": "Новосибирск",
         "marker": {
          "color": "#ab63fa",
          "pattern": {
           "shape": ""
          }
         },
         "name": "Новосибирск",
         "offsetgroup": "Новосибирск",
         "orientation": "h",
         "showlegend": true,
         "textposition": "auto",
         "type": "bar",
         "x": [
          2006
         ],
         "xaxis": "x",
         "y": [
          3
         ],
         "yaxis": "y"
        },
        {
         "alignmentgroup": "True",
         "hovertemplate": "area=Алматы<br>cnt=%{x}<br>index=%{y}<extra></extra>",
         "legendgroup": "Алматы",
         "marker": {
          "color": "#FFA15A",
          "pattern": {
           "shape": ""
          }
         },
         "name": "Алматы",
         "offsetgroup": "Алматы",
         "orientation": "h",
         "showlegend": true,
         "textposition": "auto",
         "type": "bar",
         "x": [
          1892
         ],
         "xaxis": "x",
         "y": [
          4
         ],
         "yaxis": "y"
        }
       ],
       "layout": {
        "barmode": "relative",
        "height": 400,
        "legend": {
         "title": {
          "text": "area"
         },
         "tracegroupgap": 0
        },
        "margin": {
         "t": 60
        },
        "template": {
         "data": {
          "bar": [
           {
            "error_x": {
             "color": "#2a3f5f"
            },
            "error_y": {
             "color": "#2a3f5f"
            },
            "marker": {
             "line": {
              "color": "#E5ECF6",
              "width": 0.5
             },
             "pattern": {
              "fillmode": "overlay",
              "size": 10,
              "solidity": 0.2
             }
            },
            "type": "bar"
           }
          ],
          "barpolar": [
           {
            "marker": {
             "line": {
              "color": "#E5ECF6",
              "width": 0.5
             },
             "pattern": {
              "fillmode": "overlay",
              "size": 10,
              "solidity": 0.2
             }
            },
            "type": "barpolar"
           }
          ],
          "carpet": [
           {
            "aaxis": {
             "endlinecolor": "#2a3f5f",
             "gridcolor": "white",
             "linecolor": "white",
             "minorgridcolor": "white",
             "startlinecolor": "#2a3f5f"
            },
            "baxis": {
             "endlinecolor": "#2a3f5f",
             "gridcolor": "white",
             "linecolor": "white",
             "minorgridcolor": "white",
             "startlinecolor": "#2a3f5f"
            },
            "type": "carpet"
           }
          ],
          "choropleth": [
           {
            "colorbar": {
             "outlinewidth": 0,
             "ticks": ""
            },
            "type": "choropleth"
           }
          ],
          "contour": [
           {
            "colorbar": {
             "outlinewidth": 0,
             "ticks": ""
            },
            "colorscale": [
             [
              0,
              "#0d0887"
             ],
             [
              0.1111111111111111,
              "#46039f"
             ],
             [
              0.2222222222222222,
              "#7201a8"
             ],
             [
              0.3333333333333333,
              "#9c179e"
             ],
             [
              0.4444444444444444,
              "#bd3786"
             ],
             [
              0.5555555555555556,
              "#d8576b"
             ],
             [
              0.6666666666666666,
              "#ed7953"
             ],
             [
              0.7777777777777778,
              "#fb9f3a"
             ],
             [
              0.8888888888888888,
              "#fdca26"
             ],
             [
              1,
              "#f0f921"
             ]
            ],
            "type": "contour"
           }
          ],
          "contourcarpet": [
           {
            "colorbar": {
             "outlinewidth": 0,
             "ticks": ""
            },
            "type": "contourcarpet"
           }
          ],
          "heatmap": [
           {
            "colorbar": {
             "outlinewidth": 0,
             "ticks": ""
            },
            "colorscale": [
             [
              0,
              "#0d0887"
             ],
             [
              0.1111111111111111,
              "#46039f"
             ],
             [
              0.2222222222222222,
              "#7201a8"
             ],
             [
              0.3333333333333333,
              "#9c179e"
             ],
             [
              0.4444444444444444,
              "#bd3786"
             ],
             [
              0.5555555555555556,
              "#d8576b"
             ],
             [
              0.6666666666666666,
              "#ed7953"
             ],
             [
              0.7777777777777778,
              "#fb9f3a"
             ],
             [
              0.8888888888888888,
              "#fdca26"
             ],
             [
              1,
              "#f0f921"
             ]
            ],
            "type": "heatmap"
           }
          ],
          "heatmapgl": [
           {
            "colorbar": {
             "outlinewidth": 0,
             "ticks": ""
            },
            "colorscale": [
             [
              0,
              "#0d0887"
             ],
             [
              0.1111111111111111,
              "#46039f"
             ],
             [
              0.2222222222222222,
              "#7201a8"
             ],
             [
              0.3333333333333333,
              "#9c179e"
             ],
             [
              0.4444444444444444,
              "#bd3786"
             ],
             [
              0.5555555555555556,
              "#d8576b"
             ],
             [
              0.6666666666666666,
              "#ed7953"
             ],
             [
              0.7777777777777778,
              "#fb9f3a"
             ],
             [
              0.8888888888888888,
              "#fdca26"
             ],
             [
              1,
              "#f0f921"
             ]
            ],
            "type": "heatmapgl"
           }
          ],
          "histogram": [
           {
            "marker": {
             "pattern": {
              "fillmode": "overlay",
              "size": 10,
              "solidity": 0.2
             }
            },
            "type": "histogram"
           }
          ],
          "histogram2d": [
           {
            "colorbar": {
             "outlinewidth": 0,
             "ticks": ""
            },
            "colorscale": [
             [
              0,
              "#0d0887"
             ],
             [
              0.1111111111111111,
              "#46039f"
             ],
             [
              0.2222222222222222,
              "#7201a8"
             ],
             [
              0.3333333333333333,
              "#9c179e"
             ],
             [
              0.4444444444444444,
              "#bd3786"
             ],
             [
              0.5555555555555556,
              "#d8576b"
             ],
             [
              0.6666666666666666,
              "#ed7953"
             ],
             [
              0.7777777777777778,
              "#fb9f3a"
             ],
             [
              0.8888888888888888,
              "#fdca26"
             ],
             [
              1,
              "#f0f921"
             ]
            ],
            "type": "histogram2d"
           }
          ],
          "histogram2dcontour": [
           {
            "colorbar": {
             "outlinewidth": 0,
             "ticks": ""
            },
            "colorscale": [
             [
              0,
              "#0d0887"
             ],
             [
              0.1111111111111111,
              "#46039f"
             ],
             [
              0.2222222222222222,
              "#7201a8"
             ],
             [
              0.3333333333333333,
              "#9c179e"
             ],
             [
              0.4444444444444444,
              "#bd3786"
             ],
             [
              0.5555555555555556,
              "#d8576b"
             ],
             [
              0.6666666666666666,
              "#ed7953"
             ],
             [
              0.7777777777777778,
              "#fb9f3a"
             ],
             [
              0.8888888888888888,
              "#fdca26"
             ],
             [
              1,
              "#f0f921"
             ]
            ],
            "type": "histogram2dcontour"
           }
          ],
          "mesh3d": [
           {
            "colorbar": {
             "outlinewidth": 0,
             "ticks": ""
            },
            "type": "mesh3d"
           }
          ],
          "parcoords": [
           {
            "line": {
             "colorbar": {
              "outlinewidth": 0,
              "ticks": ""
             }
            },
            "type": "parcoords"
           }
          ],
          "pie": [
           {
            "automargin": true,
            "type": "pie"
           }
          ],
          "scatter": [
           {
            "marker": {
             "colorbar": {
              "outlinewidth": 0,
              "ticks": ""
             }
            },
            "type": "scatter"
           }
          ],
          "scatter3d": [
           {
            "line": {
             "colorbar": {
              "outlinewidth": 0,
              "ticks": ""
             }
            },
            "marker": {
             "colorbar": {
              "outlinewidth": 0,
              "ticks": ""
             }
            },
            "type": "scatter3d"
           }
          ],
          "scattercarpet": [
           {
            "marker": {
             "colorbar": {
              "outlinewidth": 0,
              "ticks": ""
             }
            },
            "type": "scattercarpet"
           }
          ],
          "scattergeo": [
           {
            "marker": {
             "colorbar": {
              "outlinewidth": 0,
              "ticks": ""
             }
            },
            "type": "scattergeo"
           }
          ],
          "scattergl": [
           {
            "marker": {
             "colorbar": {
              "outlinewidth": 0,
              "ticks": ""
             }
            },
            "type": "scattergl"
           }
          ],
          "scattermapbox": [
           {
            "marker": {
             "colorbar": {
              "outlinewidth": 0,
              "ticks": ""
             }
            },
            "type": "scattermapbox"
           }
          ],
          "scatterpolar": [
           {
            "marker": {
             "colorbar": {
              "outlinewidth": 0,
              "ticks": ""
             }
            },
            "type": "scatterpolar"
           }
          ],
          "scatterpolargl": [
           {
            "marker": {
             "colorbar": {
              "outlinewidth": 0,
              "ticks": ""
             }
            },
            "type": "scatterpolargl"
           }
          ],
          "scatterternary": [
           {
            "marker": {
             "colorbar": {
              "outlinewidth": 0,
              "ticks": ""
             }
            },
            "type": "scatterternary"
           }
          ],
          "surface": [
           {
            "colorbar": {
             "outlinewidth": 0,
             "ticks": ""
            },
            "colorscale": [
             [
              0,
              "#0d0887"
             ],
             [
              0.1111111111111111,
              "#46039f"
             ],
             [
              0.2222222222222222,
              "#7201a8"
             ],
             [
              0.3333333333333333,
              "#9c179e"
             ],
             [
              0.4444444444444444,
              "#bd3786"
             ],
             [
              0.5555555555555556,
              "#d8576b"
             ],
             [
              0.6666666666666666,
              "#ed7953"
             ],
             [
              0.7777777777777778,
              "#fb9f3a"
             ],
             [
              0.8888888888888888,
              "#fdca26"
             ],
             [
              1,
              "#f0f921"
             ]
            ],
            "type": "surface"
           }
          ],
          "table": [
           {
            "cells": {
             "fill": {
              "color": "#EBF0F8"
             },
             "line": {
              "color": "white"
             }
            },
            "header": {
             "fill": {
              "color": "#C8D4E3"
             },
             "line": {
              "color": "white"
             }
            },
            "type": "table"
           }
          ]
         },
         "layout": {
          "annotationdefaults": {
           "arrowcolor": "#2a3f5f",
           "arrowhead": 0,
           "arrowwidth": 1
          },
          "autotypenumbers": "strict",
          "coloraxis": {
           "colorbar": {
            "outlinewidth": 0,
            "ticks": ""
           }
          },
          "colorscale": {
           "diverging": [
            [
             0,
             "#8e0152"
            ],
            [
             0.1,
             "#c51b7d"
            ],
            [
             0.2,
             "#de77ae"
            ],
            [
             0.3,
             "#f1b6da"
            ],
            [
             0.4,
             "#fde0ef"
            ],
            [
             0.5,
             "#f7f7f7"
            ],
            [
             0.6,
             "#e6f5d0"
            ],
            [
             0.7,
             "#b8e186"
            ],
            [
             0.8,
             "#7fbc41"
            ],
            [
             0.9,
             "#4d9221"
            ],
            [
             1,
             "#276419"
            ]
           ],
           "sequential": [
            [
             0,
             "#0d0887"
            ],
            [
             0.1111111111111111,
             "#46039f"
            ],
            [
             0.2222222222222222,
             "#7201a8"
            ],
            [
             0.3333333333333333,
             "#9c179e"
            ],
            [
             0.4444444444444444,
             "#bd3786"
            ],
            [
             0.5555555555555556,
             "#d8576b"
            ],
            [
             0.6666666666666666,
             "#ed7953"
            ],
            [
             0.7777777777777778,
             "#fb9f3a"
            ],
            [
             0.8888888888888888,
             "#fdca26"
            ],
            [
             1,
             "#f0f921"
            ]
           ],
           "sequentialminus": [
            [
             0,
             "#0d0887"
            ],
            [
             0.1111111111111111,
             "#46039f"
            ],
            [
             0.2222222222222222,
             "#7201a8"
            ],
            [
             0.3333333333333333,
             "#9c179e"
            ],
            [
             0.4444444444444444,
             "#bd3786"
            ],
            [
             0.5555555555555556,
             "#d8576b"
            ],
            [
             0.6666666666666666,
             "#ed7953"
            ],
            [
             0.7777777777777778,
             "#fb9f3a"
            ],
            [
             0.8888888888888888,
             "#fdca26"
            ],
            [
             1,
             "#f0f921"
            ]
           ]
          },
          "colorway": [
           "#636efa",
           "#EF553B",
           "#00cc96",
           "#ab63fa",
           "#FFA15A",
           "#19d3f3",
           "#FF6692",
           "#B6E880",
           "#FF97FF",
           "#FECB52"
          ],
          "font": {
           "color": "#2a3f5f"
          },
          "geo": {
           "bgcolor": "white",
           "lakecolor": "white",
           "landcolor": "#E5ECF6",
           "showlakes": true,
           "showland": true,
           "subunitcolor": "white"
          },
          "hoverlabel": {
           "align": "left"
          },
          "hovermode": "closest",
          "mapbox": {
           "style": "light"
          },
          "paper_bgcolor": "white",
          "plot_bgcolor": "#E5ECF6",
          "polar": {
           "angularaxis": {
            "gridcolor": "white",
            "linecolor": "white",
            "ticks": ""
           },
           "bgcolor": "#E5ECF6",
           "radialaxis": {
            "gridcolor": "white",
            "linecolor": "white",
            "ticks": ""
           }
          },
          "scene": {
           "xaxis": {
            "backgroundcolor": "#E5ECF6",
            "gridcolor": "white",
            "gridwidth": 2,
            "linecolor": "white",
            "showbackground": true,
            "ticks": "",
            "zerolinecolor": "white"
           },
           "yaxis": {
            "backgroundcolor": "#E5ECF6",
            "gridcolor": "white",
            "gridwidth": 2,
            "linecolor": "white",
            "showbackground": true,
            "ticks": "",
            "zerolinecolor": "white"
           },
           "zaxis": {
            "backgroundcolor": "#E5ECF6",
            "gridcolor": "white",
            "gridwidth": 2,
            "linecolor": "white",
            "showbackground": true,
            "ticks": "",
            "zerolinecolor": "white"
           }
          },
          "shapedefaults": {
           "line": {
            "color": "#2a3f5f"
           }
          },
          "ternary": {
           "aaxis": {
            "gridcolor": "white",
            "linecolor": "white",
            "ticks": ""
           },
           "baxis": {
            "gridcolor": "white",
            "linecolor": "white",
            "ticks": ""
           },
           "bgcolor": "#E5ECF6",
           "caxis": {
            "gridcolor": "white",
            "linecolor": "white",
            "ticks": ""
           }
          },
          "title": {
           "x": 0.05
          },
          "xaxis": {
           "automargin": true,
           "gridcolor": "white",
           "linecolor": "white",
           "ticks": "",
           "title": {
            "standoff": 15
           },
           "zerolinecolor": "white",
           "zerolinewidth": 2
          },
          "yaxis": {
           "automargin": true,
           "gridcolor": "white",
           "linecolor": "white",
           "ticks": "",
           "title": {
            "standoff": 15
           },
           "zerolinecolor": "white",
           "zerolinewidth": 2
          }
         }
        },
        "width": 700,
        "xaxis": {
         "anchor": "y",
         "domain": [
          0,
          1
         ],
         "title": {
          "text": "cnt"
         }
        },
        "yaxis": {
         "anchor": "x",
         "domain": [
          0,
          1
         ],
         "title": {
          "text": "index"
         }
        }
       }
      }
     },
     "metadata": {},
     "output_type": "display_data"
    }
   ],
   "source": [
    "exit_4_1 = pd.read_sql_query(query_4_1, connection_project)\n",
    "display(exit_4_1)\n",
    "\n",
    "# Импортируем библиотеку plotly для визуализации результата\n",
    "import plotly.express as px\n",
    "plot = px.bar(data_frame = exit_4_1,\n",
    "              x = 'cnt',\n",
    "              height = 400,\n",
    "              width = 700,\n",
    "              color = 'area',\n",
    "              orientation = 'h'\n",
    "              )\n",
    "plot.show()"
   ]
  },
  {
   "cell_type": "markdown",
   "metadata": {},
   "source": [
    "Можно сделать вывод, что в этих городах высокие спрос и предложение на работу и,следовательно, заработная плата выше в сравнении с другими городами, поскольку создается хорошая конкуренция среди компаний и работников."
   ]
  },
  {
   "cell_type": "markdown",
   "metadata": {},
   "source": [
    "#### Количество вакансий с заполненым хотя бы одним из двух полей с зарплатой"
   ]
  },
  {
   "cell_type": "code",
   "execution_count": 14,
   "metadata": {},
   "outputs": [],
   "source": [
    "query_4_2 = f'''\n",
    "            SELECT \n",
    "                COUNT(*)\n",
    "            FROM public.vacancies vc\n",
    "            WHERE salary_from IS NOT NULL OR salary_to IS NOT NULL \n",
    "            \n",
    "            '''"
   ]
  },
  {
   "cell_type": "code",
   "execution_count": 15,
   "metadata": {},
   "outputs": [
    {
     "data": {
      "text/html": [
       "<div>\n",
       "<style scoped>\n",
       "    .dataframe tbody tr th:only-of-type {\n",
       "        vertical-align: middle;\n",
       "    }\n",
       "\n",
       "    .dataframe tbody tr th {\n",
       "        vertical-align: top;\n",
       "    }\n",
       "\n",
       "    .dataframe thead th {\n",
       "        text-align: right;\n",
       "    }\n",
       "</style>\n",
       "<table border=\"1\" class=\"dataframe\">\n",
       "  <thead>\n",
       "    <tr style=\"text-align: right;\">\n",
       "      <th></th>\n",
       "      <th>count</th>\n",
       "    </tr>\n",
       "  </thead>\n",
       "  <tbody>\n",
       "    <tr>\n",
       "      <th>0</th>\n",
       "      <td>24073</td>\n",
       "    </tr>\n",
       "  </tbody>\n",
       "</table>\n",
       "</div>"
      ],
      "text/plain": [
       "   count\n",
       "0  24073"
      ]
     },
     "metadata": {},
     "output_type": "display_data"
    }
   ],
   "source": [
    "exit_4_2 = pd.read_sql_query(query_4_2, connection_project)\n",
    "display(exit_4_2)"
   ]
  },
  {
   "cell_type": "markdown",
   "metadata": {},
   "source": [
    "Примерно в половине всех вакансий не указа зарплатная вилка. Это может говорить о неуверенности работодателей в том, какой именно специалист ему необходим для выполнения тех или иных задач, какие компетенции будет выполнять сотрудник и какую пользу принесет его работа.\n",
    "Так же можно предположить, что компании ищут кандидатов, знающих цену своей работе и ориентирующихся в рынке."
   ]
  },
  {
   "cell_type": "markdown",
   "metadata": {},
   "source": [
    "#### Cредние значения для нижней и верхней границы зарплатной вилки. Округлите значения до целого числа."
   ]
  },
  {
   "cell_type": "code",
   "execution_count": 16,
   "metadata": {},
   "outputs": [],
   "source": [
    "query_4_3 = f''' \n",
    "            SELECT\n",
    "                AVG(salary_from) AS lower_mean,\n",
    "                AVG(salary_to) AS upper_mean\n",
    "            FROM public.vacancies\n",
    "            '''"
   ]
  },
  {
   "cell_type": "code",
   "execution_count": 17,
   "metadata": {},
   "outputs": [
    {
     "data": {
      "text/html": [
       "<div>\n",
       "<style scoped>\n",
       "    .dataframe tbody tr th:only-of-type {\n",
       "        vertical-align: middle;\n",
       "    }\n",
       "\n",
       "    .dataframe tbody tr th {\n",
       "        vertical-align: top;\n",
       "    }\n",
       "\n",
       "    .dataframe thead th {\n",
       "        text-align: right;\n",
       "    }\n",
       "</style>\n",
       "<table border=\"1\" class=\"dataframe\">\n",
       "  <thead>\n",
       "    <tr style=\"text-align: right;\">\n",
       "      <th></th>\n",
       "      <th>lower_mean</th>\n",
       "      <th>upper_mean</th>\n",
       "    </tr>\n",
       "  </thead>\n",
       "  <tbody>\n",
       "    <tr>\n",
       "      <th>0</th>\n",
       "      <td>71064.657901</td>\n",
       "      <td>110536.741923</td>\n",
       "    </tr>\n",
       "  </tbody>\n",
       "</table>\n",
       "</div>"
      ],
      "text/plain": [
       "     lower_mean     upper_mean\n",
       "0  71064.657901  110536.741923"
      ]
     },
     "metadata": {},
     "output_type": "display_data"
    }
   ],
   "source": [
    "exit_4_3 = pd.read_sql_query(query_4_3, connection_project)\n",
    "display(exit_4_3)"
   ]
  },
  {
   "cell_type": "markdown",
   "metadata": {},
   "source": [
    "#### количество вакансий для каждого сочетания типа рабочего графика (schedule) и типа трудоустройства (employment), используемого в вакансиях."
   ]
  },
  {
   "cell_type": "code",
   "execution_count": 18,
   "metadata": {},
   "outputs": [],
   "source": [
    "query_4_4 = f''' \n",
    "            SELECT\n",
    "                schedule,\n",
    "                employment,\n",
    "                COUNT(*)\n",
    "            FROM public.vacancies\n",
    "            GROUP BY 1,2\n",
    "            ORDER BY 3 DESC\n",
    "            limit 5\n",
    "            '''"
   ]
  },
  {
   "cell_type": "code",
   "execution_count": 19,
   "metadata": {},
   "outputs": [
    {
     "data": {
      "text/html": [
       "<div>\n",
       "<style scoped>\n",
       "    .dataframe tbody tr th:only-of-type {\n",
       "        vertical-align: middle;\n",
       "    }\n",
       "\n",
       "    .dataframe tbody tr th {\n",
       "        vertical-align: top;\n",
       "    }\n",
       "\n",
       "    .dataframe thead th {\n",
       "        text-align: right;\n",
       "    }\n",
       "</style>\n",
       "<table border=\"1\" class=\"dataframe\">\n",
       "  <thead>\n",
       "    <tr style=\"text-align: right;\">\n",
       "      <th></th>\n",
       "      <th>schedule</th>\n",
       "      <th>employment</th>\n",
       "      <th>count</th>\n",
       "    </tr>\n",
       "  </thead>\n",
       "  <tbody>\n",
       "    <tr>\n",
       "      <th>0</th>\n",
       "      <td>Полный день</td>\n",
       "      <td>Полная занятость</td>\n",
       "      <td>35367</td>\n",
       "    </tr>\n",
       "    <tr>\n",
       "      <th>1</th>\n",
       "      <td>Удаленная работа</td>\n",
       "      <td>Полная занятость</td>\n",
       "      <td>7802</td>\n",
       "    </tr>\n",
       "    <tr>\n",
       "      <th>2</th>\n",
       "      <td>Гибкий график</td>\n",
       "      <td>Полная занятость</td>\n",
       "      <td>1593</td>\n",
       "    </tr>\n",
       "    <tr>\n",
       "      <th>3</th>\n",
       "      <td>Удаленная работа</td>\n",
       "      <td>Частичная занятость</td>\n",
       "      <td>1312</td>\n",
       "    </tr>\n",
       "    <tr>\n",
       "      <th>4</th>\n",
       "      <td>Сменный график</td>\n",
       "      <td>Полная занятость</td>\n",
       "      <td>940</td>\n",
       "    </tr>\n",
       "  </tbody>\n",
       "</table>\n",
       "</div>"
      ],
      "text/plain": [
       "           schedule           employment  count\n",
       "0       Полный день     Полная занятость  35367\n",
       "1  Удаленная работа     Полная занятость   7802\n",
       "2     Гибкий график     Полная занятость   1593\n",
       "3  Удаленная работа  Частичная занятость   1312\n",
       "4    Сменный график     Полная занятость    940"
      ]
     },
     "metadata": {},
     "output_type": "display_data"
    }
   ],
   "source": [
    "exit_4_4 = pd.read_sql_query(query_4_4, connection_project)\n",
    "display(exit_4_4)"
   ]
  },
  {
   "cell_type": "markdown",
   "metadata": {},
   "source": [
    "Заметное большинство вакансий указывается с графиком Полный день и трудоустройством Полная занятость, такой вариант характерен для работы в офисе. Можно предположить, что значительное большинство компаний хотят иметь возможность контролировать работу своих сотрудников, также помогать и направлять их эффективнее оффлайн. Сочетание этих условий попогает добиться хорошей отдачи от работы в виде результата и выстраиванию долгосрочного сотрудничества с работником."
   ]
  },
  {
   "cell_type": "markdown",
   "metadata": {},
   "source": [
    "#### Выведем значения поля experience в порядке возрастания количества вакансий, в которых указан данный вариант опыта."
   ]
  },
  {
   "cell_type": "code",
   "execution_count": 20,
   "metadata": {},
   "outputs": [],
   "source": [
    "query_4_5 = f''' \n",
    "            SELECT\n",
    "                experience,\n",
    "                COUNT(*)\n",
    "            FROM public.vacancies\n",
    "            GROUP BY 1\n",
    "            ORDER BY 2\n",
    "            '''"
   ]
  },
  {
   "cell_type": "code",
   "execution_count": 21,
   "metadata": {},
   "outputs": [
    {
     "data": {
      "text/html": [
       "<div>\n",
       "<style scoped>\n",
       "    .dataframe tbody tr th:only-of-type {\n",
       "        vertical-align: middle;\n",
       "    }\n",
       "\n",
       "    .dataframe tbody tr th {\n",
       "        vertical-align: top;\n",
       "    }\n",
       "\n",
       "    .dataframe thead th {\n",
       "        text-align: right;\n",
       "    }\n",
       "</style>\n",
       "<table border=\"1\" class=\"dataframe\">\n",
       "  <thead>\n",
       "    <tr style=\"text-align: right;\">\n",
       "      <th></th>\n",
       "      <th>experience</th>\n",
       "      <th>count</th>\n",
       "    </tr>\n",
       "  </thead>\n",
       "  <tbody>\n",
       "    <tr>\n",
       "      <th>0</th>\n",
       "      <td>Более 6 лет</td>\n",
       "      <td>1337</td>\n",
       "    </tr>\n",
       "    <tr>\n",
       "      <th>1</th>\n",
       "      <td>Нет опыта</td>\n",
       "      <td>7197</td>\n",
       "    </tr>\n",
       "    <tr>\n",
       "      <th>2</th>\n",
       "      <td>От 3 до 6 лет</td>\n",
       "      <td>14511</td>\n",
       "    </tr>\n",
       "    <tr>\n",
       "      <th>3</th>\n",
       "      <td>От 1 года до 3 лет</td>\n",
       "      <td>26152</td>\n",
       "    </tr>\n",
       "  </tbody>\n",
       "</table>\n",
       "</div>"
      ],
      "text/plain": [
       "           experience  count\n",
       "0         Более 6 лет   1337\n",
       "1           Нет опыта   7197\n",
       "2       От 3 до 6 лет  14511\n",
       "3  От 1 года до 3 лет  26152"
      ]
     },
     "metadata": {},
     "output_type": "display_data"
    }
   ],
   "source": [
    "exit_4_5 = pd.read_sql_query(query_4_5, connection_project)\n",
    "display(exit_4_5)"
   ]
  },
  {
   "cell_type": "markdown",
   "metadata": {},
   "source": [
    "Наиболее востребованы специалисты начинающие и с опытом от 3 до 6 лет. Молодые и начинающие специалисты развиваются в компании и становятся опытными специалистами глубоко понимающими задачи организации. Таких сотрудников нанимают в основном устойчивые на рынке компании, имеющие возможность \"растить\" новых специалистов и расширяться. Можно предположить что мы имеем дело с разивающимся рынком.\n",
    "Молдые компании, пока не готовые обучать малоопытных специалистов, ищут сотруднка со средним или большим опытом, что бы быстро получить результат его работы и наладить выполнение недостающей для бизнеса части работы."
   ]
  },
  {
   "cell_type": "markdown",
   "metadata": {},
   "source": [
    "# Анализ работодателей"
   ]
  },
  {
   "cell_type": "markdown",
   "metadata": {},
   "source": [
    "#### Какие работодатели находятся на первом и пятом месте по количеству вакансий"
   ]
  },
  {
   "cell_type": "code",
   "execution_count": 22,
   "metadata": {},
   "outputs": [],
   "source": [
    "query_5_1 = f''' \n",
    "            SELECT \n",
    "                empl.name,\n",
    "                COUNT(*)\n",
    "            FROM public.employers empl\n",
    "                JOIN public.vacancies vc ON vc.employer_id = empl.id\n",
    "            GROUP BY 1\n",
    "            ORDER BY 2 DESC\n",
    "            LIMIT 5\n",
    "            '''"
   ]
  },
  {
   "cell_type": "code",
   "execution_count": 23,
   "metadata": {},
   "outputs": [
    {
     "data": {
      "text/html": [
       "<div>\n",
       "<style scoped>\n",
       "    .dataframe tbody tr th:only-of-type {\n",
       "        vertical-align: middle;\n",
       "    }\n",
       "\n",
       "    .dataframe tbody tr th {\n",
       "        vertical-align: top;\n",
       "    }\n",
       "\n",
       "    .dataframe thead th {\n",
       "        text-align: right;\n",
       "    }\n",
       "</style>\n",
       "<table border=\"1\" class=\"dataframe\">\n",
       "  <thead>\n",
       "    <tr style=\"text-align: right;\">\n",
       "      <th></th>\n",
       "      <th>name</th>\n",
       "      <th>count</th>\n",
       "    </tr>\n",
       "  </thead>\n",
       "  <tbody>\n",
       "    <tr>\n",
       "      <th>0</th>\n",
       "      <td>Яндекс</td>\n",
       "      <td>1933</td>\n",
       "    </tr>\n",
       "    <tr>\n",
       "      <th>1</th>\n",
       "      <td>Ростелеком</td>\n",
       "      <td>491</td>\n",
       "    </tr>\n",
       "    <tr>\n",
       "      <th>2</th>\n",
       "      <td>Тинькофф</td>\n",
       "      <td>444</td>\n",
       "    </tr>\n",
       "    <tr>\n",
       "      <th>3</th>\n",
       "      <td>СБЕР</td>\n",
       "      <td>428</td>\n",
       "    </tr>\n",
       "    <tr>\n",
       "      <th>4</th>\n",
       "      <td>Газпром нефть</td>\n",
       "      <td>331</td>\n",
       "    </tr>\n",
       "  </tbody>\n",
       "</table>\n",
       "</div>"
      ],
      "text/plain": [
       "            name  count\n",
       "0         Яндекс   1933\n",
       "1     Ростелеком    491\n",
       "2       Тинькофф    444\n",
       "3           СБЕР    428\n",
       "4  Газпром нефть    331"
      ]
     },
     "metadata": {},
     "output_type": "display_data"
    }
   ],
   "source": [
    "exit_5_1 = pd.read_sql_query(query_5_1, connection_project)\n",
    "display(exit_5_1)"
   ]
  },
  {
   "cell_type": "markdown",
   "metadata": {},
   "source": [
    "Из вывода следует что Яндекс разместил вакансий больше остальных. Следовательно крупная компания нацелена на расширение и развитие бизнеса в разных секторах. Скорее всего Яндекс, в отличии от других компаний, имеет больше представлений разной продукции на рынке, что делает его бренд узнаваемым (в том числе и компаний вошедших в топ-5). Предположу, что Яндекс расширяет бизнес за счет человеческих ресурсов для предоставления услуг, доступных конечному потребителю (физ.лицам)."
   ]
  },
  {
   "cell_type": "markdown",
   "metadata": {},
   "source": [
    "#### Для каждого региона вывести количество работодателей и вакансий в нём. Среди регионов, в которых нет вакансий, найдите тот, в котором наибольшее количество работодателей"
   ]
  },
  {
   "cell_type": "code",
   "execution_count": 24,
   "metadata": {},
   "outputs": [],
   "source": [
    "query_5_2 = f''' \n",
    "            SELECT\n",
    "                ar.name,\n",
    "                COUNT(vc.id) vc,\n",
    "                COUNT(em.id) emp\n",
    "            FROM public.areas ar\n",
    "                LEFT JOIN public.vacancies vc ON ar.id = vc.area_id\n",
    "                LEFT JOIN public.employers em ON ar.id = em.area\n",
    "            GROUP BY 1\n",
    "            ORDER BY vc ASC, emp DESC\n",
    "            '''"
   ]
  },
  {
   "cell_type": "code",
   "execution_count": 25,
   "metadata": {},
   "outputs": [
    {
     "data": {
      "text/html": [
       "<div>\n",
       "<style scoped>\n",
       "    .dataframe tbody tr th:only-of-type {\n",
       "        vertical-align: middle;\n",
       "    }\n",
       "\n",
       "    .dataframe tbody tr th {\n",
       "        vertical-align: top;\n",
       "    }\n",
       "\n",
       "    .dataframe thead th {\n",
       "        text-align: right;\n",
       "    }\n",
       "</style>\n",
       "<table border=\"1\" class=\"dataframe\">\n",
       "  <thead>\n",
       "    <tr style=\"text-align: right;\">\n",
       "      <th></th>\n",
       "      <th>name</th>\n",
       "      <th>vc</th>\n",
       "      <th>emp</th>\n",
       "    </tr>\n",
       "  </thead>\n",
       "  <tbody>\n",
       "    <tr>\n",
       "      <th>0</th>\n",
       "      <td>Россия</td>\n",
       "      <td>0</td>\n",
       "      <td>410</td>\n",
       "    </tr>\n",
       "    <tr>\n",
       "      <th>1</th>\n",
       "      <td>Казахстан</td>\n",
       "      <td>0</td>\n",
       "      <td>207</td>\n",
       "    </tr>\n",
       "    <tr>\n",
       "      <th>2</th>\n",
       "      <td>Московская область</td>\n",
       "      <td>0</td>\n",
       "      <td>75</td>\n",
       "    </tr>\n",
       "    <tr>\n",
       "      <th>3</th>\n",
       "      <td>Краснодарский край</td>\n",
       "      <td>0</td>\n",
       "      <td>19</td>\n",
       "    </tr>\n",
       "    <tr>\n",
       "      <th>4</th>\n",
       "      <td>Ростовская область</td>\n",
       "      <td>0</td>\n",
       "      <td>18</td>\n",
       "    </tr>\n",
       "    <tr>\n",
       "      <th>...</th>\n",
       "      <td>...</td>\n",
       "      <td>...</td>\n",
       "      <td>...</td>\n",
       "    </tr>\n",
       "    <tr>\n",
       "      <th>1357</th>\n",
       "      <td>Новосибирск</td>\n",
       "      <td>1149438</td>\n",
       "      <td>1149438</td>\n",
       "    </tr>\n",
       "    <tr>\n",
       "      <th>1358</th>\n",
       "      <td>Алматы</td>\n",
       "      <td>1364132</td>\n",
       "      <td>1364132</td>\n",
       "    </tr>\n",
       "    <tr>\n",
       "      <th>1359</th>\n",
       "      <td>Минск</td>\n",
       "      <td>2354880</td>\n",
       "      <td>2354880</td>\n",
       "    </tr>\n",
       "    <tr>\n",
       "      <th>1360</th>\n",
       "      <td>Санкт-Петербург</td>\n",
       "      <td>6320667</td>\n",
       "      <td>6320667</td>\n",
       "    </tr>\n",
       "    <tr>\n",
       "      <th>1361</th>\n",
       "      <td>Москва</td>\n",
       "      <td>31272712</td>\n",
       "      <td>31272712</td>\n",
       "    </tr>\n",
       "  </tbody>\n",
       "</table>\n",
       "<p>1362 rows × 3 columns</p>\n",
       "</div>"
      ],
      "text/plain": [
       "                    name        vc       emp\n",
       "0                 Россия         0       410\n",
       "1              Казахстан         0       207\n",
       "2     Московская область         0        75\n",
       "3     Краснодарский край         0        19\n",
       "4     Ростовская область         0        18\n",
       "...                  ...       ...       ...\n",
       "1357         Новосибирск   1149438   1149438\n",
       "1358              Алматы   1364132   1364132\n",
       "1359               Минск   2354880   2354880\n",
       "1360     Санкт-Петербург   6320667   6320667\n",
       "1361              Москва  31272712  31272712\n",
       "\n",
       "[1362 rows x 3 columns]"
      ]
     },
     "metadata": {},
     "output_type": "display_data"
    }
   ],
   "source": [
    "exit_5_2 = pd.read_sql_query(query_5_2, connection_project)\n",
    "display(exit_5_2)"
   ]
  },
  {
   "cell_type": "markdown",
   "metadata": {},
   "source": [
    "Регион регистрации некоторых работодателей указывается как страна и не содержит вакансий. Возможно это компании, которые не нуждаются в сотрудниках. "
   ]
  },
  {
   "cell_type": "code",
   "execution_count": 26,
   "metadata": {},
   "outputs": [],
   "source": [
    "query_5_3 = f''' \n",
    "            SELECT \n",
    "                em.name,\n",
    "                COUNT(DISTINCT vc.area_id)\n",
    "            FROM public.employers em\n",
    "                JOIN public.vacancies vc ON em.id = vc.employer_id\n",
    "            GROUP BY 1\n",
    "            ORDER BY 2 desc\n",
    "            '''"
   ]
  },
  {
   "cell_type": "code",
   "execution_count": 27,
   "metadata": {},
   "outputs": [
    {
     "data": {
      "text/html": [
       "<div>\n",
       "<style scoped>\n",
       "    .dataframe tbody tr th:only-of-type {\n",
       "        vertical-align: middle;\n",
       "    }\n",
       "\n",
       "    .dataframe tbody tr th {\n",
       "        vertical-align: top;\n",
       "    }\n",
       "\n",
       "    .dataframe thead th {\n",
       "        text-align: right;\n",
       "    }\n",
       "</style>\n",
       "<table border=\"1\" class=\"dataframe\">\n",
       "  <thead>\n",
       "    <tr style=\"text-align: right;\">\n",
       "      <th></th>\n",
       "      <th>name</th>\n",
       "      <th>count</th>\n",
       "    </tr>\n",
       "  </thead>\n",
       "  <tbody>\n",
       "    <tr>\n",
       "      <th>0</th>\n",
       "      <td>Яндекс</td>\n",
       "      <td>181</td>\n",
       "    </tr>\n",
       "    <tr>\n",
       "      <th>1</th>\n",
       "      <td>Ростелеком</td>\n",
       "      <td>152</td>\n",
       "    </tr>\n",
       "    <tr>\n",
       "      <th>2</th>\n",
       "      <td>Спецремонт</td>\n",
       "      <td>116</td>\n",
       "    </tr>\n",
       "    <tr>\n",
       "      <th>3</th>\n",
       "      <td>Поляков Денис Иванович</td>\n",
       "      <td>88</td>\n",
       "    </tr>\n",
       "    <tr>\n",
       "      <th>4</th>\n",
       "      <td>ООО ЕФИН</td>\n",
       "      <td>71</td>\n",
       "    </tr>\n",
       "    <tr>\n",
       "      <th>...</th>\n",
       "      <td>...</td>\n",
       "      <td>...</td>\n",
       "    </tr>\n",
       "    <tr>\n",
       "      <th>14761</th>\n",
       "      <td>UniSol</td>\n",
       "      <td>1</td>\n",
       "    </tr>\n",
       "    <tr>\n",
       "      <th>14762</th>\n",
       "      <td>UNISTORY LLC</td>\n",
       "      <td>1</td>\n",
       "    </tr>\n",
       "    <tr>\n",
       "      <th>14763</th>\n",
       "      <td>UNIT6</td>\n",
       "      <td>1</td>\n",
       "    </tr>\n",
       "    <tr>\n",
       "      <th>14764</th>\n",
       "      <td>United Distribution</td>\n",
       "      <td>1</td>\n",
       "    </tr>\n",
       "    <tr>\n",
       "      <th>14765</th>\n",
       "      <td>UNITEL LLC</td>\n",
       "      <td>1</td>\n",
       "    </tr>\n",
       "  </tbody>\n",
       "</table>\n",
       "<p>14766 rows × 2 columns</p>\n",
       "</div>"
      ],
      "text/plain": [
       "                         name  count\n",
       "0                      Яндекс    181\n",
       "1                  Ростелеком    152\n",
       "2                  Спецремонт    116\n",
       "3      Поляков Денис Иванович     88\n",
       "4                   ООО ЕФИН      71\n",
       "...                       ...    ...\n",
       "14761                  UniSol      1\n",
       "14762            UNISTORY LLC      1\n",
       "14763                   UNIT6      1\n",
       "14764     United Distribution      1\n",
       "14765              UNITEL LLC      1\n",
       "\n",
       "[14766 rows x 2 columns]"
      ]
     },
     "metadata": {},
     "output_type": "display_data"
    }
   ],
   "source": [
    "exit_5_3 = pd.read_sql_query(query_5_3, connection_project)\n",
    "display(exit_5_3)"
   ]
  },
  {
   "cell_type": "markdown",
   "metadata": {},
   "source": [
    "Компании с боьшим числом регионов, в которых размещены вакансии, иеют бльшое покрытие по стране и делают свой продукт популярнее. Такой разброс может означать, что компании имеют бизнес в сфере обслуживания. Поэтому для привлечения новых сотрудников подходят многие регионы имеющие потенциал использования услуг населением."
   ]
  },
  {
   "cell_type": "markdown",
   "metadata": {},
   "source": [
    "#### подсчёт количества работодателей, у которых не указана сфера деятельности."
   ]
  },
  {
   "cell_type": "code",
   "execution_count": 28,
   "metadata": {},
   "outputs": [],
   "source": [
    "query_5_4 = f''' \n",
    "            SELECT\n",
    "                COUNT(*)\n",
    "            FROM \n",
    "                public.employers_industries em_i\n",
    "                JOIN public.industries ind ON em_i.industry_id = ind.id\n",
    "                RIGHT JOIN public.employers em ON em_i.employer_id = em.id\n",
    "            WHERE ind.name IS NULL\n",
    "            '''"
   ]
  },
  {
   "cell_type": "code",
   "execution_count": 29,
   "metadata": {},
   "outputs": [
    {
     "data": {
      "text/html": [
       "<div>\n",
       "<style scoped>\n",
       "    .dataframe tbody tr th:only-of-type {\n",
       "        vertical-align: middle;\n",
       "    }\n",
       "\n",
       "    .dataframe tbody tr th {\n",
       "        vertical-align: top;\n",
       "    }\n",
       "\n",
       "    .dataframe thead th {\n",
       "        text-align: right;\n",
       "    }\n",
       "</style>\n",
       "<table border=\"1\" class=\"dataframe\">\n",
       "  <thead>\n",
       "    <tr style=\"text-align: right;\">\n",
       "      <th></th>\n",
       "      <th>count</th>\n",
       "    </tr>\n",
       "  </thead>\n",
       "  <tbody>\n",
       "    <tr>\n",
       "      <th>0</th>\n",
       "      <td>8419</td>\n",
       "    </tr>\n",
       "  </tbody>\n",
       "</table>\n",
       "</div>"
      ],
      "text/plain": [
       "   count\n",
       "0   8419"
      ]
     },
     "metadata": {},
     "output_type": "display_data"
    }
   ],
   "source": [
    "exit_5_4 = pd.read_sql_query(query_5_4, connection_project)\n",
    "display(exit_5_4)"
   ]
  },
  {
   "cell_type": "markdown",
   "metadata": {},
   "source": [
    "Более 8 тысяч работодателей не указали сферу деятельности. Возможно эту информацию просто не указали или это связано с определенной секретностью. Поскольку понять, чем занимается организация нельзя напрямую, можно проанализировать наличие вакансий у таких работодателей и установить род деятельности. Если у компании отсутствуют и вакансии, то такая запись в данных не принесет пользы."
   ]
  },
  {
   "cell_type": "markdown",
   "metadata": {},
   "source": [
    "#### Название компании, находящейся на третьем месте в алфавитном списке (по названию) компаний, у которых указано четыре сферы деятельности."
   ]
  },
  {
   "cell_type": "code",
   "execution_count": 30,
   "metadata": {},
   "outputs": [],
   "source": [
    "query_5_5 = f''' \n",
    "            SELECT\n",
    "                em.name,\n",
    "                COUNT(industry_id) cnt_industry\n",
    "            FROM \n",
    "                public.employers_industries em_i\n",
    "                JOIN public.industries ind ON em_i.industry_id = ind.id\n",
    "                JOIN public.employers em ON em_i.employer_id = em.id\n",
    "            GROUP BY 1\n",
    "            HAVING COUNT(industry_id) = 4\n",
    "            ORDER BY em.name\n",
    "            '''"
   ]
  },
  {
   "cell_type": "code",
   "execution_count": 31,
   "metadata": {},
   "outputs": [
    {
     "data": {
      "text/html": [
       "<div>\n",
       "<style scoped>\n",
       "    .dataframe tbody tr th:only-of-type {\n",
       "        vertical-align: middle;\n",
       "    }\n",
       "\n",
       "    .dataframe tbody tr th {\n",
       "        vertical-align: top;\n",
       "    }\n",
       "\n",
       "    .dataframe thead th {\n",
       "        text-align: right;\n",
       "    }\n",
       "</style>\n",
       "<table border=\"1\" class=\"dataframe\">\n",
       "  <thead>\n",
       "    <tr style=\"text-align: right;\">\n",
       "      <th></th>\n",
       "      <th>name</th>\n",
       "      <th>cnt_industry</th>\n",
       "    </tr>\n",
       "  </thead>\n",
       "  <tbody>\n",
       "    <tr>\n",
       "      <th>0</th>\n",
       "      <td>101 Интернет</td>\n",
       "      <td>4</td>\n",
       "    </tr>\n",
       "    <tr>\n",
       "      <th>1</th>\n",
       "      <td>21vek.by</td>\n",
       "      <td>4</td>\n",
       "    </tr>\n",
       "    <tr>\n",
       "      <th>2</th>\n",
       "      <td>2ГИС</td>\n",
       "      <td>4</td>\n",
       "    </tr>\n",
       "    <tr>\n",
       "      <th>3</th>\n",
       "      <td>2К</td>\n",
       "      <td>4</td>\n",
       "    </tr>\n",
       "    <tr>\n",
       "      <th>4</th>\n",
       "      <td>4 пикселя +</td>\n",
       "      <td>4</td>\n",
       "    </tr>\n",
       "    <tr>\n",
       "      <th>...</th>\n",
       "      <td>...</td>\n",
       "      <td>...</td>\n",
       "    </tr>\n",
       "    <tr>\n",
       "      <th>1131</th>\n",
       "      <td>ЮРИОН</td>\n",
       "      <td>4</td>\n",
       "    </tr>\n",
       "    <tr>\n",
       "      <th>1132</th>\n",
       "      <td>ЮТИП Технологии</td>\n",
       "      <td>4</td>\n",
       "    </tr>\n",
       "    <tr>\n",
       "      <th>1133</th>\n",
       "      <td>ЯКласс</td>\n",
       "      <td>4</td>\n",
       "    </tr>\n",
       "    <tr>\n",
       "      <th>1134</th>\n",
       "      <td>ЯрНео</td>\n",
       "      <td>4</td>\n",
       "    </tr>\n",
       "    <tr>\n",
       "      <th>1135</th>\n",
       "      <td>Яшин&amp;Партнёры</td>\n",
       "      <td>4</td>\n",
       "    </tr>\n",
       "  </tbody>\n",
       "</table>\n",
       "<p>1136 rows × 2 columns</p>\n",
       "</div>"
      ],
      "text/plain": [
       "                 name  cnt_industry\n",
       "0        101 Интернет             4\n",
       "1            21vek.by             4\n",
       "2                2ГИС             4\n",
       "3                  2К             4\n",
       "4         4 пикселя +             4\n",
       "...               ...           ...\n",
       "1131            ЮРИОН             4\n",
       "1132  ЮТИП Технологии             4\n",
       "1133           ЯКласс             4\n",
       "1134            ЯрНео             4\n",
       "1135    Яшин&Партнёры             4\n",
       "\n",
       "[1136 rows x 2 columns]"
      ]
     },
     "metadata": {},
     "output_type": "display_data"
    }
   ],
   "source": [
    "exit_5_5 = pd.read_sql_query(query_5_5,connection_project)\n",
    "display(exit_5_5)"
   ]
  },
  {
   "cell_type": "markdown",
   "metadata": {},
   "source": [
    "Работодателей с четырьмя сферами деятельности более 1к, такие компании могут быть слабоизвестны если каждый из бизнесов, который они ведут, не имеет широкого распространения своего продукта. Также организация может работать в сферах B2B и конечные потребители могут не знать о ней."
   ]
  },
  {
   "cell_type": "markdown",
   "metadata": {},
   "source": [
    "#### Количество работодателей, у которых сфера деятельности указана «Разработка программного обеспечения»."
   ]
  },
  {
   "cell_type": "code",
   "execution_count": 32,
   "metadata": {},
   "outputs": [],
   "source": [
    "query_5_6 = f''' \n",
    "            SELECT\n",
    "                COUNT(em.id)\n",
    "            FROM \n",
    "                public.employers_industries em_i\n",
    "                JOIN public.industries ind ON em_i.industry_id = ind.id\n",
    "                JOIN public.employers em ON em_i.employer_id = em.id\n",
    "            WHERE ind.name LIKE '%Разработка программного обеспечения%'\n",
    "            '''"
   ]
  },
  {
   "cell_type": "code",
   "execution_count": 33,
   "metadata": {},
   "outputs": [
    {
     "data": {
      "text/html": [
       "<div>\n",
       "<style scoped>\n",
       "    .dataframe tbody tr th:only-of-type {\n",
       "        vertical-align: middle;\n",
       "    }\n",
       "\n",
       "    .dataframe tbody tr th {\n",
       "        vertical-align: top;\n",
       "    }\n",
       "\n",
       "    .dataframe thead th {\n",
       "        text-align: right;\n",
       "    }\n",
       "</style>\n",
       "<table border=\"1\" class=\"dataframe\">\n",
       "  <thead>\n",
       "    <tr style=\"text-align: right;\">\n",
       "      <th></th>\n",
       "      <th>count</th>\n",
       "    </tr>\n",
       "  </thead>\n",
       "  <tbody>\n",
       "    <tr>\n",
       "      <th>0</th>\n",
       "      <td>3553</td>\n",
       "    </tr>\n",
       "  </tbody>\n",
       "</table>\n",
       "</div>"
      ],
      "text/plain": [
       "   count\n",
       "0   3553"
      ]
     },
     "metadata": {},
     "output_type": "display_data"
    }
   ],
   "source": [
    "exit_5_6 = pd.read_sql_query(query_5_6,connection_project)\n",
    "display(exit_5_6) "
   ]
  },
  {
   "cell_type": "markdown",
   "metadata": {},
   "source": [
    "Разработкой ПО занимаются 3,5к организаций, довольно большое число организаций конкурирует в этой среде. Это может говорить об развитии рынка IT, поскольку многие компании и население стараются оптимизировать свою работу через компьютер. Соответственно будет повышаться спрос на специалистов IT, что приведет к увеличнию вакансий в этой области."
   ]
  },
  {
   "cell_type": "markdown",
   "metadata": {},
   "source": [
    "#### Для компании «Яндекс» вывести список регионов-миллионников, в которых представлены вакансии компании, вместе с количеством вакансий в этих регионах. Также добавить строку Total с общим количеством вакансий компании."
   ]
  },
  {
   "cell_type": "code",
   "execution_count": 34,
   "metadata": {},
   "outputs": [],
   "source": [
    "list_city = ('Москва','Санкт-Петербург',\n",
    "'Новосибирск','Екатеринбург',\n",
    "'Казань','Нижний Новгород',\n",
    "'Челябинск','Красноярск',\n",
    "'Самара','Уфа',\n",
    "'Ростов-на-Дону','Омск',\n",
    "'Краснодар','Воронеж',\n",
    "'Пермь','Волгоград')\n",
    "\n",
    "query_5_7 = f''' \n",
    "            SELECT \n",
    "                ar.name,\n",
    "                COUNT(vc.id)\n",
    "            \n",
    "            FROM public.vacancies vc\n",
    "                JOIN public.employers em ON em.id = vc.employer_id\n",
    "                JOIN public.areas ar ON ar.id = vc.area_id\n",
    "            WHERE em.name = 'Яндекс' AND ar.name in {list_city}\n",
    "            GROUP BY 1\n",
    "            \n",
    "            UNION\n",
    "            \n",
    "            SELECT \n",
    "                'total', COUNT(*)\n",
    "            FROM public.vacancies vc\n",
    "                JOIN public.employers em ON em.id = vc.employer_id\n",
    "                JOIN public.areas ar ON ar.id = vc.area_id\n",
    "            WHERE em.name = 'Яндекс' AND ar.name in {list_city}\n",
    "            ORDER BY 2\n",
    "            '''"
   ]
  },
  {
   "cell_type": "code",
   "execution_count": 35,
   "metadata": {},
   "outputs": [
    {
     "data": {
      "text/html": [
       "<div>\n",
       "<style scoped>\n",
       "    .dataframe tbody tr th:only-of-type {\n",
       "        vertical-align: middle;\n",
       "    }\n",
       "\n",
       "    .dataframe tbody tr th {\n",
       "        vertical-align: top;\n",
       "    }\n",
       "\n",
       "    .dataframe thead th {\n",
       "        text-align: right;\n",
       "    }\n",
       "</style>\n",
       "<table border=\"1\" class=\"dataframe\">\n",
       "  <thead>\n",
       "    <tr style=\"text-align: right;\">\n",
       "      <th></th>\n",
       "      <th>name</th>\n",
       "      <th>count</th>\n",
       "    </tr>\n",
       "  </thead>\n",
       "  <tbody>\n",
       "    <tr>\n",
       "      <th>0</th>\n",
       "      <td>Омск</td>\n",
       "      <td>21</td>\n",
       "    </tr>\n",
       "    <tr>\n",
       "      <th>1</th>\n",
       "      <td>Челябинск</td>\n",
       "      <td>22</td>\n",
       "    </tr>\n",
       "    <tr>\n",
       "      <th>2</th>\n",
       "      <td>Красноярск</td>\n",
       "      <td>23</td>\n",
       "    </tr>\n",
       "    <tr>\n",
       "      <th>3</th>\n",
       "      <td>Волгоград</td>\n",
       "      <td>24</td>\n",
       "    </tr>\n",
       "    <tr>\n",
       "      <th>4</th>\n",
       "      <td>Пермь</td>\n",
       "      <td>25</td>\n",
       "    </tr>\n",
       "    <tr>\n",
       "      <th>5</th>\n",
       "      <td>Казань</td>\n",
       "      <td>25</td>\n",
       "    </tr>\n",
       "    <tr>\n",
       "      <th>6</th>\n",
       "      <td>Ростов-на-Дону</td>\n",
       "      <td>25</td>\n",
       "    </tr>\n",
       "    <tr>\n",
       "      <th>7</th>\n",
       "      <td>Уфа</td>\n",
       "      <td>26</td>\n",
       "    </tr>\n",
       "    <tr>\n",
       "      <th>8</th>\n",
       "      <td>Самара</td>\n",
       "      <td>26</td>\n",
       "    </tr>\n",
       "    <tr>\n",
       "      <th>9</th>\n",
       "      <td>Краснодар</td>\n",
       "      <td>30</td>\n",
       "    </tr>\n",
       "    <tr>\n",
       "      <th>10</th>\n",
       "      <td>Воронеж</td>\n",
       "      <td>32</td>\n",
       "    </tr>\n",
       "    <tr>\n",
       "      <th>11</th>\n",
       "      <td>Новосибирск</td>\n",
       "      <td>35</td>\n",
       "    </tr>\n",
       "    <tr>\n",
       "      <th>12</th>\n",
       "      <td>Нижний Новгород</td>\n",
       "      <td>36</td>\n",
       "    </tr>\n",
       "    <tr>\n",
       "      <th>13</th>\n",
       "      <td>Екатеринбург</td>\n",
       "      <td>39</td>\n",
       "    </tr>\n",
       "    <tr>\n",
       "      <th>14</th>\n",
       "      <td>Санкт-Петербург</td>\n",
       "      <td>42</td>\n",
       "    </tr>\n",
       "    <tr>\n",
       "      <th>15</th>\n",
       "      <td>Москва</td>\n",
       "      <td>54</td>\n",
       "    </tr>\n",
       "    <tr>\n",
       "      <th>16</th>\n",
       "      <td>total</td>\n",
       "      <td>485</td>\n",
       "    </tr>\n",
       "  </tbody>\n",
       "</table>\n",
       "</div>"
      ],
      "text/plain": [
       "               name  count\n",
       "0              Омск     21\n",
       "1         Челябинск     22\n",
       "2        Красноярск     23\n",
       "3         Волгоград     24\n",
       "4             Пермь     25\n",
       "5            Казань     25\n",
       "6    Ростов-на-Дону     25\n",
       "7               Уфа     26\n",
       "8            Самара     26\n",
       "9         Краснодар     30\n",
       "10          Воронеж     32\n",
       "11      Новосибирск     35\n",
       "12  Нижний Новгород     36\n",
       "13     Екатеринбург     39\n",
       "14  Санкт-Петербург     42\n",
       "15           Москва     54\n",
       "16            total    485"
      ]
     },
     "metadata": {},
     "output_type": "display_data"
    }
   ],
   "source": [
    "exit_5_7 = pd.read_sql_query(query_5_7,connection_project)\n",
    "display(exit_5_7) "
   ]
  },
  {
   "cell_type": "markdown",
   "metadata": {},
   "source": [
    "Вакансии Яндекса представлены в каждом городе-миллионнике, организация имеет широкую известность и это способствует развитию бренда на разные товары или услуги. "
   ]
  },
  {
   "cell_type": "code",
   "execution_count": 36,
   "metadata": {},
   "outputs": [
    {
     "name": "stdout",
     "output_type": "stream",
     "text": [
      "<!doctype html>\n",
      "<html lang=\"ru-RU\">\n",
      "<head>\n",
      "\t<meta charset=\"UTF-8\">\n",
      "\t<meta name=\"viewport\" content=\"width=device-width, initial-scale=1\">\n",
      "\t<link rel=\"profile\" href=\"https://gmpg.org/xfn/11\">\n",
      "\n",
      "\t<meta name='robots' content='index, follow, max-image-preview:large, max-snippet:-1, max-video-preview:-1' />\n",
      "\n",
      "\t<!-- This site is optimized with the Yoast SEO plugin v19.10 - https://yoast.com/wordpress/plugins/seo/ -->\n",
      "\t<title>Города миллионники России 2022, 2021 список. Города миллионеры России РФ таблица, карта - statdata.ru</title>\n",
      "\t<link rel=\"canonical\" href=\"http://www.statdata.ru/goroda-millionniki-rossii-po-naseleniu\" />\n",
      "\t<meta property=\"og:locale\" content=\"ru_RU\" />\n",
      "\t<meta property=\"og:type\" content=\"article\" />\n",
      "\t<meta property=\"og:title\" content=\"Города миллионники России 2022, 2021 список. Города миллионеры России РФ таблица, карта - statdata.ru\" />\n",
      "\t<meta property=\"og:description\" content=\"Города миллионники России 2022, 2021 список 11.05.2022 На 1 января 2022 годаЧисленность населения городов-миллионников согласно&nbsp;данным Росстата от&nbsp;29.04.2022 &#171;Численность постоянного населения Российской Федерации по муниципальным образованиям &hellip;\" />\n",
      "\t<meta property=\"og:url\" content=\"http://www.statdata.ru/goroda-millionniki-rossii-po-naseleniu\" />\n",
      "\t<meta property=\"og:site_name\" content=\"statdata.ru\" />\n",
      "\t<meta property=\"article:modified_time\" content=\"2022-05-08T07:40:46+00:00\" />\n",
      "\t<meta property=\"og:image\" content=\"http://www.statdata.ru/wp-content/uploads/RF-million-cities.png\" />\n",
      "\t<meta name=\"twitter:card\" content=\"summary_large_image\" />\n",
      "\t<meta name=\"twitter:label1\" content=\"Примерное время для чтения\" />\n",
      "\t<meta name=\"twitter:data1\" content=\"1 минута\" />\n",
      "\t<script type=\"application/ld+json\" class=\"yoast-schema-graph\">{\"@context\":\"https://schema.org\",\"@graph\":[{\"@type\":\"WebPage\",\"@id\":\"http://www.statdata.ru/goroda-millionniki-rossii-po-naseleniu\",\"url\":\"http://www.statdata.ru/goroda-millionniki-rossii-po-naseleniu\",\"name\":\"Города миллионники России 2022, 2021 список. Города миллионеры России РФ таблица, карта - statdata.ru\",\"isPartOf\":{\"@id\":\"http://www.statdata.ru/#website\"},\"primaryImageOfPage\":{\"@id\":\"http://www.statdata.ru/goroda-millionniki-rossii-po-naseleniu#primaryimage\"},\"image\":{\"@id\":\"http://www.statdata.ru/goroda-millionniki-rossii-po-naseleniu#primaryimage\"},\"thumbnailUrl\":\"http://www.statdata.ru/wp-content/uploads/RF-million-cities.png\",\"datePublished\":\"2021-08-18T13:00:41+00:00\",\"dateModified\":\"2022-05-08T07:40:46+00:00\",\"breadcrumb\":{\"@id\":\"http://www.statdata.ru/goroda-millionniki-rossii-po-naseleniu#breadcrumb\"},\"inLanguage\":\"ru-RU\",\"potentialAction\":[{\"@type\":\"ReadAction\",\"target\":[\"http://www.statdata.ru/goroda-millionniki-rossii-po-naseleniu\"]}]},{\"@type\":\"ImageObject\",\"inLanguage\":\"ru-RU\",\"@id\":\"http://www.statdata.ru/goroda-millionniki-rossii-po-naseleniu#primaryimage\",\"url\":\"http://www.statdata.ru/wp-content/uploads/RF-million-cities.png\",\"contentUrl\":\"http://www.statdata.ru/wp-content/uploads/RF-million-cities.png\",\"width\":800,\"height\":478},{\"@type\":\"BreadcrumbList\",\"@id\":\"http://www.statdata.ru/goroda-millionniki-rossii-po-naseleniu#breadcrumb\",\"itemListElement\":[{\"@type\":\"ListItem\",\"position\":1,\"name\":\"Главная страница\",\"item\":\"http://www.statdata.ru/\"},{\"@type\":\"ListItem\",\"position\":2,\"name\":\"Города миллионники России 2022, 2021 список. Города миллионеры России РФ таблица, карта\"}]},{\"@type\":\"WebSite\",\"@id\":\"http://www.statdata.ru/#website\",\"url\":\"http://www.statdata.ru/\",\"name\":\"statdata.ru\",\"description\":\"Cтраны, города, статистика населения...\",\"potentialAction\":[{\"@type\":\"SearchAction\",\"target\":{\"@type\":\"EntryPoint\",\"urlTemplate\":\"http://www.statdata.ru/?s={search_term_string}\"},\"query-input\":\"required name=search_term_string\"}],\"inLanguage\":\"ru-RU\"}]}</script>\n",
      "\t<!-- / Yoast SEO plugin. -->\n",
      "\n",
      "\n",
      "<link rel='dns-prefetch' href='//fonts.googleapis.com' />\n",
      "<link rel=\"alternate\" type=\"application/rss+xml\" title=\"statdata.ru &raquo; Лента\" href=\"http://www.statdata.ru/feed\" />\n",
      "<link rel=\"alternate\" type=\"application/rss+xml\" title=\"statdata.ru &raquo; Лента комментариев\" href=\"http://www.statdata.ru/comments/feed\" />\n",
      "<script type=\"text/javascript\">\n",
      "window._wpemojiSettings = {\"baseUrl\":\"https:\\/\\/s.w.org\\/images\\/core\\/emoji\\/14.0.0\\/72x72\\/\",\"ext\":\".png\",\"svgUrl\":\"https:\\/\\/s.w.org\\/images\\/core\\/emoji\\/14.0.0\\/svg\\/\",\"svgExt\":\".svg\",\"source\":{\"concatemoji\":\"http:\\/\\/www.statdata.ru\\/wp-includes\\/js\\/wp-emoji-release.min.js?ver=04e2c900c898d28dafcef1e6e87aec60\"}};\n",
      "/*! This file is auto-generated */\n",
      "!function(e,a,t){var n,r,o,i=a.createElement(\"canvas\"),p=i.getContext&&i.getContext(\"2d\");function s(e,t){var a=String.fromCharCode,e=(p.clearRect(0,0,i.width,i.height),p.fillText(a.apply(this,e),0,0),i.toDataURL());return p.clearRect(0,0,i.width,i.height),p.fillText(a.apply(this,t),0,0),e===i.toDataURL()}function c(e){var t=a.createElement(\"script\");t.src=e,t.defer=t.type=\"text/javascript\",a.getElementsByTagName(\"head\")[0].appendChild(t)}for(o=Array(\"flag\",\"emoji\"),t.supports={everything:!0,everythingExceptFlag:!0},r=0;r<o.length;r++)t.supports[o[r]]=function(e){if(p&&p.fillText)switch(p.textBaseline=\"top\",p.font=\"600 32px Arial\",e){case\"flag\":return s([127987,65039,8205,9895,65039],[127987,65039,8203,9895,65039])?!1:!s([55356,56826,55356,56819],[55356,56826,8203,55356,56819])&&!s([55356,57332,56128,56423,56128,56418,56128,56421,56128,56430,56128,56423,56128,56447],[55356,57332,8203,56128,56423,8203,56128,56418,8203,56128,56421,8203,56128,56430,8203,56128,56423,8203,56128,56447]);case\"emoji\":return!s([129777,127995,8205,129778,127999],[129777,127995,8203,129778,127999])}return!1}(o[r]),t.supports.everything=t.supports.everything&&t.supports[o[r]],\"flag\"!==o[r]&&(t.supports.everythingExceptFlag=t.supports.everythingExceptFlag&&t.supports[o[r]]);t.supports.everythingExceptFlag=t.supports.everythingExceptFlag&&!t.supports.flag,t.DOMReady=!1,t.readyCallback=function(){t.DOMReady=!0},t.supports.everything||(n=function(){t.readyCallback()},a.addEventListener?(a.addEventListener(\"DOMContentLoaded\",n,!1),e.addEventListener(\"load\",n,!1)):(e.attachEvent(\"onload\",n),a.attachEvent(\"onreadystatechange\",function(){\"complete\"===a.readyState&&t.readyCallback()})),(e=t.source||{}).concatemoji?c(e.concatemoji):e.wpemoji&&e.twemoji&&(c(e.twemoji),c(e.wpemoji)))}(window,document,window._wpemojiSettings);\n",
      "</script>\n",
      "<style type=\"text/css\">\n",
      "img.wp-smiley,\n",
      "img.emoji {\n",
      "\tdisplay: inline !important;\n",
      "\tborder: none !important;\n",
      "\tbox-shadow: none !important;\n",
      "\theight: 1em !important;\n",
      "\twidth: 1em !important;\n",
      "\tmargin: 0 0.07em !important;\n",
      "\tvertical-align: -0.1em !important;\n",
      "\tbackground: none !important;\n",
      "\tpadding: 0 !important;\n",
      "}\n",
      "</style>\n",
      "\t<link rel='stylesheet' id='wp-block-library-css' href='http://www.statdata.ru/wp-includes/css/dist/block-library/style.min.css?ver=04e2c900c898d28dafcef1e6e87aec60' type='text/css' media='all' />\n",
      "<style id='wp-block-library-theme-inline-css' type='text/css'>\n",
      ".wp-block-audio figcaption{color:#555;font-size:13px;text-align:center}.is-dark-theme .wp-block-audio figcaption{color:hsla(0,0%,100%,.65)}.wp-block-audio{margin:0 0 1em}.wp-block-code{border:1px solid #ccc;border-radius:4px;font-family:Menlo,Consolas,monaco,monospace;padding:.8em 1em}.wp-block-embed figcaption{color:#555;font-size:13px;text-align:center}.is-dark-theme .wp-block-embed figcaption{color:hsla(0,0%,100%,.65)}.wp-block-embed{margin:0 0 1em}.blocks-gallery-caption{color:#555;font-size:13px;text-align:center}.is-dark-theme .blocks-gallery-caption{color:hsla(0,0%,100%,.65)}.wp-block-image figcaption{color:#555;font-size:13px;text-align:center}.is-dark-theme .wp-block-image figcaption{color:hsla(0,0%,100%,.65)}.wp-block-image{margin:0 0 1em}.wp-block-pullquote{border-top:4px solid;border-bottom:4px solid;margin-bottom:1.75em;color:currentColor}.wp-block-pullquote__citation,.wp-block-pullquote cite,.wp-block-pullquote footer{color:currentColor;text-transform:uppercase;font-size:.8125em;font-style:normal}.wp-block-quote{border-left:.25em solid;margin:0 0 1.75em;padding-left:1em}.wp-block-quote cite,.wp-block-quote footer{color:currentColor;font-size:.8125em;position:relative;font-style:normal}.wp-block-quote.has-text-align-right{border-left:none;border-right:.25em solid;padding-left:0;padding-right:1em}.wp-block-quote.has-text-align-center{border:none;padding-left:0}.wp-block-quote.is-large,.wp-block-quote.is-style-large,.wp-block-quote.is-style-plain{border:none}.wp-block-search .wp-block-search__label{font-weight:700}.wp-block-search__button{border:1px solid #ccc;padding:.375em .625em}:where(.wp-block-group.has-background){padding:1.25em 2.375em}.wp-block-separator.has-css-opacity{opacity:.4}.wp-block-separator{border:none;border-bottom:2px solid;margin-left:auto;margin-right:auto}.wp-block-separator.has-alpha-channel-opacity{opacity:1}.wp-block-separator:not(.is-style-wide):not(.is-style-dots){width:100px}.wp-block-separator.has-background:not(.is-style-dots){border-bottom:none;height:1px}.wp-block-separator.has-background:not(.is-style-wide):not(.is-style-dots){height:2px}.wp-block-table{margin:\"0 0 1em 0\"}.wp-block-table thead{border-bottom:3px solid}.wp-block-table tfoot{border-top:3px solid}.wp-block-table td,.wp-block-table th{word-break:normal}.wp-block-table figcaption{color:#555;font-size:13px;text-align:center}.is-dark-theme .wp-block-table figcaption{color:hsla(0,0%,100%,.65)}.wp-block-video figcaption{color:#555;font-size:13px;text-align:center}.is-dark-theme .wp-block-video figcaption{color:hsla(0,0%,100%,.65)}.wp-block-video{margin:0 0 1em}.wp-block-template-part.has-background{padding:1.25em 2.375em;margin-top:0;margin-bottom:0}\n",
      "</style>\n",
      "<link rel='stylesheet' id='classic-theme-styles-css' href='http://www.statdata.ru/wp-includes/css/classic-themes.min.css?ver=1' type='text/css' media='all' />\n",
      "<style id='global-styles-inline-css' type='text/css'>\n",
      "body{--wp--preset--color--black: #000000;--wp--preset--color--cyan-bluish-gray: #abb8c3;--wp--preset--color--white: #ffffff;--wp--preset--color--pale-pink: #f78da7;--wp--preset--color--vivid-red: #cf2e2e;--wp--preset--color--luminous-vivid-orange: #ff6900;--wp--preset--color--luminous-vivid-amber: #fcb900;--wp--preset--color--light-green-cyan: #7bdcb5;--wp--preset--color--vivid-green-cyan: #00d084;--wp--preset--color--pale-cyan-blue: #8ed1fc;--wp--preset--color--vivid-cyan-blue: #0693e3;--wp--preset--color--vivid-purple: #9b51e0;--wp--preset--gradient--vivid-cyan-blue-to-vivid-purple: linear-gradient(135deg,rgba(6,147,227,1) 0%,rgb(155,81,224) 100%);--wp--preset--gradient--light-green-cyan-to-vivid-green-cyan: linear-gradient(135deg,rgb(122,220,180) 0%,rgb(0,208,130) 100%);--wp--preset--gradient--luminous-vivid-amber-to-luminous-vivid-orange: linear-gradient(135deg,rgba(252,185,0,1) 0%,rgba(255,105,0,1) 100%);--wp--preset--gradient--luminous-vivid-orange-to-vivid-red: linear-gradient(135deg,rgba(255,105,0,1) 0%,rgb(207,46,46) 100%);--wp--preset--gradient--very-light-gray-to-cyan-bluish-gray: linear-gradient(135deg,rgb(238,238,238) 0%,rgb(169,184,195) 100%);--wp--preset--gradient--cool-to-warm-spectrum: linear-gradient(135deg,rgb(74,234,220) 0%,rgb(151,120,209) 20%,rgb(207,42,186) 40%,rgb(238,44,130) 60%,rgb(251,105,98) 80%,rgb(254,248,76) 100%);--wp--preset--gradient--blush-light-purple: linear-gradient(135deg,rgb(255,206,236) 0%,rgb(152,150,240) 100%);--wp--preset--gradient--blush-bordeaux: linear-gradient(135deg,rgb(254,205,165) 0%,rgb(254,45,45) 50%,rgb(107,0,62) 100%);--wp--preset--gradient--luminous-dusk: linear-gradient(135deg,rgb(255,203,112) 0%,rgb(199,81,192) 50%,rgb(65,88,208) 100%);--wp--preset--gradient--pale-ocean: linear-gradient(135deg,rgb(255,245,203) 0%,rgb(182,227,212) 50%,rgb(51,167,181) 100%);--wp--preset--gradient--electric-grass: linear-gradient(135deg,rgb(202,248,128) 0%,rgb(113,206,126) 100%);--wp--preset--gradient--midnight: linear-gradient(135deg,rgb(2,3,129) 0%,rgb(40,116,252) 100%);--wp--preset--duotone--dark-grayscale: url('#wp-duotone-dark-grayscale');--wp--preset--duotone--grayscale: url('#wp-duotone-grayscale');--wp--preset--duotone--purple-yellow: url('#wp-duotone-purple-yellow');--wp--preset--duotone--blue-red: url('#wp-duotone-blue-red');--wp--preset--duotone--midnight: url('#wp-duotone-midnight');--wp--preset--duotone--magenta-yellow: url('#wp-duotone-magenta-yellow');--wp--preset--duotone--purple-green: url('#wp-duotone-purple-green');--wp--preset--duotone--blue-orange: url('#wp-duotone-blue-orange');--wp--preset--font-size--small: 13px;--wp--preset--font-size--medium: 20px;--wp--preset--font-size--large: 36px;--wp--preset--font-size--x-large: 42px;--wp--preset--spacing--20: 0.44rem;--wp--preset--spacing--30: 0.67rem;--wp--preset--spacing--40: 1rem;--wp--preset--spacing--50: 1.5rem;--wp--preset--spacing--60: 2.25rem;--wp--preset--spacing--70: 3.38rem;--wp--preset--spacing--80: 5.06rem;}:where(.is-layout-flex){gap: 0.5em;}body .is-layout-flow > .alignleft{float: left;margin-inline-start: 0;margin-inline-end: 2em;}body .is-layout-flow > .alignright{float: right;margin-inline-start: 2em;margin-inline-end: 0;}body .is-layout-flow > .aligncenter{margin-left: auto !important;margin-right: auto !important;}body .is-layout-constrained > .alignleft{float: left;margin-inline-start: 0;margin-inline-end: 2em;}body .is-layout-constrained > .alignright{float: right;margin-inline-start: 2em;margin-inline-end: 0;}body .is-layout-constrained > .aligncenter{margin-left: auto !important;margin-right: auto !important;}body .is-layout-constrained > :where(:not(.alignleft):not(.alignright):not(.alignfull)){max-width: var(--wp--style--global--content-size);margin-left: auto !important;margin-right: auto !important;}body .is-layout-constrained > .alignwide{max-width: var(--wp--style--global--wide-size);}body .is-layout-flex{display: flex;}body .is-layout-flex{flex-wrap: wrap;align-items: center;}body .is-layout-flex > *{margin: 0;}:where(.wp-block-columns.is-layout-flex){gap: 2em;}.has-black-color{color: var(--wp--preset--color--black) !important;}.has-cyan-bluish-gray-color{color: var(--wp--preset--color--cyan-bluish-gray) !important;}.has-white-color{color: var(--wp--preset--color--white) !important;}.has-pale-pink-color{color: var(--wp--preset--color--pale-pink) !important;}.has-vivid-red-color{color: var(--wp--preset--color--vivid-red) !important;}.has-luminous-vivid-orange-color{color: var(--wp--preset--color--luminous-vivid-orange) !important;}.has-luminous-vivid-amber-color{color: var(--wp--preset--color--luminous-vivid-amber) !important;}.has-light-green-cyan-color{color: var(--wp--preset--color--light-green-cyan) !important;}.has-vivid-green-cyan-color{color: var(--wp--preset--color--vivid-green-cyan) !important;}.has-pale-cyan-blue-color{color: var(--wp--preset--color--pale-cyan-blue) !important;}.has-vivid-cyan-blue-color{color: var(--wp--preset--color--vivid-cyan-blue) !important;}.has-vivid-purple-color{color: var(--wp--preset--color--vivid-purple) !important;}.has-black-background-color{background-color: var(--wp--preset--color--black) !important;}.has-cyan-bluish-gray-background-color{background-color: var(--wp--preset--color--cyan-bluish-gray) !important;}.has-white-background-color{background-color: var(--wp--preset--color--white) !important;}.has-pale-pink-background-color{background-color: var(--wp--preset--color--pale-pink) !important;}.has-vivid-red-background-color{background-color: var(--wp--preset--color--vivid-red) !important;}.has-luminous-vivid-orange-background-color{background-color: var(--wp--preset--color--luminous-vivid-orange) !important;}.has-luminous-vivid-amber-background-color{background-color: var(--wp--preset--color--luminous-vivid-amber) !important;}.has-light-green-cyan-background-color{background-color: var(--wp--preset--color--light-green-cyan) !important;}.has-vivid-green-cyan-background-color{background-color: var(--wp--preset--color--vivid-green-cyan) !important;}.has-pale-cyan-blue-background-color{background-color: var(--wp--preset--color--pale-cyan-blue) !important;}.has-vivid-cyan-blue-background-color{background-color: var(--wp--preset--color--vivid-cyan-blue) !important;}.has-vivid-purple-background-color{background-color: var(--wp--preset--color--vivid-purple) !important;}.has-black-border-color{border-color: var(--wp--preset--color--black) !important;}.has-cyan-bluish-gray-border-color{border-color: var(--wp--preset--color--cyan-bluish-gray) !important;}.has-white-border-color{border-color: var(--wp--preset--color--white) !important;}.has-pale-pink-border-color{border-color: var(--wp--preset--color--pale-pink) !important;}.has-vivid-red-border-color{border-color: var(--wp--preset--color--vivid-red) !important;}.has-luminous-vivid-orange-border-color{border-color: var(--wp--preset--color--luminous-vivid-orange) !important;}.has-luminous-vivid-amber-border-color{border-color: var(--wp--preset--color--luminous-vivid-amber) !important;}.has-light-green-cyan-border-color{border-color: var(--wp--preset--color--light-green-cyan) !important;}.has-vivid-green-cyan-border-color{border-color: var(--wp--preset--color--vivid-green-cyan) !important;}.has-pale-cyan-blue-border-color{border-color: var(--wp--preset--color--pale-cyan-blue) !important;}.has-vivid-cyan-blue-border-color{border-color: var(--wp--preset--color--vivid-cyan-blue) !important;}.has-vivid-purple-border-color{border-color: var(--wp--preset--color--vivid-purple) !important;}.has-vivid-cyan-blue-to-vivid-purple-gradient-background{background: var(--wp--preset--gradient--vivid-cyan-blue-to-vivid-purple) !important;}.has-light-green-cyan-to-vivid-green-cyan-gradient-background{background: var(--wp--preset--gradient--light-green-cyan-to-vivid-green-cyan) !important;}.has-luminous-vivid-amber-to-luminous-vivid-orange-gradient-background{background: var(--wp--preset--gradient--luminous-vivid-amber-to-luminous-vivid-orange) !important;}.has-luminous-vivid-orange-to-vivid-red-gradient-background{background: var(--wp--preset--gradient--luminous-vivid-orange-to-vivid-red) !important;}.has-very-light-gray-to-cyan-bluish-gray-gradient-background{background: var(--wp--preset--gradient--very-light-gray-to-cyan-bluish-gray) !important;}.has-cool-to-warm-spectrum-gradient-background{background: var(--wp--preset--gradient--cool-to-warm-spectrum) !important;}.has-blush-light-purple-gradient-background{background: var(--wp--preset--gradient--blush-light-purple) !important;}.has-blush-bordeaux-gradient-background{background: var(--wp--preset--gradient--blush-bordeaux) !important;}.has-luminous-dusk-gradient-background{background: var(--wp--preset--gradient--luminous-dusk) !important;}.has-pale-ocean-gradient-background{background: var(--wp--preset--gradient--pale-ocean) !important;}.has-electric-grass-gradient-background{background: var(--wp--preset--gradient--electric-grass) !important;}.has-midnight-gradient-background{background: var(--wp--preset--gradient--midnight) !important;}.has-small-font-size{font-size: var(--wp--preset--font-size--small) !important;}.has-medium-font-size{font-size: var(--wp--preset--font-size--medium) !important;}.has-large-font-size{font-size: var(--wp--preset--font-size--large) !important;}.has-x-large-font-size{font-size: var(--wp--preset--font-size--x-large) !important;}\n",
      ".wp-block-navigation a:where(:not(.wp-element-button)){color: inherit;}\n",
      ":where(.wp-block-columns.is-layout-flex){gap: 2em;}\n",
      ".wp-block-pullquote{font-size: 1.5em;line-height: 1.6;}\n",
      "</style>\n",
      "<link rel='stylesheet' id='font-awesome-css' href='http://www.statdata.ru/wp-content/themes/bam/assets/fonts/css/all.min.css?ver=5.15.4' type='text/css' media='all' />\n",
      "<link rel='stylesheet' id='bam-style-css' href='http://www.statdata.ru/wp-content/themes/bam/style.css?ver=04e2c900c898d28dafcef1e6e87aec60' type='text/css' media='all' />\n",
      "<link rel='stylesheet' id='bam-google-fonts-css' href='https://fonts.googleapis.com/css?family=Source+Sans+Pro%3A100%2C200%2C300%2C400%2C500%2C600%2C700%2C800%2C900%2C100i%2C200i%2C300i%2C400i%2C500i%2C600i%2C700i%2C800i%2C900i|Roboto+Condensed%3A100%2C200%2C300%2C400%2C500%2C600%2C700%2C800%2C900%2C100i%2C200i%2C300i%2C400i%2C500i%2C600i%2C700i%2C800i%2C900i%26subset%3Dlatin' type='text/css' media='all' />\n",
      "<script type='text/javascript' src='http://www.statdata.ru/wp-includes/js/jquery/jquery.min.js?ver=3.6.1' id='jquery-core-js'></script>\n",
      "<script type='text/javascript' src='http://www.statdata.ru/wp-includes/js/jquery/jquery-migrate.min.js?ver=3.3.2' id='jquery-migrate-js'></script>\n",
      "<link rel=\"https://api.w.org/\" href=\"http://www.statdata.ru/wp-json/\" /><link rel=\"alternate\" type=\"application/json\" href=\"http://www.statdata.ru/wp-json/wp/v2/pages/126\" /><link rel=\"EditURI\" type=\"application/rsd+xml\" title=\"RSD\" href=\"http://www.statdata.ru/xmlrpc.php?rsd\" />\n",
      "<link rel=\"wlwmanifest\" type=\"application/wlwmanifest+xml\" href=\"http://www.statdata.ru/wp-includes/wlwmanifest.xml\" />\n",
      "\n",
      "<link rel='shortlink' href='http://www.statdata.ru/?p=126' />\n",
      "<link rel=\"alternate\" type=\"application/json+oembed\" href=\"http://www.statdata.ru/wp-json/oembed/1.0/embed?url=http%3A%2F%2Fwww.statdata.ru%2Fgoroda-millionniki-rossii-po-naseleniu\" />\n",
      "<link rel=\"alternate\" type=\"text/xml+oembed\" href=\"http://www.statdata.ru/wp-json/oembed/1.0/embed?url=http%3A%2F%2Fwww.statdata.ru%2Fgoroda-millionniki-rossii-po-naseleniu&#038;format=xml\" />\n",
      "<!-- HFCM by 99 Robots - Snippet # 8: Google Analytics -->\n",
      "<!-- Global site tag (gtag.js) - Google Analytics -->\n",
      "<script async src=\"https://www.googletagmanager.com/gtag/js?id=UA-26248717-3\"></script>\n",
      "<script>\n",
      "  window.dataLayer = window.dataLayer || [];\n",
      "  function gtag(){dataLayer.push(arguments);}\n",
      "  gtag('js', new Date());\n",
      "\n",
      "  gtag('config', 'UA-26248717-3');\n",
      "</script>\n",
      "\n",
      "<!-- /end HFCM by 99 Robots -->\n",
      "<!-- HFCM by 99 Robots - Snippet # 9: HEADER -- YANDEX -- Код загрузчика рекламы на всех стр. -->\n",
      "<!-- Yandex.RTB -->\n",
      "<script>window.yaContextCb=window.yaContextCb||[]</script>\n",
      "<script src=\"https://yandex.ru/ads/system/context.js\" async></script>\n",
      "<!-- /end HFCM by 99 Robots -->\n",
      "\t\t<style type=\"text/css\">\n",
      "\t\t\t\t</style>\n",
      "\t\t<link rel=\"icon\" href=\"http://www.statdata.ru/wp-content/uploads/world-img.png\" sizes=\"32x32\" />\n",
      "<link rel=\"icon\" href=\"http://www.statdata.ru/wp-content/uploads/world-img.png\" sizes=\"192x192\" />\n",
      "<link rel=\"apple-touch-icon\" href=\"http://www.statdata.ru/wp-content/uploads/world-img.png\" />\n",
      "<meta name=\"msapplication-TileImage\" content=\"http://www.statdata.ru/wp-content/uploads/world-img.png\" />\n",
      "\n",
      "\n",
      "<style>\n",
      "    .table-responsive table{\n",
      "        border-collapse: collapse;\n",
      "        border-spacing: 0;\n",
      "        table-layout: auto;\n",
      "        padding: 0;\n",
      "        width: 100%;\n",
      "        max-width: 100%;\n",
      "        margin: 0 auto 20px auto;\n",
      "    }\n",
      "\n",
      "    .table-responsive {\n",
      "        overflow-x: auto;\n",
      "        min-height: 0.01%;\n",
      "        margin-bottom: 20px;\n",
      "    }\n",
      "\n",
      "    .table-responsive::-webkit-scrollbar {\n",
      "        width: 10px;\n",
      "        height: 10px;\n",
      "    }\n",
      "    .table-responsive::-webkit-scrollbar-thumb {\n",
      "        background: #dddddd;\n",
      "        border-radius: 2px;\n",
      "    }\n",
      "    .table-responsive::-webkit-scrollbar-track-piece {\n",
      "        background: #fff;\n",
      "    }\n",
      "\n",
      "    @media (max-width: 992px) {\n",
      "        .table-responsive table{\n",
      "            width: auto!important;\n",
      "            margin:0 auto 15px auto!important;\n",
      "        }\n",
      "    }\n",
      "\n",
      "    @media screen and (max-width: 767px) {\n",
      "        .table-responsive {\n",
      "            width: 100%;\n",
      "            margin-bottom: 15px;\n",
      "            overflow-y: hidden;\n",
      "            -ms-overflow-style: -ms-autohiding-scrollbar;\n",
      "        }\n",
      "        .table-responsive::-webkit-scrollbar {\n",
      "            width: 5px;\n",
      "            height: 5px;\n",
      "        }\n",
      "\n",
      "    }\n",
      "\n",
      "\n",
      "    @media screen and (min-width: 1200px) {\n",
      "        .table-responsive .table {\n",
      "            max-width: 100%!important;\n",
      "        }\n",
      "    }\n",
      "    .wprt-container .table > thead > tr > th,\n",
      "    .wprt-container .table > tbody > tr > th,\n",
      "    .wprt-container .table > tfoot > tr > th,\n",
      "    .wprt-container .table > thead > tr > td,\n",
      "    .wprt-container .table > tbody > tr > td,\n",
      "    .wprt-container .table > tfoot > tr > td,\n",
      "    .wprt-container .table > tr > td{\n",
      "        border: 1px solid #ededed!important;\n",
      "    }\n",
      "\n",
      "    .wprt-container .table > thead > tr > th,\n",
      "    .wprt-container .table > tbody > tr > th,\n",
      "    .wprt-container .table > tfoot > tr > th,\n",
      "    .wprt-container .table > thead > tr > td,\n",
      "    .wprt-container .table > tbody > tr > td,\n",
      "    .wprt-container .table > tfoot > tr > td,\n",
      "    .wprt-container .table > tr > td{\n",
      "        padding-top: 8px!important;\n",
      "        padding-right: 8px!important;\n",
      "        padding-bottom: 8px!important;\n",
      "        padding-left: 8px!important;\n",
      "        vertical-align: middle;\n",
      "        text-align: right;\n",
      "    }\n",
      "\n",
      "    .wprt-container .table-responsive .table tr:nth-child(odd) {\n",
      "        background-color: #f7fcfa!important;\n",
      "    }\n",
      "\n",
      "    .wprt-container .table-responsive .table tr:nth-child(even){\n",
      "        background-color: #ffffff!important;\n",
      "    }\n",
      "\n",
      "    .wprt-container .table-responsive .table thead+tbody tr:nth-child(even) {\n",
      "        background-color: #f7fcfa!important;\n",
      "    }\n",
      "\n",
      "    .wprt-container .table-responsive .table thead+tbody tr:nth-child(odd){\n",
      "        background-color: #ffffff!important;\n",
      "    }\n",
      "        .wprt-container .table-responsive .table:not(.not-head-style) > *:first-child > tr:first-child,\n",
      "    .wprt-container .table-responsive .table:not(.not-head-style) > *:first-child > tr:first-child td,\n",
      "    .wprt-container .table-responsive .table:not(.not-head-style) > *:first-child > tr:first-child th{\n",
      "        background-color: #dcefef!important;\n",
      "        color: #000000!important;\n",
      "    }\n",
      "    \n",
      "    \n",
      "    .table-responsive table p {\n",
      "        margin: 0!important;\n",
      "        padding: 0!important;\n",
      "    }\n",
      "\n",
      "    .table-responsive table tbody tr td, .table-responsive table tbody tr th{\n",
      "        background-color: inherit!important;\n",
      "    }\n",
      "\n",
      "</style>\n",
      "\n",
      "    \n",
      "\t\t<style type=\"text/css\" id=\"theme-custom-css\">\n",
      "\t\t\t/* Header CSS */\n",
      "                    body.boxed-layout #page {\n",
      "                        max-width: 1250px;\n",
      "                    }\n",
      "                /* Color CSS */\n",
      "                \n",
      "                    blockquote {\n",
      "                        border-left: 4px solid #55ad32;\n",
      "                    }\n",
      "\n",
      "                    button,\n",
      "                    input[type=\"button\"],\n",
      "                    input[type=\"reset\"],\n",
      "                    input[type=\"submit\"] {\n",
      "                        background: #55ad32;\n",
      "                    }\n",
      "\n",
      "                    .wp-block-search .wp-block-search__button {\n",
      "                        background: #55ad32;\n",
      "                    }\n",
      "\n",
      "                    .bam-readmore {\n",
      "                        background: #55ad32;\n",
      "                    }\n",
      "\n",
      "                    .site-title a, .site-description {\n",
      "                        color: #55ad32;\n",
      "                    }\n",
      "\n",
      "                    .site-header.default-style .main-navigation ul li a:hover {\n",
      "                        color: #55ad32;\n",
      "                    }\n",
      "\n",
      "                    .site-header.default-style .main-navigation ul ul li a:hover {\n",
      "                        background: #55ad32;\n",
      "                    }\n",
      "\n",
      "                    .site-header.default-style .main-navigation .current_page_item > a,\n",
      "                    .site-header.default-style .main-navigation .current-menu-item > a,\n",
      "                    .site-header.default-style .main-navigation .current_page_ancestor > a,\n",
      "                    .site-header.default-style .main-navigation .current-menu-ancestor > a {\n",
      "                        color: #55ad32;\n",
      "                    }\n",
      "\n",
      "                    .site-header.horizontal-style .main-navigation ul li a:hover {\n",
      "                        color: #55ad32;\n",
      "                    }\n",
      "\n",
      "                    .site-header.horizontal-style .main-navigation ul ul li a:hover {\n",
      "                        background: #55ad32;\n",
      "                    }\n",
      "\n",
      "                    .site-header.horizontal-style .main-navigation .current_page_item > a,\n",
      "                    .site-header.horizontal-style .main-navigation .current-menu-item > a,\n",
      "                    .site-header.horizontal-style .main-navigation .current_page_ancestor > a,\n",
      "                    .site-header.horizontal-style .main-navigation .current-menu-ancestor > a {\n",
      "                        color: #55ad32;\n",
      "                    }\n",
      "\n",
      "                    .posts-navigation .nav-previous a:hover,\n",
      "                    .posts-navigation .nav-next a:hover {\n",
      "                        color: #55ad32;\n",
      "                    }\n",
      "\n",
      "                    .post-navigation .nav-previous .post-title:hover,\n",
      "                    .post-navigation .nav-next .post-title:hover {\n",
      "                        color: #55ad32;\n",
      "                    }\n",
      "\n",
      "                    .pagination .page-numbers.current {\n",
      "                        background: #55ad32;\n",
      "                        border: 1px solid #55ad32;\n",
      "                        color: #ffffff;\n",
      "                    }\n",
      "                      \n",
      "                    .pagination a.page-numbers:hover {\n",
      "                        background: #55ad32;\n",
      "                        border: 1px solid #55ad32;\n",
      "                    }\n",
      "\n",
      "                    .widget a:hover,\n",
      "                    .widget ul li a:hover {\n",
      "                        color: #55ad32;\n",
      "                    }\n",
      "\n",
      "                    li.bm-tab.th-ui-state-active a {\n",
      "                        border-bottom: 1px solid #55ad32;\n",
      "                    }\n",
      "\n",
      "                    .footer-widget-area .widget a:hover {\n",
      "                        color: #55ad32;\n",
      "                    }\n",
      "\n",
      "                    .bms-title a:hover {\n",
      "                        color: #55ad32;\n",
      "                    }\n",
      "\n",
      "                    .bam-entry .entry-title a:hover {\n",
      "                        color: #55ad32;\n",
      "                    }\n",
      "\n",
      "                    .related-post-meta a:hover,\n",
      "                    .entry-meta a:hover {\n",
      "                        color: #55ad32;\n",
      "                    }\n",
      "\n",
      "                    .related-post-meta .byline a:hover,\n",
      "                    .entry-meta .byline a:hover {\n",
      "                        color: #55ad32;\n",
      "                    }\n",
      "\n",
      "                    .cat-links a {\n",
      "                        color: #55ad32;\n",
      "                    }\n",
      "\n",
      "                    .tags-links a:hover {\n",
      "                        background: #55ad32;\n",
      "                    }\n",
      "\n",
      "                    .related-post-title a:hover {\n",
      "                        color: #55ad32;\n",
      "                    }\n",
      "\n",
      "                    .author-posts-link:hover {\n",
      "                        color: #55ad32;\n",
      "                    }\n",
      "\n",
      "                    .comment-author a {\n",
      "                        color: #55ad32;\n",
      "                    }\n",
      "\n",
      "                    .comment-metadata a:hover,\n",
      "                    .comment-metadata a:focus,\n",
      "                    .pingback .comment-edit-link:hover,\n",
      "                    .pingback .comment-edit-link:focus {\n",
      "                        color: #55ad32;\n",
      "                    }\n",
      "\n",
      "                    .comment-reply-link:hover,\n",
      "                    .comment-reply-link:focus {\n",
      "                        background: #55ad32;\n",
      "                    }\n",
      "\n",
      "                    .comment-notes a:hover,\n",
      "                    .comment-awaiting-moderation a:hover,\n",
      "                    .logged-in-as a:hover,\n",
      "                    .form-allowed-tags a:hover {\n",
      "                        color: #55ad32;\n",
      "                    }\n",
      "\n",
      "                    .required {\n",
      "                        color: #55ad32;\n",
      "                    }\n",
      "\n",
      "                    .comment-reply-title small a:before {\n",
      "                        color: #55ad32;\n",
      "                    }\n",
      "\n",
      "                    .wp-block-quote {\n",
      "                        border-left: 4px solid #55ad32;\n",
      "                    }\n",
      "\n",
      "                    .wp-block-quote[style*=\"text-align:right\"], .wp-block-quote[style*=\"text-align: right\"] {\n",
      "                        border-right: 4px solid #55ad32;\n",
      "                    }\n",
      "\n",
      "                    .site-info a:hover {\n",
      "                        color: #55ad32;\n",
      "                    }\n",
      "\n",
      "                    #bam-tags a, .widget_tag_cloud .tagcloud a {\n",
      "                        background: #55ad32;\n",
      "                    }\n",
      "\n",
      "                \n",
      "                    .site-title a, .site-description,\n",
      "                    .site-header.horizontal-style .site-description {\n",
      "                        color: #09c4c4;\n",
      "                    }\n",
      "                \n",
      "                    .page-content a,\n",
      "                    .entry-content a {\n",
      "                        color: #0066bf;\n",
      "                    }\n",
      "                \n",
      "                    .page-content a:hover,\n",
      "                    .entry-content a:hover {\n",
      "                        color: #09c4c4;\n",
      "                    }\n",
      "                \n",
      "                    body.boxed-layout.custom-background,\n",
      "                    body.boxed-layout {\n",
      "                        background-color: #dddddd;\n",
      "                    }\n",
      "                \n",
      "                    body.boxed-layout.custom-background.separate-containers,\n",
      "                    body.boxed-layout.separate-containers {\n",
      "                        background-color: #dddddd;\n",
      "                    }\n",
      "                \n",
      "                    body.wide-layout.custom-background.separate-containers,\n",
      "                    body.wide-layout.separate-containers {\n",
      "                        background-color: #eeeeee;\n",
      "                    }\n",
      "                /* Header CSS */\n",
      "                        .site-header.horizontal-style .site-branding-inner { height: 101px; }\n",
      "                        .site-header.horizontal-style .main-navigation ul li a, .site-header.horizontal-style .bam-search-button-icon, .site-header.horizontal-style .menu-toggle { line-height: 101px; }\n",
      "                        .site-header.horizontal-style .main-navigation ul ul li a { line-height: 1.3; }\n",
      "                        .site-header.horizontal-style .bam-search-box-container { top: 101px; }\n",
      "                    \n",
      "                        .site-header.horizontal-style #site-header-inner-wrap { background-color: #2f6dbf; }\n",
      "                    \n",
      "                        .site-header.horizontal-style .main-navigation ul ul li a:hover {\n",
      "                            color: #ffffff;\n",
      "                        }\n",
      "                    /* Typography CSS */body, button, input, select, optgroup, textarea{color:#000000;}.page-entry-title{font-family:Source Sans Pro;font-size:28px;}\t\t</style>\n",
      "\n",
      "\t</head>\n",
      "\n",
      "<body class=\"page-template-default page page-id-126 page-parent wp-embed-responsive boxed-layout left-sidebar one-container\">\n",
      "\n",
      "<svg xmlns=\"http://www.w3.org/2000/svg\" viewBox=\"0 0 0 0\" width=\"0\" height=\"0\" focusable=\"false\" role=\"none\" style=\"visibility: hidden; position: absolute; left: -9999px; overflow: hidden;\" ><defs><filter id=\"wp-duotone-dark-grayscale\"><feColorMatrix color-interpolation-filters=\"sRGB\" type=\"matrix\" values=\" .299 .587 .114 0 0 .299 .587 .114 0 0 .299 .587 .114 0 0 .299 .587 .114 0 0 \" /><feComponentTransfer color-interpolation-filters=\"sRGB\" ><feFuncR type=\"table\" tableValues=\"0 0.49803921568627\" /><feFuncG type=\"table\" tableValues=\"0 0.49803921568627\" /><feFuncB type=\"table\" tableValues=\"0 0.49803921568627\" /><feFuncA type=\"table\" tableValues=\"1 1\" /></feComponentTransfer><feComposite in2=\"SourceGraphic\" operator=\"in\" /></filter></defs></svg><svg xmlns=\"http://www.w3.org/2000/svg\" viewBox=\"0 0 0 0\" width=\"0\" height=\"0\" focusable=\"false\" role=\"none\" style=\"visibility: hidden; position: absolute; left: -9999px; overflow: hidden;\" ><defs><filter id=\"wp-duotone-grayscale\"><feColorMatrix color-interpolation-filters=\"sRGB\" type=\"matrix\" values=\" .299 .587 .114 0 0 .299 .587 .114 0 0 .299 .587 .114 0 0 .299 .587 .114 0 0 \" /><feComponentTransfer color-interpolation-filters=\"sRGB\" ><feFuncR type=\"table\" tableValues=\"0 1\" /><feFuncG type=\"table\" tableValues=\"0 1\" /><feFuncB type=\"table\" tableValues=\"0 1\" /><feFuncA type=\"table\" tableValues=\"1 1\" /></feComponentTransfer><feComposite in2=\"SourceGraphic\" operator=\"in\" /></filter></defs></svg><svg xmlns=\"http://www.w3.org/2000/svg\" viewBox=\"0 0 0 0\" width=\"0\" height=\"0\" focusable=\"false\" role=\"none\" style=\"visibility: hidden; position: absolute; left: -9999px; overflow: hidden;\" ><defs><filter id=\"wp-duotone-purple-yellow\"><feColorMatrix color-interpolation-filters=\"sRGB\" type=\"matrix\" values=\" .299 .587 .114 0 0 .299 .587 .114 0 0 .299 .587 .114 0 0 .299 .587 .114 0 0 \" /><feComponentTransfer color-interpolation-filters=\"sRGB\" ><feFuncR type=\"table\" tableValues=\"0.54901960784314 0.98823529411765\" /><feFuncG type=\"table\" tableValues=\"0 1\" /><feFuncB type=\"table\" tableValues=\"0.71764705882353 0.25490196078431\" /><feFuncA type=\"table\" tableValues=\"1 1\" /></feComponentTransfer><feComposite in2=\"SourceGraphic\" operator=\"in\" /></filter></defs></svg><svg xmlns=\"http://www.w3.org/2000/svg\" viewBox=\"0 0 0 0\" width=\"0\" height=\"0\" focusable=\"false\" role=\"none\" style=\"visibility: hidden; position: absolute; left: -9999px; overflow: hidden;\" ><defs><filter id=\"wp-duotone-blue-red\"><feColorMatrix color-interpolation-filters=\"sRGB\" type=\"matrix\" values=\" .299 .587 .114 0 0 .299 .587 .114 0 0 .299 .587 .114 0 0 .299 .587 .114 0 0 \" /><feComponentTransfer color-interpolation-filters=\"sRGB\" ><feFuncR type=\"table\" tableValues=\"0 1\" /><feFuncG type=\"table\" tableValues=\"0 0.27843137254902\" /><feFuncB type=\"table\" tableValues=\"0.5921568627451 0.27843137254902\" /><feFuncA type=\"table\" tableValues=\"1 1\" /></feComponentTransfer><feComposite in2=\"SourceGraphic\" operator=\"in\" /></filter></defs></svg><svg xmlns=\"http://www.w3.org/2000/svg\" viewBox=\"0 0 0 0\" width=\"0\" height=\"0\" focusable=\"false\" role=\"none\" style=\"visibility: hidden; position: absolute; left: -9999px; overflow: hidden;\" ><defs><filter id=\"wp-duotone-midnight\"><feColorMatrix color-interpolation-filters=\"sRGB\" type=\"matrix\" values=\" .299 .587 .114 0 0 .299 .587 .114 0 0 .299 .587 .114 0 0 .299 .587 .114 0 0 \" /><feComponentTransfer color-interpolation-filters=\"sRGB\" ><feFuncR type=\"table\" tableValues=\"0 0\" /><feFuncG type=\"table\" tableValues=\"0 0.64705882352941\" /><feFuncB type=\"table\" tableValues=\"0 1\" /><feFuncA type=\"table\" tableValues=\"1 1\" /></feComponentTransfer><feComposite in2=\"SourceGraphic\" operator=\"in\" /></filter></defs></svg><svg xmlns=\"http://www.w3.org/2000/svg\" viewBox=\"0 0 0 0\" width=\"0\" height=\"0\" focusable=\"false\" role=\"none\" style=\"visibility: hidden; position: absolute; left: -9999px; overflow: hidden;\" ><defs><filter id=\"wp-duotone-magenta-yellow\"><feColorMatrix color-interpolation-filters=\"sRGB\" type=\"matrix\" values=\" .299 .587 .114 0 0 .299 .587 .114 0 0 .299 .587 .114 0 0 .299 .587 .114 0 0 \" /><feComponentTransfer color-interpolation-filters=\"sRGB\" ><feFuncR type=\"table\" tableValues=\"0.78039215686275 1\" /><feFuncG type=\"table\" tableValues=\"0 0.94901960784314\" /><feFuncB type=\"table\" tableValues=\"0.35294117647059 0.47058823529412\" /><feFuncA type=\"table\" tableValues=\"1 1\" /></feComponentTransfer><feComposite in2=\"SourceGraphic\" operator=\"in\" /></filter></defs></svg><svg xmlns=\"http://www.w3.org/2000/svg\" viewBox=\"0 0 0 0\" width=\"0\" height=\"0\" focusable=\"false\" role=\"none\" style=\"visibility: hidden; position: absolute; left: -9999px; overflow: hidden;\" ><defs><filter id=\"wp-duotone-purple-green\"><feColorMatrix color-interpolation-filters=\"sRGB\" type=\"matrix\" values=\" .299 .587 .114 0 0 .299 .587 .114 0 0 .299 .587 .114 0 0 .299 .587 .114 0 0 \" /><feComponentTransfer color-interpolation-filters=\"sRGB\" ><feFuncR type=\"table\" tableValues=\"0.65098039215686 0.40392156862745\" /><feFuncG type=\"table\" tableValues=\"0 1\" /><feFuncB type=\"table\" tableValues=\"0.44705882352941 0.4\" /><feFuncA type=\"table\" tableValues=\"1 1\" /></feComponentTransfer><feComposite in2=\"SourceGraphic\" operator=\"in\" /></filter></defs></svg><svg xmlns=\"http://www.w3.org/2000/svg\" viewBox=\"0 0 0 0\" width=\"0\" height=\"0\" focusable=\"false\" role=\"none\" style=\"visibility: hidden; position: absolute; left: -9999px; overflow: hidden;\" ><defs><filter id=\"wp-duotone-blue-orange\"><feColorMatrix color-interpolation-filters=\"sRGB\" type=\"matrix\" values=\" .299 .587 .114 0 0 .299 .587 .114 0 0 .299 .587 .114 0 0 .299 .587 .114 0 0 \" /><feComponentTransfer color-interpolation-filters=\"sRGB\" ><feFuncR type=\"table\" tableValues=\"0.098039215686275 1\" /><feFuncG type=\"table\" tableValues=\"0 0.66274509803922\" /><feFuncB type=\"table\" tableValues=\"0.84705882352941 0.41960784313725\" /><feFuncA type=\"table\" tableValues=\"1 1\" /></feComponentTransfer><feComposite in2=\"SourceGraphic\" operator=\"in\" /></filter></defs></svg>\n",
      "\n",
      "<div id=\"page\" class=\"site\">\n",
      "\t<a class=\"skip-link screen-reader-text\" href=\"#content\">Перейти к содержимому</a>\n",
      "\n",
      "\t\n",
      "\t\n",
      "\n",
      "\n",
      "<header id=\"masthead\" class=\"site-header horizontal-style\">\n",
      "\n",
      "    \n",
      "    \n",
      "\n",
      "\n",
      "<div id=\"site-header-inner-wrap\">\n",
      "    <div id=\"site-header-inner\" class=\"clearfix container\">\n",
      "        <div class=\"site-branding\">\n",
      "    <div class=\"site-branding-inner\">\n",
      "\n",
      "        \n",
      "        <div class=\"site-branding-text\">\n",
      "                            <p class=\"site-title\"><a href=\"http://www.statdata.ru/\" rel=\"home\">statdata.ru</a></p>\n",
      "                                <p class=\"site-description\">Cтраны, города, статистика населения&#8230;</p>\n",
      "                    </div><!-- .site-branding-text -->\n",
      "\n",
      "    </div><!-- .site-branding-inner -->\n",
      "</div><!-- .site-branding -->        \n",
      "<nav id=\"site-navigation\" class=\"main-navigation\">\n",
      "\n",
      "    <div id=\"site-navigation-inner\" class=\"align-left show-search\">\n",
      "        \n",
      "        <div class=\"bam-search-button-icon\">\n",
      "    <i class=\"fas fa-search\" aria-hidden=\"true\"></i>\n",
      "</div>\n",
      "<div class=\"bam-search-box-container\">\n",
      "    <div class=\"bam-search-box\">\n",
      "        <form role=\"search\" method=\"get\" class=\"search-form\" action=\"http://www.statdata.ru/\">\n",
      "\t\t\t\t<label>\n",
      "\t\t\t\t\t<span class=\"screen-reader-text\">Найти:</span>\n",
      "\t\t\t\t\t<input type=\"search\" class=\"search-field\" placeholder=\"Поиск&hellip;\" value=\"\" name=\"s\" />\n",
      "\t\t\t\t</label>\n",
      "\t\t\t\t<input type=\"submit\" class=\"search-submit\" value=\"Поиск\" />\n",
      "\t\t\t</form>    </div><!-- th-search-box -->\n",
      "</div><!-- .th-search-box-container -->\n",
      "\n",
      "        <button class=\"menu-toggle\" aria-controls=\"primary-menu\" aria-expanded=\"false\" data-toggle-target=\".mobile-navigation\"><i class=\"fas fa-bars\"></i>Меню</button>\n",
      "        \n",
      "    </div><!-- .container -->\n",
      "    \n",
      "</nav><!-- #site-navigation -->    </div>\n",
      "</div>\n",
      "\n",
      "<div class=\"mobile-dropdown\">\n",
      "    <nav class=\"mobile-navigation\">\n",
      "            </nav>\n",
      "</div>\n",
      "\n",
      "\n",
      "    \n",
      "         \n",
      "</header><!-- #masthead -->\n",
      "\n",
      "\n",
      "\t\n",
      "\t<div id=\"content\" class=\"site-content\">\n",
      "\t\t<div class=\"container\">\n",
      "\n",
      "\t\n",
      "\t<div id=\"primary\" class=\"content-area\">\n",
      "\n",
      "\t\t\n",
      "\t\t<main id=\"main\" class=\"site-main\">\n",
      "\n",
      "\t\t\t\n",
      "\t\t\t\n",
      "<article id=\"post-126\" class=\"post-126 page type-page status-publish hentry\">\n",
      "\t<header class=\"entry-header\">\n",
      "\t\t\t</header><!-- .entry-header -->\n",
      "\n",
      "\t\n",
      "\t\n",
      "\t<div class=\"entry-content\">\n",
      "\t\t<div class=\"wprt-container\">\n",
      "<p style=\"font-size:22px\">Города миллионники России 2022, 2021 список</p>\n",
      "\n",
      "\n",
      "\n",
      "<p>11.05.2022</p>\n",
      "\n",
      "\n",
      "\n",
      "<p><strong>На 1 января 2022 года</strong><br>Численность населения городов-миллионников согласно&nbsp;данным Росстата от&nbsp;29.04.2022 &#171;Численность постоянного населения Российской Федерации по муниципальным образованиям на 1 января 2022 года&#187;. Итого в России 15 городов миллионников.</p>\n",
      "\n",
      "\n",
      "\n",
      "<!-- HFCM by 99 Robots - Snippet # 1: BLOCK 1 --- РСЯ --- 100%х90 -->\n",
      "<!-- Yandex.RTB R-A-396959-3 -->\n",
      "<div id=\"yandex_rtb_R-A-396959-3\"></div>\n",
      "<script>window.yaContextCb.push(()=>{\n",
      "  Ya.Context.AdvManager.render({\n",
      "    renderTo: 'yandex_rtb_R-A-396959-3',\n",
      "    blockId: 'R-A-396959-3'\n",
      "  })\n",
      "})</script>\n",
      "<p>\n",
      "<!-- /end HFCM by 99 Robots -->\n",
      "\n",
      "\n",
      "\n",
      "\n",
      "<p>Таблица:</p>\n",
      "\n",
      "\n",
      "\n",
      "<figure class=\"wp-block-table\"><table><tbody><tr><td>№</td><td>Город_____________</td><td>на 1 января 2022_года</td><td>на 1 января 2021_года</td><td>Динамика</td><td>Процент</td><td>Субъект РФ, в состав которого_входит_город_</td></tr><tr><td>1</td><td>г. Москва</td><td>12 635 466</td><td>12 655 050</td><td>&#8212; 19 584</td><td>&#8212; 0,15</td><td>гор.ф.з. Москва</td></tr><tr><td>2</td><td>г. Санкт-Петербург</td><td>5 377 503</td><td>5 384 342</td><td>&#8212; 6 839</td><td>&#8212; 0,13</td><td>гор.ф.з. Санкт-Петербург</td></tr><tr><td>3</td><td>г. Новосибирск</td><td>1 621 330</td><td>1 620 162</td><td>1 168</td><td>0,07</td><td>Новосибирская область</td></tr><tr><td>4</td><td>г. Екатеринбург</td><td>1 493 600</td><td>1 495 066</td><td>&#8212; 1 466</td><td>&#8212; 0,10</td><td>Свердловская область</td></tr><tr><td>5</td><td>г. Казань</td><td>1 259 173</td><td>1 257 341</td><td>1 832</td><td>0,15</td><td>Республика Татарстан</td></tr><tr><td>6</td><td>г. Нижний Новгород</td><td>1 233 949</td><td>1 244 254</td><td>&#8212; 10 305</td><td>&#8212; 0,83</td><td>Нижегородская область</td></tr><tr><td>7</td><td>г. Челябинск</td><td>1 179 288</td><td>1 187 960</td><td>&#8212; 8 672</td><td>&#8212; 0,73</td><td>Челябинская область</td></tr><tr><td>8</td><td>г. Самара</td><td>1 136 709</td><td>1 144 759</td><td>&#8212; 8 050</td><td>&#8212; 0,70</td><td>Самарская область</td></tr><tr><td>9</td><td>г. Уфа</td><td>1 135 061</td><td>1 125 933</td><td>9 128</td><td>0,81</td><td>Респ. Башкортостан</td></tr><tr><td>10</td><td>г. Ростов-на-Дону</td><td>1 134 694</td><td>1 137 704</td><td>&#8212; 3 010</td><td>&#8212; 0,26</td><td>Ростовская область</td></tr><tr><td>11</td><td>г. Омск</td><td>1 126 193</td><td>1 139 897</td><td>&#8212; 13 704</td><td>&#8212; 1,20</td><td>Омская область</td></tr><tr><td>12</td><td>г. Красноярск</td><td>1 103 023</td><td>1 092 851</td><td>10 172</td><td>0,93</td><td>Красноярский край</td></tr><tr><td>13</td><td>г. Воронеж</td><td>1 048 738</td><td>1 050 602</td><td>&#8212; 1 864</td><td>&#8212; 0,18</td><td>Воронежская область</td></tr><tr><td>14</td><td>г. Пермь</td><td>1 042 763</td><td>1 049 199</td><td>&#8212; 6 436</td><td>&#8212; 0,61</td><td>Пермский край</td></tr><tr><td>15</td><td>г. Волгоград</td><td>1 001 183</td><td>1 004 763</td><td>&#8212; 3 580</td><td>&#8212; 0,36</td><td>Волгоградская область</td></tr><tr><td></td><td>Итого:</td><td>33 528 673</td><td>33 589 883</td><td>&#8212; 61 210</td><td>&#8212; 0,18</td><td></td></tr></tbody></table></figure>\n",
      "\n",
      "\n",
      "\n",
      "<p>Ближайшие кандидаты в города миллионники, согласно данным [1], население:</p>\n",
      "\n",
      "\n",
      "\n",
      "<figure class=\"wp-block-table\"><table><tbody><tr><td>№</td><td>Город_____________</td><td>на 1 января 2022_года</td><td>на 1 января 2021_года</td><td>Динамика</td><td>Процент</td><td>Субъект РФ, в состав которого_входит_город_</td></tr><tr><td>16</td><td>г. Краснодар</td><td>974 319</td><td>948 827</td><td>25 492</td><td>2,69</td><td>Краснодарский край</td></tr><tr><td>17</td><td>г. Тюмень</td><td>828 575</td><td>816 700</td><td>11 875</td><td>1,45</td><td>Тюменская обл. без ао</td></tr><tr><td>18</td><td>г. Саратов</td><td>818 383</td><td>830 155</td><td>&#8212; 11 772</td><td>&#8212; 1,42</td><td>Саратовская область</td></tr><tr><td>19</td><td>г. Тольятти</td><td>685 619</td><td>693 072</td><td>&#8212; 7 453</td><td>&#8212; 1,08</td><td>Самарская область</td></tr></tbody></table></figure>\n",
      "\n",
      "\n",
      "\n",
      "<p>Комментарий: Уфа с 11 позиции поднялась на 9 позицию и опередила Омск и Ростов-на-Дону.<br>Ростов-на-Дону опередил Омск, но остался на 10 позиции.<br>Тюмень опередила Саратов и теперь на 17 позиции.</p>\n",
      "\n",
      "\n",
      "\n",
      "<!-- HFCM by 99 Robots - Snippet # 2: BLOCK 2 --- РСЯ --- 100%х90 -->\n",
      "<!-- Yandex.RTB R-A-396959-4 -->\n",
      "<div id=\"yandex_rtb_R-A-396959-4\"></div>\n",
      "<script>window.yaContextCb.push(()=>{\n",
      "  Ya.Context.AdvManager.render({\n",
      "    renderTo: 'yandex_rtb_R-A-396959-4',\n",
      "    blockId: 'R-A-396959-4'\n",
      "  })\n",
      "})</script>\n",
      "<p>\n",
      "<!-- /end HFCM by 99 Robots -->\n",
      "\n",
      "\n",
      "\n",
      "\n",
      "<p><strong>На 1 января 2021 года</strong><br>Численность населения городов-миллионников согласно&nbsp;данным Росстата от&nbsp;26.04.2021 &#171;Численность постоянного населения Российской Федерации по муниципальным образованиям на 1 января 2021 года&#187;. Итого в России 15 городов миллионников.</p>\n",
      "\n",
      "\n",
      "\n",
      "<p>Таблица:</p>\n",
      "\n",
      "\n",
      "\n",
      "<figure class=\"wp-block-table is-style-stripes\"><table><tbody><tr><td>№</td><td>Город_____________</td><td>на 1 января 2021_года</td><td>на 1 января 2020_года</td><td>Динамика</td><td>Процент</td><td>Субъект РФ, в состав которого_входит_город_</td></tr><tr><td>1</td><td>г. Москва</td><td>12 655 050</td><td>12 678 079</td><td>&#8212; 23 029</td><td>&#8212; 0,18</td><td>гор.ф.з. Москва</td></tr><tr><td>2</td><td>г. Санкт-Петербург</td><td>5 384 342</td><td>5 398 064</td><td>&#8212; 13 722</td><td>&#8212; 0,25</td><td>гор.ф.з. Санкт-Петербург</td></tr><tr><td>3</td><td>г. Новосибирск</td><td>1 620 162</td><td>1 625 631</td><td>&#8212; 5 469</td><td>&#8212; 0,34</td><td>Новосибирская область</td></tr><tr><td>4</td><td>г. Екатеринбург</td><td>1 495 066</td><td>1 493 749</td><td>1 317</td><td>0,09</td><td>Свердловская область</td></tr><tr><td>5</td><td>г. Казань</td><td>1 257 341</td><td>1 257 391</td><td>&#8212; 50</td><td>0,00</td><td>Республика Татарстан</td></tr><tr><td>6</td><td>г. Нижний Новгород</td><td>1 244 254</td><td>1 252 236</td><td>&#8212; 7 982</td><td>&#8212; 0,64</td><td>Нижегородская область</td></tr><tr><td>7</td><td>г. Челябинск</td><td>1 187 960</td><td>1 196 680</td><td>&#8212; 8 720</td><td>&#8212; 0,73</td><td>Челябинская область</td></tr><tr><td>8</td><td>г. Самара</td><td>1 144 759</td><td>1 156 659</td><td>&#8212; 11 900</td><td>&#8212; 1,03</td><td>Самарская область</td></tr><tr><td>9</td><td>г. Омск</td><td>1 139 897</td><td>1 154 507</td><td>&#8212; 14 610</td><td>&#8212; 1,27</td><td>Омская область</td></tr><tr><td>10</td><td>г. Ростов-на-Дону</td><td>1 137 704</td><td>1 137 904</td><td>&#8212; 200</td><td>&#8212; 0,02</td><td>Ростовская область</td></tr><tr><td>11</td><td>г. Уфа</td><td>1 125 933</td><td>1 128 787</td><td>&#8212; 2 854</td><td>&#8212; 0,25</td><td>Респ. Башкортостан</td></tr><tr><td>12</td><td>г. Красноярск</td><td>1 092 851</td><td>1 093 771</td><td>&#8212; 920</td><td>&#8212; 0,08</td><td>Красноярский край</td></tr><tr><td>13</td><td>г. Воронеж</td><td>1 050 602</td><td>1 058 261</td><td>&#8212; 7 659</td><td>&#8212; 0,72</td><td>Воронежская область</td></tr><tr><td>14</td><td>г. Пермь</td><td>1 049 199</td><td>1 055 397</td><td>&#8212; 6 198</td><td>&#8212; 0,59</td><td>Пермский край</td></tr><tr><td>15</td><td>г. Волгоград</td><td>1 004 763</td><td>1 008 998</td><td>&#8212; 4 235</td><td>&#8212; 0,42</td><td>Волгоградская область</td></tr><tr><td></td><td>Итого:</td><td>33 589 883</td><td>33 696 114</td><td>&#8212; 106 231</td><td>&#8212; 0,32</td><td></td></tr></tbody></table></figure>\n",
      "\n",
      "\n",
      "\n",
      "<p>Комментарий: Впервые за долгие годы произошло снижение численности населения, как в&nbsp;2 крупнейших городах России, так и вообще во всех городах миллионниках, кроме Екатеринбурга.&nbsp;<br>Ближайшие кандидаты в города миллионники, согласно данным [1], население:</p>\n",
      "\n",
      "\n",
      "\n",
      "<figure class=\"wp-block-table is-style-stripes\"><table><tbody><tr><td>№</td><td>  Город_____________ </td><td class=\"has-text-align-right\" data-align=\"right\">на 1 января 2021_года</td><td class=\"has-text-align-right\" data-align=\"right\">на 1 января 2020_года</td><td class=\"has-text-align-right\" data-align=\"right\">Динамика</td><td class=\"has-text-align-right\" data-align=\"right\">Процент</td><td>Субъект РФ, <br>в состав которого_входит_город_ </td></tr><tr><td>16</td><td>г. Краснодар</td><td class=\"has-text-align-right\" data-align=\"right\">948 827</td><td class=\"has-text-align-right\" data-align=\"right\">932 629</td><td class=\"has-text-align-right\" data-align=\"right\">16 198</td><td class=\"has-text-align-right\" data-align=\"right\">1,74</td><td>Краснодарский край</td></tr><tr><td>17</td><td>г. Саратов</td><td class=\"has-text-align-right\" data-align=\"right\">830 155</td><td class=\"has-text-align-right\" data-align=\"right\">838 042</td><td class=\"has-text-align-right\" data-align=\"right\">&#8212; 7 887</td><td class=\"has-text-align-right\" data-align=\"right\">&#8212; 0,94</td><td>Саратовская область</td></tr><tr><td>18</td><td>г. Тюмень</td><td class=\"has-text-align-right\" data-align=\"right\">816 700</td><td class=\"has-text-align-right\" data-align=\"right\">807 271</td><td class=\"has-text-align-right\" data-align=\"right\">9 429</td><td class=\"has-text-align-right\" data-align=\"right\">1,17</td><td>Тюменская обл. без АО</td></tr><tr><td>19</td><td>г. Тольятти</td><td class=\"has-text-align-right\" data-align=\"right\">693 072</td><td class=\"has-text-align-right\" data-align=\"right\">699 429</td><td class=\"has-text-align-right\" data-align=\"right\">&#8212; 6 357</td><td class=\"has-text-align-right\" data-align=\"right\">&#8212; 0,91</td><td>Самарская область</td></tr></tbody></table></figure>\n",
      "\n",
      "\n",
      "\n",
      "<!-- HFCM by 99 Robots - Snippet # 2: BLOCK 2 --- РСЯ --- 100%х90 -->\n",
      "<!-- Yandex.RTB R-A-396959-4 -->\n",
      "<div id=\"yandex_rtb_R-A-396959-4\"></div>\n",
      "<script>window.yaContextCb.push(()=>{\n",
      "  Ya.Context.AdvManager.render({\n",
      "    renderTo: 'yandex_rtb_R-A-396959-4',\n",
      "    blockId: 'R-A-396959-4'\n",
      "  })\n",
      "})</script>\n",
      "<p>\n",
      "<!-- /end HFCM by 99 Robots -->\n",
      "\n",
      "\n",
      "\n",
      "\n",
      "<p><strong>Архивные данные</strong><br>Если вас интересует население и динамика в прошлых периодах, можно ознакомиться с аналогичными таблицами за предыдущие годы: <a rel=\"noreferrer noopener\" href=\"/goroda-millionniki-rossii-po-naseleniu/201x\" target=\"_blank\">2020, 2019, 2018, 2017, 2015 годы</a></p>\n",
      "\n",
      "\n",
      "\n",
      "<p><strong>Города милионники на карте России</strong></p>\n",
      "\n",
      "\n",
      "\n",
      "<figure class=\"wp-block-image size-full is-resized\"><img decoding=\"async\" src=\"http://www.statdata.ru/wp-content/uploads/RF-million-cities.png\" alt=\"\" class=\"wp-image-130\" width=\"387\" height=\"231\" srcset=\"http://www.statdata.ru/wp-content/uploads/RF-million-cities.png 800w, http://www.statdata.ru/wp-content/uploads/RF-million-cities-300x179.png 300w, http://www.statdata.ru/wp-content/uploads/RF-million-cities-768x459.png 768w, http://www.statdata.ru/wp-content/uploads/RF-million-cities-445x265.png 445w\" sizes=\"(max-width: 387px) 100vw, 387px\" /></figure>\n",
      "\n",
      "\n",
      "\n",
      "<p><a href=\"/karta/goroda-millionniki-rossii\" data-type=\"page\" target=\"_blank\" rel=\"noreferrer noopener\">Увеличить</a>. Источник: 3 &#8212; Википедия.</p>\n",
      "\n",
      "\n",
      "\n",
      "<p>Подробнее список крупных городов России с населением более 100 тыс. человек см.&nbsp;<a href=\"/largest_cities_russia\">здесь</a>.&nbsp;<br>Источник 1,2:&nbsp;<a rel=\"noreferrer noopener\" href=\"http://www.gks.ru/wps/wcm/connect/rosstat_main/rosstat/ru/statistics/publications/catalog/afc8ea004d56a39ab251f2bafc3a6fce\" target=\"_blank\">Росстат</a>,&nbsp;<a rel=\"noreferrer noopener\" href=\"http://www.gks.ru/bgd/regl/b12_11/IssWWW.exe/Stg/d1/05-04.htm\" target=\"_blank\">Росстат</a>.&nbsp;</p>\n",
      "\n",
      "\n",
      "\n",
      "<p><strong>Население городов миллионеров России динамика по годам</strong>&nbsp;(тыс. человек,&nbsp;источник:&nbsp;3 &#8212;&nbsp;<a rel=\"noreferrer noopener\" href=\"https://ru.wikipedia.org/wiki/%D0%93%D0%BE%D1%80%D0%BE%D0%B4%D0%B0_%D0%A0%D0%BE%D1%81%D1%81%D0%B8%D0%B8_%D1%81_%D0%BD%D0%B0%D1%81%D0%B5%D0%BB%D0%B5%D0%BD%D0%B8%D0%B5%D0%BC_%D0%B1%D0%BE%D0%BB%D0%B5%D0%B5_500_%D1%82%D1%8B%D1%81%D1%8F%D1%87_%D1%87%D0%B5%D0%BB%D0%BE%D0%B2%D0%B5%D0%BA\" target=\"_blank\">Википедия</a>).&nbsp;</p>\n",
      "\n",
      "\n",
      "\n",
      "<figure class=\"wp-block-table is-style-stripes\"><table><tbody><tr><td>№</td><td>город</td><td>1897_</td><td>1926_</td><td>1939_</td><td>1959_</td><td>1970_</td><td>1979_</td><td>1989_</td><td>2002__</td><td>2010__</td><td>2020__</td></tr><tr><td>1</td><td>Москва</td><td>1 039</td><td>2 080</td><td>4 609</td><td>6 133</td><td>7 194</td><td>8 057</td><td>8 878</td><td>10 126</td><td>11 504</td><td>12 678</td></tr><tr><td>2</td><td>Санкт-Петербург</td><td>1 265</td><td>1 737</td><td>3 431</td><td>3 390</td><td>4 033</td><td>4 569</td><td>4 989</td><td>4 661</td><td>4 880</td><td>5 398</td></tr><tr><td>3</td><td>Новосибирск</td><td>8</td><td>120</td><td>404</td><td>885</td><td>1 161</td><td>1 309</td><td>1 420</td><td>1 426</td><td>1 474</td><td>1 626</td></tr><tr><td>4</td><td>Екатеринбург</td><td>43</td><td>140</td><td>423</td><td>779</td><td>1 025</td><td>1 210</td><td>1 296</td><td>1 294</td><td>1 350</td><td>1 494</td></tr><tr><td>5</td><td>Казань</td><td>130</td><td>179</td><td>406</td><td>667</td><td>869</td><td>989</td><td>1 085</td><td>1 105</td><td>1 144</td><td>1 257</td></tr><tr><td>6</td><td>Нижний Новгород</td><td>90</td><td>222</td><td>644</td><td>941</td><td>1 170</td><td>1 342</td><td>1 400</td><td>1 311</td><td>1 251</td><td>1 252</td></tr><tr><td>7</td><td>Челябинск</td><td>20</td><td>59</td><td>273</td><td>689</td><td>875</td><td>1 030</td><td>1 107</td><td>1 077</td><td>1 130</td><td>1 197</td></tr><tr><td>8</td><td>Самара</td><td>90</td><td>176</td><td>390</td><td>806</td><td>1 027</td><td>1 192</td><td>1 222</td><td>1 158</td><td>1 165</td><td>1 157</td></tr><tr><td>9</td><td>Омск</td><td>37</td><td>162</td><td>289</td><td>581</td><td>821</td><td>1 016</td><td>1 149</td><td>1 134</td><td>1 154</td><td>1 155</td></tr><tr><td>10</td><td>Ростов-на-Дону</td><td>119</td><td>308</td><td>510</td><td>600</td><td>789</td><td>925</td><td>1 008</td><td>1 068</td><td>1 089</td><td>1 138</td></tr><tr><td>11</td><td>Уфа</td><td>49</td><td>99</td><td>258</td><td>547</td><td>780</td><td>977</td><td>1 080</td><td>1 042</td><td>1 062</td><td>1 129</td></tr><tr><td>12</td><td>Красноярск</td><td>27</td><td>72</td><td>190</td><td>412</td><td>648</td><td>795</td><td>869</td><td>909</td><td>974</td><td>1 094</td></tr><tr><td>13</td><td>Воронеж</td><td>81</td><td>122</td><td>344</td><td>447</td><td>660</td><td>781</td><td>882</td><td>849</td><td>890</td><td>1 058</td></tr><tr><td>14</td><td>Пермь</td><td>45</td><td>121</td><td>306</td><td>629</td><td>850</td><td>998</td><td>1 041</td><td>1 002</td><td>991</td><td>1 055</td></tr><tr><td>15</td><td>Волгоград</td><td>55</td><td>151</td><td>445</td><td>591</td><td>815</td><td>926</td><td>999</td><td>1 011</td><td>1 021</td><td>1 009</td></tr></tbody></table></figure>\n",
      "\n",
      "\n",
      "\n",
      "<p><strong>Фото четырех крупнейших городов миллионников</strong></p>\n",
      "\n",
      "\n",
      "\n",
      "<figure class=\"wp-block-table\"><table><tbody><tr><td>  <br> <img decoding=\"async\" alt=\"Московский международный деловой центр «Москва-Сити» 14.07.2014.jpg\" src=\"https://upload.wikimedia.org/wikipedia/commons/thumb/c/c1/%D0%9C%D0%BE%D1%81%D0%BA%D0%BE%D0%B2%D1%81%D0%BA%D0%B8%D0%B9_%D0%BC%D0%B5%D0%B6%D0%B4%D1%83%D0%BD%D0%B0%D1%80%D0%BE%D0%B4%D0%BD%D1%8B%D0%B9_%D0%B4%D0%B5%D0%BB%D0%BE%D0%B2%D0%BE%D0%B9_%D1%86%D0%B5%D0%BD%D1%82%D1%80_%C2%AB%D0%9C%D0%BE%D1%81%D0%BA%D0%B2%D0%B0-%D0%A1%D0%B8%D1%82%D0%B8%C2%BB_14.07.2014.jpg/350px-%D0%9C%D0%BE%D1%81%D0%BA%D0%BE%D0%B2%D1%81%D0%BA%D0%B8%D0%B9_%D0%BC%D0%B5%D0%B6%D0%B4%D1%83%D0%BD%D0%B0%D1%80%D0%BE%D0%B4%D0%BD%D1%8B%D0%B9_%D0%B4%D0%B5%D0%BB%D0%BE%D0%B2%D0%BE%D0%B9_%D1%86%D0%B5%D0%BD%D1%82%D1%80_%C2%AB%D0%9C%D0%BE%D1%81%D0%BA%D0%B2%D0%B0-%D0%A1%D0%B8%D1%82%D0%B8%C2%BB_14.07.2014.jpg\"><br>Москва &#8212; крупнейший город России.&nbsp;<a rel=\"noreferrer noopener\" href=\"http://www.statdata.ru/foto-gorodov-rossii-i-mira/f11\" target=\"_blank\">Увеличить</a>  </td><td> <img decoding=\"async\" src=\"https://upload.wikimedia.org/wikipedia/commons/thumb/2/2c/%D0%9B%D0%B0%D1%85%D1%82%D0%B0_%D1%86%D0%B5%D0%BD%D1%82%D1%80_2021.jpg/320px-%D0%9B%D0%B0%D1%85%D1%82%D0%B0_%D1%86%D0%B5%D0%BD%D1%82%D1%80_2021.jpg\"><br>Санкт-Петербург. Лахта центр.&nbsp;<a rel=\"noreferrer noopener\" href=\"http://www.statdata.ru/foto-gorodov-rossii-i-mira/f-spb-1\" target=\"_blank\">Увеличить</a> </td></tr><tr><td> <img decoding=\"async\" src=\"https://upload.wikimedia.org/wikipedia/commons/thumb/6/6b/Akademgorodok_Airphoto.jpg/320px-Akademgorodok_Airphoto.jpg\"><br>Новосибирск. Академгородок.&nbsp;<a rel=\"noreferrer noopener\" href=\"http://www.statdata.ru/foto-gorodov-rossii-i-mira/f3\" target=\"_blank\">Увеличить</a>  </td><td> <img decoding=\"async\" src=\"https://upload.wikimedia.org/wikipedia/commons/thumb/3/39/E-burg_asv2019-05_img46_view_from_VysotSky.jpg/320px-E-burg_asv2019-05_img46_view_from_VysotSky.jpg\"><br>Екатеринбург.&nbsp;<a rel=\"noreferrer noopener\" href=\"http://www.statdata.ru/foto-gorodov-rossii-i-mira/f4\" target=\"_blank\">Увеличить</a> </td></tr></tbody></table></figure>\n",
      "<!-- HFCM by 99 Robots - Snippet # 6: AFTER PAGE -- Yandex -- -100% * 250 -->\n",
      "<p>\n",
      "<!-- Yandex.RTB R-A-396959-2 -->\n",
      "<div id=\"yandex_rtb_R-A-396959-2\"></div>\n",
      "<script>window.yaContextCb.push(()=>{\n",
      "  Ya.Context.AdvManager.render({\n",
      "    renderTo: 'yandex_rtb_R-A-396959-2',\n",
      "    blockId: 'R-A-396959-2'\n",
      "  })\n",
      "})</script>\n",
      "<p>\n",
      "<!-- /end HFCM by 99 Robots -->\n",
      "</div>\t</div><!-- .entry-content -->\n",
      "\n",
      "\t\n",
      "\t</article><!-- #post-126 -->\n",
      "\n",
      "\t\t\t\n",
      "\t\t</main><!-- #main -->\n",
      "\n",
      "\t\t\n",
      "\t</div><!-- #primary -->\n",
      "\n",
      "\t\n",
      "\n",
      "\n",
      "<aside id=\"secondary\" class=\"widget-area\">\n",
      "\n",
      "\t\n",
      "\t<section id=\"block-57\" class=\"widget widget_block\">\n",
      "<ul><li><strong>Некоторые страницы</strong></li><li><a href=\"http://www.statdata.ru\" data-type=\"URL\" data-id=\"http://www.statdata.ru\">Главная (меню)</a></li><li><a href=\"http://www.statdata.ru/russia\">Население России 2022: статистика</a></li><li><a href=\"http://www.statdata.ru/goroda-millionniki-rossii-po-naseleniu\">Города миллионники России 2022-21</a></li><li><a href=\"http://www.statdata.ru/largest_cities_russia\">150 крупнейших городов России 2021</a></li><li><a href=\"http://www.statdata.ru/largest_regions_russia\">Население России по регионам 2022</a></li><li><a href=\"http://www.statdata.ru/spisok-regionov-rossii-s-kodamy\">Регионы России: список с кодами</a></li><li><a href=\"http://www.statdata.ru/nasel_regions\">Плотность населения России</a></li><li><a href=\"http://www.statdata.ru/ploshchad/rossii\">Площадь России. Площади регионов</a></li><li><a href=\"http://www.statdata.ru/nacionalnyj-sostav-rossii\">Национальный состав России</a></li><li><a href=\"http://www.statdata.ru/samyi-teplyi-holodnyi-gorod-rossii\">Самый теплый / холодный город РФ</a></li><li><a href=\"http://www.statdata.ru/zpl_rfreg\">Средняя зарплата в России</a></li><li><a href=\"http://www.statdata.ru/migraciya-naseleniya-v-rossii-po-regionam\">Популярн. регионы РФ для переезда</a></li><li><a href=\"http://www.statdata.ru/pmz-emmigracia-strany-iz-rossii\">Популярн. страны - эмиграция из РФ</a></li><li><a href=\"http://www.statdata.ru/naselenie-krima-i-sevastopolya\">Крым: население, нац. состав</a></li><li><a href=\"http://www.statdata.ru/russia_eco_raiting\">Экологический рейтинг городов РФ</a></li><li><a href=\"http://www.xn-----7kcbmkfaolw0acwp3ak9a0lg.xn--p1ai/zapasi-nefti-i-gaza-v-rossii\">Запасы нефти и газа в России</a></li><li><a href=\"http://www.statdata.ru/largestcities_world\">Самые большие города мира</a></li><li><a href=\"http://www.statdata.ru/largest_cities_world_urban_areas\">Крупнейшие агломерации мира</a></li><li><a href=\"http://www.statdata.ru/10-samih-bolshih-stran-mira-po-naseleniu\">10 крупных стран мира по насел. 22</a></li><li><a href=\"http://www.statdata.ru/naselenie-ukraine-chislennost\">Украина: население 2022, статистика</a></li><li><a href=\"http://www.statdata.ru/naselenie-sirii-chislennost\">Сирия: население, нац.состав</a></li><li><a href=\"http://www.statdata.ru/naselenie-usa-chislennost\">США: численность населения</a></li><li><a href=\"http://www.statdata.ru/nacionalnyj-sostav-usa\">США: национальный состав</a></li><li><a href=\"http://www.statdata.ru/naselenie-kitaya-chislennost\">Китай: численность населения</a></li><li><a href=\"http://www.statdata.ru/naselenie-germanii-chislennost\">Германия: численность населения</a></li><li><a href=\"http://www.statdata.ru/proizvodstvennyi-kalendar/2022\">Производственный календарь 2022</a></li><li><a href=\"http://www.statdata.ru/proizvodstvennyi-kalendar/2023\">Производственный календарь 2023</a></li><li><a href=\"http://www.statdata.ru/masochnyj-rezhim\" data-type=\"page\" data-id=\"1228\">Масочный режим - города РФ-опрос</a></li><li><a href=\"http://www.xn----itbqfffliom9ff1b.xn--p1ai/2000-rubley\">Купюра 2000 рублей</a></li><li><a href=\"http://www.statdata.ru/karta\">Карты и графики: Россия и мир (21)</a></li><li><a href=\"http://www.statdata.ru/foto-gorodov-rossii-i-mira\">Фото нек. городов РФ и мира (43)</a></li><li><a href=\"http://www.statdata.ru/about\">О сайте</a></li></ul>\n",
      "</section><section id=\"block-58\" class=\"widget widget_block widget_text\">\n",
      "<p class=\"has-black-color has-text-color\"><strong>Краткие данные по населению</strong><br><br><img decoding=\"async\" src=\"/wp-content/uploads/Russia-flag-img.png\"> <a href=\"http://www.statdata.ru/russia\"><strong><mark style=\"background-color:rgba(0, 0, 0, 0)\" class=\"has-inline-color has-vivid-cyan-blue-color\">Россия</mark></strong></a><strong> &nbsp; 145 557 576</strong> чел. 2022&nbsp;<br><a href=\"http://www.statdata.ru/rozhdaemost-v-rossii\">Рожда</a>=1 402 834 <strong>&nbsp;</strong>ОКР=&nbsp; 9.6 <a href=\"http://www.statdata.ru/deti\"><mark style=\"background-color:rgba(0, 0, 0, 0)\" class=\"has-inline-color has-vivid-cyan-blue-color\">СКР</mark></a>=1.5<br><a href=\"http://www.statdata.ru/smertnost-v-rossii\"><mark style=\"background-color:rgba(0, 0, 0, 0)\" class=\"has-inline-color has-vivid-cyan-blue-color\">Смерт</mark></a>=2 445 509&nbsp; ОКС=16.8 <a href=\"http://www.statdata.ru/smertnost-v-rossii-prichiny\"><mark style=\"background-color:rgba(0, 0, 0, 0)\" class=\"has-inline-color has-vivid-cyan-blue-color\">причины</mark></a>&nbsp;&nbsp;<br>Убыль =-1 043 341&nbsp; КЕП= -7.2<br>Миграц= 429 902&nbsp; <a href=\"http://www.statdata.ru/migraciya-naseleniya-v-rossii-po-regionam\"><mark style=\"background-color:rgba(0, 0, 0, 0)\" class=\"has-inline-color has-vivid-cyan-blue-color\">КМП</mark></a>&nbsp;&nbsp;<br><a href=\"http://www.statdata.ru/prirost-naseleniya-rossii\"><mark style=\"background-color:rgba(0, 0, 0, 0)\" class=\"has-inline-color has-vivid-cyan-blue-color\">Общий</mark></a> =-613 439<br><a href=\"http://www.statdata.ru/spg_reg_rf\"><mark style=\"background-color:rgba(0, 0, 0, 0)\" class=\"has-inline-color has-vivid-cyan-blue-color\">ОПЖ</mark></a>&nbsp; <br>2019&nbsp; 73.34 &nbsp; М=68,24 &nbsp; Ж=78,17&nbsp;<a href=\"http://www.statdata.ru/spg_russia_ussr\"><mark style=\"background-color:rgba(0, 0, 0, 0)\" class=\"has-inline-color has-vivid-cyan-blue-color\">лет</mark></a>&nbsp; <br>2020&nbsp; 71.50 &nbsp; М=66,49 &nbsp; Ж=76,43<br><a href=\"http://www.statdata.ru/ploshchad/rossii\"><mark style=\"background-color:rgba(0, 0, 0, 0)\" class=\"has-inline-color has-vivid-cyan-blue-color\">S</mark></a>=17 125 191 км² &nbsp; <br><a href=\"http://www.statdata.ru/nasel_regions\"><mark style=\"background-color:rgba(0, 0, 0, 0)\" class=\"has-inline-color has-vivid-cyan-blue-color\">Плотн</mark>.</a> 8,50 чел/км²<br><br><a href=\"http://www.statdata.ru/largest_regions_russia\"><mark style=\"background-color:rgba(0, 0, 0, 0)\" class=\"has-inline-color has-vivid-cyan-blue-color\">Регионы</mark></a> России 2022<br>20 404 344 - Москва + Мос.обл.<br>_7 289 089 - СПБ + Лен.обл.<br>_5 687 378 - Краснодарский кр.<br>_4 264 340 - Свердловская обл.<br><br><a href=\"http://www.statdata.ru/goroda-millionniki-rossii-po-naseleniu\"><mark style=\"background-color:rgba(0, 0, 0, 0)\" class=\"has-inline-color has-vivid-cyan-blue-color\">Города</mark></a> России 2022<br>12 635 466 - г. Москва<br>_5 377 503 - г. Санкт-Петербург<br>_1 621 330 - г. Новосибирск<br>_1 493 600 - г. Екатеринбург<br><br><a href=\"http://www.statdata.ru/samye-bystrorastuchie-goroda-rossii\" data-type=\"page\" data-id=\"1143\"><mark style=\"background-color:rgba(0, 0, 0, 0)\" class=\"has-inline-color has-vivid-cyan-blue-color\">Топ 4 рост</mark></a> городов РФ за 2020<br>+13.55 % - г. Севастополь <br>+06.11 % - г. Грозный  <br>+04.31 % - г. Мытищи  <br>+03.77 % - г. Каспийск  <br><br><img decoding=\"async\" src=\"/wp-content/uploads/world-img.png\"> <a href=\"http://www.statdata.ru/10-samih-bolshih-stran-mira-po-naseleniu\"><mark style=\"background-color:rgba(0, 0, 0, 0)\" class=\"has-inline-color has-vivid-cyan-blue-color\">Мир</mark></a><mark style=\"background-color:rgba(0, 0, 0, 0)\" class=\"has-inline-color has-vivid-cyan-blue-color\"> </mark>2022 ~ 7.929 млрд:&nbsp;Китай: 1 411 млн, Индия: 1 387 млн, США: 333 млн, Индонезия: 269 млн.<br><br><a href=\"/europe-capitals-population\"><mark style=\"background-color:rgba(0, 0, 0, 0)\" class=\"has-inline-color has-vivid-cyan-blue-color\">Европа</mark></a>: ~ 743 млн. Россия 146.1 млн, Турция 83.6, Германия 82.8, Франция 67.3, Великобритания 66, Италия 60.5<br><br><a href=\"http://www.statdata.ru/largestcities_world\"><mark style=\"background-color:rgba(0, 0, 0, 0)\" class=\"has-inline-color has-vivid-cyan-blue-color\">Города</mark></a><mark style=\"background-color:rgba(0, 0, 0, 0)\" class=\"has-inline-color has-vivid-green-cyan-color\"> </mark>мира 2020:<br>37.4 млн - Токио, Япония<br>28.5 млн - Дели, Индия<br>25.5 млн - Шанхай, Китай<br>21.6 млн - Сан-Паулу, Бразилия</p>\n",
      "</section>\n",
      "\t\n",
      "</aside><!-- #secondary -->\n",
      "\n",
      "\t</div><!-- .container -->\n",
      "\t</div><!-- #content -->\n",
      "\n",
      "\t\n",
      "\t\n",
      "\t<footer id=\"colophon\" class=\"site-footer\">\n",
      "\n",
      "\t\t\n",
      "\t\t\n",
      "\t\t<div class=\"footer-widget-area clearfix th-columns-3\">\n",
      "\t\t\t<div class=\"container-fluid\">\n",
      "\t\t\t\t<div class=\"footer-widget-area-inner\">\n",
      "\t\t\t\t\t<div class=\"col column-1\">\n",
      "\t\t\t\t\t\t\t\t\t\t\t</div>\n",
      "\n",
      "\t\t\t\t\t\t\t\t\t\t\t<div class=\"col column-2\">\n",
      "\t\t\t\t\t\t\t\t\t\t\t\t\t</div>\n",
      "\t\t\t\t\t\n",
      "\t\t\t\t\t\t\t\t\t\t\t<div class=\"col column-3\">\n",
      "\t\t\t\t\t\t\t\t\t\t\t\t\t</div>\n",
      "\t\t\t\t\t\n",
      "\t\t\t\t\t\t\t\t\t</div><!-- .footer-widget-area-inner -->\n",
      "\t\t\t</div><!-- .container -->\n",
      "\t\t</div><!-- .footer-widget-area -->\n",
      "\n",
      "\t\t<div class=\"site-info clearfix\">\n",
      "\t\t\t<div class=\"container\">\n",
      "\t\t\t\t<div class=\"copyright-container\">\n",
      "\t\t\t\t\t \n",
      "\t\t\t\t\tРаботает на <a href=\"https://wordpress.org\" target=\"_blank\">WordPress</a> и <a href=\"https://themezhut.com/themes/bam/\" target=\"_blank\">Bam</a>.\t\t\t\t</div><!-- .copyright-container -->\n",
      "\t\t\t</div><!-- .container -->\n",
      "\t\t</div><!-- .site-info -->\n",
      "\n",
      "\t\t\n",
      "\t</footer><!-- #colophon -->\n",
      "\n",
      "\t\n",
      "</div><!-- #page -->\n",
      "\n",
      "\n",
      "<!-- HFCM by 99 Robots - Snippet # 7: AFTER PAGE -- AdSense -AutoSize -->\n",
      "<script async src=\"https://pagead2.googlesyndication.com/pagead/js/adsbygoogle.js\"></script>\n",
      "<!-- Adaptive1 -->\n",
      "<ins class=\"adsbygoogle\"\n",
      "     style=\"display:block\"\n",
      "     data-ad-client=\"ca-pub-0095366955475710\"\n",
      "     data-ad-slot=\"2108173849\"\n",
      "     data-ad-format=\"auto\"\n",
      "     data-full-width-responsive=\"true\"></ins>\n",
      "<script>\n",
      "     (adsbygoogle = window.adsbygoogle || []).push({});\n",
      "</script>\n",
      "<!-- /end HFCM by 99 Robots -->\n",
      "<script type='text/javascript' src='http://www.statdata.ru/wp-content/themes/bam/assets/js/main.js?ver=04e2c900c898d28dafcef1e6e87aec60' id='bam-main-js'></script>\n",
      "<script type='text/javascript' src='http://www.statdata.ru/wp-content/themes/bam/assets/js/skip-link-focus-fix.js?ver=20151215' id='bam-skip-link-focus-fix-js'></script>\n",
      "<script type='text/javascript' src='http://www.statdata.ru/wp-content/plugins/wp-responsive-table/assets/frontend/js/wprt-script.js?ver=1.2.6' id='wprt-script-js'></script>\n",
      "</body>\n",
      "</html>\n",
      "№\n",
      "Г\n",
      "о\n",
      "р\n",
      "о\n",
      "д\n",
      "_\n",
      "_\n",
      "_\n",
      "_\n",
      "_\n",
      "_\n",
      "_\n",
      "_\n",
      "_\n",
      "_\n",
      "_\n",
      "_\n",
      "_\n",
      "н\n",
      "а\n",
      " \n",
      "1\n",
      " \n",
      "я\n",
      "н\n",
      "в\n",
      "а\n",
      "р\n",
      "я\n",
      " \n",
      "2\n",
      "0\n",
      "2\n",
      "2\n",
      "_\n",
      "г\n",
      "о\n",
      "д\n",
      "а\n",
      "н\n",
      "а\n",
      " \n",
      "1\n",
      " \n",
      "я\n",
      "н\n",
      "в\n",
      "а\n",
      "р\n",
      "я\n",
      " \n",
      "2\n",
      "0\n",
      "2\n",
      "1\n",
      "_\n",
      "г\n",
      "о\n",
      "д\n",
      "а\n",
      "Д\n",
      "и\n",
      "н\n",
      "а\n",
      "м\n",
      "и\n",
      "к\n",
      "а\n",
      "П\n",
      "р\n",
      "о\n",
      "ц\n",
      "е\n",
      "н\n",
      "т\n",
      "С\n",
      "у\n",
      "б\n",
      "ъ\n",
      "е\n",
      "к\n",
      "т\n",
      " \n",
      "Р\n",
      "Ф\n",
      ",\n",
      " \n",
      "в\n",
      " \n",
      "с\n",
      "о\n",
      "с\n",
      "т\n",
      "а\n",
      "в\n",
      " \n",
      "к\n",
      "о\n",
      "т\n",
      "о\n",
      "р\n",
      "о\n",
      "г\n",
      "о\n",
      "_\n",
      "в\n",
      "х\n",
      "о\n",
      "д\n",
      "и\n",
      "т\n",
      "_\n",
      "г\n",
      "о\n",
      "р\n",
      "о\n",
      "д\n",
      "_\n",
      "1\n",
      "г\n",
      ".\n",
      " \n",
      "М\n",
      "о\n",
      "с\n",
      "к\n",
      "в\n",
      "а\n",
      "1\n",
      "2\n",
      " \n",
      "6\n",
      "3\n",
      "5\n",
      " \n",
      "4\n",
      "6\n",
      "6\n",
      "1\n",
      "2\n",
      " \n",
      "6\n",
      "5\n",
      "5\n",
      " \n",
      "0\n",
      "5\n",
      "0\n",
      "—\n",
      " \n",
      "1\n",
      "9\n",
      " \n",
      "5\n",
      "8\n",
      "4\n",
      "—\n",
      " \n",
      "0\n",
      ",\n",
      "1\n",
      "5\n",
      "г\n",
      "о\n",
      "р\n",
      ".\n",
      "ф\n",
      ".\n",
      "з\n",
      ".\n",
      " \n",
      "М\n",
      "о\n",
      "с\n",
      "к\n",
      "в\n",
      "а\n",
      "2\n",
      "г\n",
      ".\n",
      " \n",
      "С\n",
      "а\n",
      "н\n",
      "к\n",
      "т\n",
      "-\n",
      "П\n",
      "е\n",
      "т\n",
      "е\n",
      "р\n",
      "б\n",
      "у\n",
      "р\n",
      "г\n",
      "5\n",
      " \n",
      "3\n",
      "7\n",
      "7\n",
      " \n",
      "5\n",
      "0\n",
      "3\n",
      "5\n",
      " \n",
      "3\n",
      "8\n",
      "4\n",
      " \n",
      "3\n",
      "4\n",
      "2\n",
      "—\n",
      " \n",
      "6\n",
      " \n",
      "8\n",
      "3\n",
      "9\n",
      "—\n",
      " \n",
      "0\n",
      ",\n",
      "1\n",
      "3\n",
      "г\n",
      "о\n",
      "р\n",
      ".\n",
      "ф\n",
      ".\n",
      "з\n",
      ".\n",
      " \n",
      "С\n",
      "а\n",
      "н\n",
      "к\n",
      "т\n",
      "-\n",
      "П\n",
      "е\n",
      "т\n",
      "е\n",
      "р\n",
      "б\n",
      "у\n",
      "р\n",
      "г\n",
      "3\n",
      "г\n",
      ".\n",
      " \n",
      "Н\n",
      "о\n",
      "в\n",
      "о\n",
      "с\n",
      "и\n",
      "б\n",
      "и\n",
      "р\n",
      "с\n",
      "к\n",
      "1\n",
      " \n",
      "6\n",
      "2\n",
      "1\n",
      " \n",
      "3\n",
      "3\n",
      "0\n",
      "1\n",
      " \n",
      "6\n",
      "2\n",
      "0\n",
      " \n",
      "1\n",
      "6\n",
      "2\n",
      "1\n",
      " \n",
      "1\n",
      "6\n",
      "8\n",
      "0\n",
      ",\n",
      "0\n",
      "7\n",
      "Н\n",
      "о\n",
      "в\n",
      "о\n",
      "с\n",
      "и\n",
      "б\n",
      "и\n",
      "р\n",
      "с\n",
      "к\n",
      "а\n",
      "я\n",
      " \n",
      "о\n",
      "б\n",
      "л\n",
      "а\n",
      "с\n",
      "т\n",
      "ь\n",
      "4\n",
      "г\n",
      ".\n",
      " \n",
      "Е\n",
      "к\n",
      "а\n",
      "т\n",
      "е\n",
      "р\n",
      "и\n",
      "н\n",
      "б\n",
      "у\n",
      "р\n",
      "г\n",
      "1\n",
      " \n",
      "4\n",
      "9\n",
      "3\n",
      " \n",
      "6\n",
      "0\n",
      "0\n",
      "1\n",
      " \n",
      "4\n",
      "9\n",
      "5\n",
      " \n",
      "0\n",
      "6\n",
      "6\n",
      "—\n",
      " \n",
      "1\n",
      " \n",
      "4\n",
      "6\n",
      "6\n",
      "—\n",
      " \n",
      "0\n",
      ",\n",
      "1\n",
      "0\n",
      "С\n",
      "в\n",
      "е\n",
      "р\n",
      "д\n",
      "л\n",
      "о\n",
      "в\n",
      "с\n",
      "к\n",
      "а\n",
      "я\n",
      " \n",
      "о\n",
      "б\n",
      "л\n",
      "а\n",
      "с\n",
      "т\n",
      "ь\n",
      "5\n",
      "г\n",
      ".\n",
      " \n",
      "К\n",
      "а\n",
      "з\n",
      "а\n",
      "н\n",
      "ь\n",
      "1\n",
      " \n",
      "2\n",
      "5\n",
      "9\n",
      " \n",
      "1\n",
      "7\n",
      "3\n",
      "1\n",
      " \n",
      "2\n",
      "5\n",
      "7\n",
      " \n",
      "3\n",
      "4\n",
      "1\n",
      "1\n",
      " \n",
      "8\n",
      "3\n",
      "2\n",
      "0\n",
      ",\n",
      "1\n",
      "5\n",
      "Р\n",
      "е\n",
      "с\n",
      "п\n",
      "у\n",
      "б\n",
      "л\n",
      "и\n",
      "к\n",
      "а\n",
      " \n",
      "Т\n",
      "а\n",
      "т\n",
      "а\n",
      "р\n",
      "с\n",
      "т\n",
      "а\n",
      "н\n",
      "6\n",
      "г\n",
      ".\n",
      " \n",
      "Н\n",
      "и\n",
      "ж\n",
      "н\n",
      "и\n",
      "й\n",
      " \n",
      "Н\n",
      "о\n",
      "в\n",
      "г\n",
      "о\n",
      "р\n",
      "о\n",
      "д\n",
      "1\n",
      " \n",
      "2\n",
      "3\n",
      "3\n",
      " \n",
      "9\n",
      "4\n",
      "9\n",
      "1\n",
      " \n",
      "2\n",
      "4\n",
      "4\n",
      " \n",
      "2\n",
      "5\n",
      "4\n",
      "—\n",
      " \n",
      "1\n",
      "0\n",
      " \n",
      "3\n",
      "0\n",
      "5\n",
      "—\n",
      " \n",
      "0\n",
      ",\n",
      "8\n",
      "3\n",
      "Н\n",
      "и\n",
      "ж\n",
      "е\n",
      "г\n",
      "о\n",
      "р\n",
      "о\n",
      "д\n",
      "с\n",
      "к\n",
      "а\n",
      "я\n",
      " \n",
      "о\n",
      "б\n",
      "л\n",
      "а\n",
      "с\n",
      "т\n",
      "ь\n",
      "7\n",
      "г\n",
      ".\n",
      " \n",
      "Ч\n",
      "е\n",
      "л\n",
      "я\n",
      "б\n",
      "и\n",
      "н\n",
      "с\n",
      "к\n",
      "1\n",
      " \n",
      "1\n",
      "7\n",
      "9\n",
      " \n",
      "2\n",
      "8\n",
      "8\n",
      "1\n",
      " \n",
      "1\n",
      "8\n",
      "7\n",
      " \n",
      "9\n",
      "6\n",
      "0\n",
      "—\n",
      " \n",
      "8\n",
      " \n",
      "6\n",
      "7\n",
      "2\n",
      "—\n",
      " \n",
      "0\n",
      ",\n",
      "7\n",
      "3\n",
      "Ч\n",
      "е\n",
      "л\n",
      "я\n",
      "б\n",
      "и\n",
      "н\n",
      "с\n",
      "к\n",
      "а\n",
      "я\n",
      " \n",
      "о\n",
      "б\n",
      "л\n",
      "а\n",
      "с\n",
      "т\n",
      "ь\n",
      "8\n",
      "г\n",
      ".\n",
      " \n",
      "С\n",
      "а\n",
      "м\n",
      "а\n",
      "р\n",
      "а\n",
      "1\n",
      " \n",
      "1\n",
      "3\n",
      "6\n",
      " \n",
      "7\n",
      "0\n",
      "9\n",
      "1\n",
      " \n",
      "1\n",
      "4\n",
      "4\n",
      " \n",
      "7\n",
      "5\n",
      "9\n",
      "—\n",
      " \n",
      "8\n",
      " \n",
      "0\n",
      "5\n",
      "0\n",
      "—\n",
      " \n",
      "0\n",
      ",\n",
      "7\n",
      "0\n",
      "С\n",
      "а\n",
      "м\n",
      "а\n",
      "р\n",
      "с\n",
      "к\n",
      "а\n",
      "я\n",
      " \n",
      "о\n",
      "б\n",
      "л\n",
      "а\n",
      "с\n",
      "т\n",
      "ь\n",
      "9\n",
      "г\n",
      ".\n",
      " \n",
      "У\n",
      "ф\n",
      "а\n",
      "1\n",
      " \n",
      "1\n",
      "3\n",
      "5\n",
      " \n",
      "0\n",
      "6\n",
      "1\n",
      "1\n",
      " \n",
      "1\n",
      "2\n",
      "5\n",
      " \n",
      "9\n",
      "3\n",
      "3\n",
      "9\n",
      " \n",
      "1\n",
      "2\n",
      "8\n",
      "0\n",
      ",\n",
      "8\n",
      "1\n",
      "Р\n",
      "е\n",
      "с\n",
      "п\n",
      ".\n",
      " \n",
      "Б\n",
      "а\n",
      "ш\n",
      "к\n",
      "о\n",
      "р\n",
      "т\n",
      "о\n",
      "с\n",
      "т\n",
      "а\n",
      "н\n",
      "1\n",
      "0\n",
      "г\n",
      ".\n",
      " \n",
      "Р\n",
      "о\n",
      "с\n",
      "т\n",
      "о\n",
      "в\n",
      "-\n",
      "н\n",
      "а\n",
      "-\n",
      "Д\n",
      "о\n",
      "н\n",
      "у\n",
      "1\n",
      " \n",
      "1\n",
      "3\n",
      "4\n",
      " \n",
      "6\n",
      "9\n",
      "4\n",
      "1\n",
      " \n",
      "1\n",
      "3\n",
      "7\n",
      " \n",
      "7\n",
      "0\n",
      "4\n",
      "—\n",
      " \n",
      "3\n",
      " \n",
      "0\n",
      "1\n",
      "0\n",
      "—\n",
      " \n",
      "0\n",
      ",\n",
      "2\n",
      "6\n",
      "Р\n",
      "о\n",
      "с\n",
      "т\n",
      "о\n",
      "в\n",
      "с\n",
      "к\n",
      "а\n",
      "я\n",
      " \n",
      "о\n",
      "б\n",
      "л\n",
      "а\n",
      "с\n",
      "т\n",
      "ь\n",
      "1\n",
      "1\n",
      "г\n",
      ".\n",
      " \n",
      "О\n",
      "м\n",
      "с\n",
      "к\n",
      "1\n",
      " \n",
      "1\n",
      "2\n",
      "6\n",
      " \n",
      "1\n",
      "9\n",
      "3\n",
      "1\n",
      " \n",
      "1\n",
      "3\n",
      "9\n",
      " \n",
      "8\n",
      "9\n",
      "7\n",
      "—\n",
      " \n",
      "1\n",
      "3\n",
      " \n",
      "7\n",
      "0\n",
      "4\n",
      "—\n",
      " \n",
      "1\n",
      ",\n",
      "2\n",
      "0\n",
      "О\n",
      "м\n",
      "с\n",
      "к\n",
      "а\n",
      "я\n",
      " \n",
      "о\n",
      "б\n",
      "л\n",
      "а\n",
      "с\n",
      "т\n",
      "ь\n",
      "1\n",
      "2\n",
      "г\n",
      ".\n",
      " \n",
      "К\n",
      "р\n",
      "а\n",
      "с\n",
      "н\n",
      "о\n",
      "я\n",
      "р\n",
      "с\n",
      "к\n",
      "1\n",
      " \n",
      "1\n",
      "0\n",
      "3\n",
      " \n",
      "0\n",
      "2\n",
      "3\n",
      "1\n",
      " \n",
      "0\n",
      "9\n",
      "2\n",
      " \n",
      "8\n",
      "5\n",
      "1\n",
      "1\n",
      "0\n",
      " \n",
      "1\n",
      "7\n",
      "2\n",
      "0\n",
      ",\n",
      "9\n",
      "3\n",
      "К\n",
      "р\n",
      "а\n",
      "с\n",
      "н\n",
      "о\n",
      "я\n",
      "р\n",
      "с\n",
      "к\n",
      "и\n",
      "й\n",
      " \n",
      "к\n",
      "р\n",
      "а\n",
      "й\n",
      "1\n",
      "3\n",
      "г\n",
      ".\n",
      " \n",
      "В\n",
      "о\n",
      "р\n",
      "о\n",
      "н\n",
      "е\n",
      "ж\n",
      "1\n",
      " \n",
      "0\n",
      "4\n",
      "8\n",
      " \n",
      "7\n",
      "3\n",
      "8\n",
      "1\n",
      " \n",
      "0\n",
      "5\n",
      "0\n",
      " \n",
      "6\n",
      "0\n",
      "2\n",
      "—\n",
      " \n",
      "1\n",
      " \n",
      "8\n",
      "6\n",
      "4\n",
      "—\n",
      " \n",
      "0\n",
      ",\n",
      "1\n",
      "8\n",
      "В\n",
      "о\n",
      "р\n",
      "о\n",
      "н\n",
      "е\n",
      "ж\n",
      "с\n",
      "к\n",
      "а\n",
      "я\n",
      " \n",
      "о\n",
      "б\n",
      "л\n",
      "а\n",
      "с\n",
      "т\n",
      "ь\n",
      "1\n",
      "4\n",
      "г\n",
      ".\n",
      " \n",
      "П\n",
      "е\n",
      "р\n",
      "м\n",
      "ь\n",
      "1\n",
      " \n",
      "0\n",
      "4\n",
      "2\n",
      " \n",
      "7\n",
      "6\n",
      "3\n",
      "1\n",
      " \n",
      "0\n",
      "4\n",
      "9\n",
      " \n",
      "1\n",
      "9\n",
      "9\n",
      "—\n",
      " \n",
      "6\n",
      " \n",
      "4\n",
      "3\n",
      "6\n",
      "—\n",
      " \n",
      "0\n",
      ",\n",
      "6\n",
      "1\n",
      "П\n",
      "е\n",
      "р\n",
      "м\n",
      "с\n",
      "к\n",
      "и\n",
      "й\n",
      " \n",
      "к\n",
      "р\n",
      "а\n",
      "й\n",
      "1\n",
      "5\n",
      "г\n",
      ".\n",
      " \n",
      "В\n",
      "о\n",
      "л\n",
      "г\n",
      "о\n",
      "г\n",
      "р\n",
      "а\n",
      "д\n",
      "1\n",
      " \n",
      "0\n",
      "0\n",
      "1\n",
      " \n",
      "1\n",
      "8\n",
      "3\n",
      "1\n",
      " \n",
      "0\n",
      "0\n",
      "4\n",
      " \n",
      "7\n",
      "6\n",
      "3\n",
      "—\n",
      " \n",
      "3\n",
      " \n",
      "5\n",
      "8\n",
      "0\n",
      "—\n",
      " \n",
      "0\n",
      ",\n",
      "3\n",
      "6\n",
      "В\n",
      "о\n",
      "л\n",
      "г\n",
      "о\n",
      "г\n",
      "р\n",
      "а\n",
      "д\n",
      "с\n",
      "к\n",
      "а\n",
      "я\n",
      " \n",
      "о\n",
      "б\n",
      "л\n",
      "а\n",
      "с\n",
      "т\n",
      "ь\n",
      "И\n",
      "т\n",
      "о\n",
      "г\n",
      "о\n",
      ":\n",
      "3\n",
      "3\n",
      " \n",
      "5\n",
      "2\n",
      "8\n",
      " \n",
      "6\n",
      "7\n",
      "3\n",
      "3\n",
      "3\n",
      " \n",
      "5\n",
      "8\n",
      "9\n",
      " \n",
      "8\n",
      "8\n",
      "3\n",
      "—\n",
      " \n",
      "6\n",
      "1\n",
      " \n",
      "2\n",
      "1\n",
      "0\n",
      "—\n",
      " \n",
      "0\n",
      ",\n",
      "1\n",
      "8\n"
     ]
    }
   ],
   "source": [
    "import requests # Импортируем библиотеку requests\n",
    "url = 'http://www.statdata.ru/goroda-millionniki-rossii-po-naseleniu' # Определяем адрес страницы\n",
    "response = requests.get(url)  # Выполняем GET-запрос, создаём объект requests\n",
    "print(response.text)  # Выводим содержимое атрибута text\n",
    "\n",
    "from bs4 import BeautifulSoup # Импортируем библиотеку BeautifulSoup\n",
    "page = BeautifulSoup(response.text, 'html.parser') # Создаём объект BeautifulSoup, указывая параметр html-парсер\n",
    "j = page.find('tbody').text\n",
    "for i in j:\n",
    "    #if i = ''\n",
    "    print(i)"
   ]
  },
  {
   "cell_type": "code",
   "execution_count": 37,
   "metadata": {},
   "outputs": [],
   "source": [
    "str1 = \"\"\"Москва\t13 010\t13,1%\t11 504 \n",
    "2\tСанкт-Петербург\t5602\t14,8%\t4880 \n",
    "3\tНовосибирск\t1634\t10,9%\t1474\n",
    "4\tЕкатеринбург\t1544\t14,4%\t1350\n",
    "5\tКазань\t1309\t14,4%\t1144\n",
    "6\tНижний Новгород\t1226\t−2,0%\t1251\n",
    "7\tЧелябинск\t1190\t5,3%\t1130\n",
    "8\tКрасноярск\t1188\t21,6%\t977\n",
    "9\tСамара\t1173\t0,3%\t1169\n",
    "10\tУфа\t1145\t7,8%\t1062\n",
    "11\tРостов-на-Дону\t1142\t4,9%\t1089\n",
    "12\tОмск\t1126\t−3,4%\t1166\n",
    "13\tКраснодар\t1099\t43,8%\t764\n",
    "14\tВоронеж[a]\t1058\t18,9%\t890\n",
    "15\tПермь\t1034\t4,3%\t991\n",
    "16\tВолгоград\"\"\"\n",
    "g = []\n",
    "for i in range(11):\n",
    "\t    g.append(str(i))\n",
    "     \n",
    "for i in str1:\n",
    "    if i in g:\n",
    "        1\n",
    "    else:\n",
    "        i"
   ]
  },
  {
   "cell_type": "markdown",
   "metadata": {},
   "source": [
    "# Предметный анализ"
   ]
  },
  {
   "cell_type": "markdown",
   "metadata": {},
   "source": [
    "#### Сколько вакансий имеет отношение к данным?"
   ]
  },
  {
   "cell_type": "code",
   "execution_count": 38,
   "metadata": {},
   "outputs": [],
   "source": [
    "query_6_1 = f''' \n",
    "            SELECT \n",
    "                COUNT(name)\n",
    "            FROM public.vacancies\n",
    "            WHERE lower(name) LIKE '%данн%' OR\n",
    "                lower(name) LIKE '%data%'\n",
    "            '''"
   ]
  },
  {
   "cell_type": "code",
   "execution_count": 39,
   "metadata": {},
   "outputs": [
    {
     "data": {
      "text/html": [
       "<div>\n",
       "<style scoped>\n",
       "    .dataframe tbody tr th:only-of-type {\n",
       "        vertical-align: middle;\n",
       "    }\n",
       "\n",
       "    .dataframe tbody tr th {\n",
       "        vertical-align: top;\n",
       "    }\n",
       "\n",
       "    .dataframe thead th {\n",
       "        text-align: right;\n",
       "    }\n",
       "</style>\n",
       "<table border=\"1\" class=\"dataframe\">\n",
       "  <thead>\n",
       "    <tr style=\"text-align: right;\">\n",
       "      <th></th>\n",
       "      <th>count</th>\n",
       "    </tr>\n",
       "  </thead>\n",
       "  <tbody>\n",
       "    <tr>\n",
       "      <th>0</th>\n",
       "      <td>1771</td>\n",
       "    </tr>\n",
       "  </tbody>\n",
       "</table>\n",
       "</div>"
      ],
      "text/plain": [
       "   count\n",
       "0   1771"
      ]
     },
     "metadata": {},
     "output_type": "display_data"
    }
   ],
   "source": [
    "exit_5_7 = pd.read_sql_query(query_6_1, connection_project)\n",
    "display(exit_5_7)"
   ]
  },
  {
   "cell_type": "markdown",
   "metadata": {},
   "source": [
    "#### Сколько есть подходящих вакансий для начинающего дата-сайентиста?"
   ]
  },
  {
   "cell_type": "code",
   "execution_count": 40,
   "metadata": {},
   "outputs": [],
   "source": [
    "query_6_2 = f''' \n",
    "            SELECT\n",
    "                count(*)\n",
    "            FROM public.vacancies\n",
    "            WHERE \n",
    "            upper(name) NOT LIKE '%HTML%' AND\n",
    "                (lower(name) LIKE '%data scientist%' OR\n",
    "                lower(name) LIKE '%data science%' OR\n",
    "                lower(name) LIKE '%исследователь данных%' OR\n",
    "                UPPER(name) LIKE '%ML%' OR \n",
    "                lower(name) LIKE '%machine learning%' OR \n",
    "                lower(name) LIKE '%машинн%обучен%') AND\n",
    "                \n",
    "                (lower(name) LIKE '%junior%' OR\n",
    "                experience LIKE '%Нет опыта%' OR\n",
    "                employment LIKE '%Стажировка%') \n",
    "            '''\n",
    "            "
   ]
  },
  {
   "cell_type": "code",
   "execution_count": 41,
   "metadata": {},
   "outputs": [
    {
     "data": {
      "text/html": [
       "<div>\n",
       "<style scoped>\n",
       "    .dataframe tbody tr th:only-of-type {\n",
       "        vertical-align: middle;\n",
       "    }\n",
       "\n",
       "    .dataframe tbody tr th {\n",
       "        vertical-align: top;\n",
       "    }\n",
       "\n",
       "    .dataframe thead th {\n",
       "        text-align: right;\n",
       "    }\n",
       "</style>\n",
       "<table border=\"1\" class=\"dataframe\">\n",
       "  <thead>\n",
       "    <tr style=\"text-align: right;\">\n",
       "      <th></th>\n",
       "      <th>count</th>\n",
       "    </tr>\n",
       "  </thead>\n",
       "  <tbody>\n",
       "    <tr>\n",
       "      <th>0</th>\n",
       "      <td>51</td>\n",
       "    </tr>\n",
       "  </tbody>\n",
       "</table>\n",
       "</div>"
      ],
      "text/plain": [
       "   count\n",
       "0     51"
      ]
     },
     "metadata": {},
     "output_type": "display_data"
    }
   ],
   "source": [
    "exit_6_2 = pd.read_sql_query(query_6_2,connection_project)\n",
    "display(exit_6_2)"
   ]
  },
  {
   "cell_type": "markdown",
   "metadata": {},
   "source": [
    "Среди всех вакансий около 50 подходят начинающим специалистам data science. Профессия новая и число вакансий не велико, но спрос будет расти, поскольку информационные технологии помогают организациям собирать огромные объёмы информации, которые необходимо обрабатывать и извлекать из них ценные данные. "
   ]
  },
  {
   "cell_type": "markdown",
   "metadata": {},
   "source": [
    "#### Сколько есть вакансий для DS, в которых в качестве ключевого навыка указан SQL или postgres?"
   ]
  },
  {
   "cell_type": "code",
   "execution_count": 42,
   "metadata": {},
   "outputs": [],
   "source": [
    "query_6_3 = f''' \n",
    "            SELECT\n",
    "                COUNT(*)\n",
    "            FROM public.vacancies\n",
    "            WHERE \n",
    "               (lower(name) LIKE '%data scientist%' OR\n",
    "                lower(name) LIKE '%data science%' OR\n",
    "                lower(name) LIKE '%исследователь данных%' OR\n",
    "                UPPER(name) LIKE '%ML%' OR \n",
    "                lower(name) LIKE '%machine learning%' OR \n",
    "                lower(name) LIKE '%машинн%обучен%') AND\n",
    "                \n",
    "                upper(name) NOT LIKE '%HTML%' AND\n",
    "                lower(name) NOT LIKE '%teamlead%' AND\n",
    "                (lower(key_skills) LIKE '%sql%' OR lower(key_skills) LIKE '%postgre%')\n",
    "            '''"
   ]
  },
  {
   "cell_type": "code",
   "execution_count": 43,
   "metadata": {},
   "outputs": [
    {
     "data": {
      "text/html": [
       "<div>\n",
       "<style scoped>\n",
       "    .dataframe tbody tr th:only-of-type {\n",
       "        vertical-align: middle;\n",
       "    }\n",
       "\n",
       "    .dataframe tbody tr th {\n",
       "        vertical-align: top;\n",
       "    }\n",
       "\n",
       "    .dataframe thead th {\n",
       "        text-align: right;\n",
       "    }\n",
       "</style>\n",
       "<table border=\"1\" class=\"dataframe\">\n",
       "  <thead>\n",
       "    <tr style=\"text-align: right;\">\n",
       "      <th></th>\n",
       "      <th>count</th>\n",
       "    </tr>\n",
       "  </thead>\n",
       "  <tbody>\n",
       "    <tr>\n",
       "      <th>0</th>\n",
       "      <td>201</td>\n",
       "    </tr>\n",
       "  </tbody>\n",
       "</table>\n",
       "</div>"
      ],
      "text/plain": [
       "   count\n",
       "0    201"
      ]
     },
     "metadata": {},
     "output_type": "display_data"
    }
   ],
   "source": [
    "exit_6_3 = pd.read_sql_query(query_6_3,connection_project)\n",
    "display(exit_6_3)"
   ]
  },
  {
   "cell_type": "markdown",
   "metadata": {},
   "source": [
    "Навык работы с SQL требуется часто в работе саентиста, поскольку в этой профессии большую часть времени может занимать работа с данными - обработка, анализ, очистка. С помощью SQL можно быстро провести анаиз, получить нужную информацию и с помощью систем BI создать дашборд."
   ]
  },
  {
   "cell_type": "markdown",
   "metadata": {},
   "source": [
    "#### Вычислить количество вакансий, в которых в качестве ключевого навыка указан Python."
   ]
  },
  {
   "cell_type": "code",
   "execution_count": 44,
   "metadata": {},
   "outputs": [],
   "source": [
    "query_6_4 = f'''\n",
    "            SELECT\n",
    "                COUNT(*)\n",
    "            FROM public.vacancies\n",
    "            WHERE lower(key_skills) LIKE '%python%' AND\n",
    "               (lower(name) LIKE '%data scientist%' OR\n",
    "                lower(name) LIKE '%data science%' OR\n",
    "                lower(name) LIKE '%исследователь данных%' OR\n",
    "                UPPER(name) LIKE '%ML%' OR \n",
    "                lower(name) LIKE '%machine learning%' OR \n",
    "                lower(name) LIKE '%машинн%обучен%') AND\n",
    "                \n",
    "                upper(name) NOT LIKE '%HTML%' AND\n",
    "                lower(name) NOT LIKE '%teamlead%' \n",
    "               '''"
   ]
  },
  {
   "cell_type": "code",
   "execution_count": 45,
   "metadata": {},
   "outputs": [
    {
     "data": {
      "text/html": [
       "<div>\n",
       "<style scoped>\n",
       "    .dataframe tbody tr th:only-of-type {\n",
       "        vertical-align: middle;\n",
       "    }\n",
       "\n",
       "    .dataframe tbody tr th {\n",
       "        vertical-align: top;\n",
       "    }\n",
       "\n",
       "    .dataframe thead th {\n",
       "        text-align: right;\n",
       "    }\n",
       "</style>\n",
       "<table border=\"1\" class=\"dataframe\">\n",
       "  <thead>\n",
       "    <tr style=\"text-align: right;\">\n",
       "      <th></th>\n",
       "      <th>count</th>\n",
       "    </tr>\n",
       "  </thead>\n",
       "  <tbody>\n",
       "    <tr>\n",
       "      <th>0</th>\n",
       "      <td>351</td>\n",
       "    </tr>\n",
       "  </tbody>\n",
       "</table>\n",
       "</div>"
      ],
      "text/plain": [
       "   count\n",
       "0    351"
      ]
     },
     "metadata": {},
     "output_type": "display_data"
    }
   ],
   "source": [
    "exit_6_4 = pd.read_sql_query(query_6_4,connection_project)\n",
    "display(exit_6_4)"
   ]
  },
  {
   "cell_type": "markdown",
   "metadata": {},
   "source": [
    "Знание языка python требуется больше чем в половине вакансий для саентистов. Это связано с тем, что он является основным для машинного обучения. Довольно простой и в использовании, гибкий, множество библиотек - все это делает python самым востребованым языком в создании искуственного интеллекта."
   ]
  },
  {
   "cell_type": "markdown",
   "metadata": {},
   "source": [
    "#### Сколько ключевых навыков в среднем указывают в вакансиях для DS?"
   ]
  },
  {
   "cell_type": "code",
   "execution_count": 46,
   "metadata": {},
   "outputs": [],
   "source": [
    "query_6_5 = f''' \n",
    "            SELECT \n",
    "                AVG(\n",
    "                    LENGTH(key_skills) - LENGTH(REPLACE(key_skills, '\\t','')) +1\n",
    "                    )\n",
    "            FROM public.vacancies\n",
    "            WHERE\n",
    "               (lower(name) LIKE '%data scientist%' OR\n",
    "                lower(name) LIKE '%data science%' OR\n",
    "                lower(name) LIKE '%исследователь данных%' OR\n",
    "                name LIKE '%ML%' OR\n",
    "                lower(name) LIKE '%machine learning%' OR \n",
    "                lower(name) LIKE '%машинн%обучен%') \n",
    "                AND \n",
    "                name NOT LIKE '%HTML%' AND\n",
    "                key_skills IS NOT NULL\n",
    "            '''"
   ]
  },
  {
   "cell_type": "code",
   "execution_count": 47,
   "metadata": {},
   "outputs": [
    {
     "data": {
      "text/html": [
       "<div>\n",
       "<style scoped>\n",
       "    .dataframe tbody tr th:only-of-type {\n",
       "        vertical-align: middle;\n",
       "    }\n",
       "\n",
       "    .dataframe tbody tr th {\n",
       "        vertical-align: top;\n",
       "    }\n",
       "\n",
       "    .dataframe thead th {\n",
       "        text-align: right;\n",
       "    }\n",
       "</style>\n",
       "<table border=\"1\" class=\"dataframe\">\n",
       "  <thead>\n",
       "    <tr style=\"text-align: right;\">\n",
       "      <th></th>\n",
       "      <th>avg</th>\n",
       "    </tr>\n",
       "  </thead>\n",
       "  <tbody>\n",
       "    <tr>\n",
       "      <th>0</th>\n",
       "      <td>6.406032</td>\n",
       "    </tr>\n",
       "  </tbody>\n",
       "</table>\n",
       "</div>"
      ],
      "text/plain": [
       "        avg\n",
       "0  6.406032"
      ]
     },
     "metadata": {},
     "output_type": "display_data"
    }
   ],
   "source": [
    "exit_6_5 = pd.read_sql_query(query_6_5,connection_project)\n",
    "display(exit_6_5)"
   ]
  },
  {
   "cell_type": "code",
   "execution_count": 48,
   "metadata": {},
   "outputs": [
    {
     "data": {
      "text/plain": [
       "key_skills    5.75\n",
       "dtype: float64"
      ]
     },
     "metadata": {},
     "output_type": "display_data"
    }
   ],
   "source": [
    "query_6_5 = f''' \n",
    "            SELECT \n",
    "                key_skills\n",
    "            FROM public.vacancies\n",
    "            WHERE\n",
    "               (lower(name) LIKE '%data scientist%' OR\n",
    "                lower(name) LIKE '%data science%' OR\n",
    "                lower(name) LIKE '%исследователь данных%' OR\n",
    "                name LIKE '%ML%' OR\n",
    "                lower(name) LIKE '%machine learning%' OR \n",
    "                lower(name) LIKE '%машинн%обучен%') \n",
    "                AND \n",
    "                name NOT LIKE '%HTML%' \n",
    "            '''\n",
    "exit_6_5 = pd.read_sql_query(query_6_5,connection_project)\n",
    "\n",
    "# создаем объет dataframe\n",
    "ser = pd.DataFrame(exit_6_5) \n",
    "\n",
    "# Выбираем значения без None, ищем в каждой записи значения '/t' и считаем навыки\n",
    "def func(data):\n",
    "    \n",
    "    if data is None:\n",
    "        return 0\n",
    "    \n",
    "    str_skill = list(data)\n",
    "    sum_skill = str_skill.count('\\t') \n",
    "    return sum_skill +1\n",
    "\n",
    "series = ser['key_skills'].apply(func)\n",
    "#создаём новый датафрайм с кол-вом навыков\n",
    "new_data = pd.DataFrame(series)\n",
    "display(round(new_data.mean(),2))\n"
   ]
  },
  {
   "cell_type": "markdown",
   "metadata": {},
   "source": []
  },
  {
   "cell_type": "markdown",
   "metadata": {},
   "source": [
    "#### Какую зарплату для DS в среднем указывают для каждого типа требуемого опыта.\n",
    "\n"
   ]
  },
  {
   "cell_type": "code",
   "execution_count": 14,
   "metadata": {},
   "outputs": [],
   "source": [
    "query_6_6 = f''' \n",
    "            WITH with_null AS \n",
    "            (SELECT \n",
    "            -- Составим столбцец размера оплаты в случаи, если указана только одна граница зп вилки\n",
    "                experience,\n",
    "                coalesce(salary_from, 0) + coalesce(salary_to, 0) mean\n",
    "                         \n",
    "            FROM public.vacancies\n",
    "            WHERE \n",
    "               (lower(name) LIKE '%data scientist%' OR\n",
    "                lower(name) LIKE '%data science%' OR\n",
    "                lower(name) LIKE '%исследователь данных%' OR\n",
    "                name LIKE '%ML%' OR\n",
    "                lower(name) LIKE '%machine learning%' OR \n",
    "                lower(name) LIKE '%машинн%обучен%') \n",
    "                AND \n",
    "                name NOT LIKE '%HTML%' AND\n",
    "                (salary_from IS NOT NULL OR\n",
    "                salary_to IS NOT NULL) AND\n",
    "                (salary_from + salary_to) IS NULL\n",
    "                \n",
    "            UNION ALL\n",
    "            \n",
    "            SELECT \n",
    "            -- Получим размер оплаты в случаи, если указаны обе границы зп вилки и\n",
    "            -- объеденим с предыдущим запросом \n",
    "                experience,\n",
    "                (salary_from + salary_to)/2\n",
    "                \n",
    "            FROM public.vacancies\n",
    "            WHERE \n",
    "               (lower(name) LIKE '%data scientist%' OR\n",
    "                lower(name) LIKE '%data science%' OR\n",
    "                lower(name) LIKE '%исследователь данных%' OR\n",
    "                name LIKE '%ML%' OR\n",
    "                lower(name) LIKE '%machine learning%' OR \n",
    "                lower(name) LIKE '%машинн%обучен%') \n",
    "                AND \n",
    "                name NOT LIKE '%HTML%' AND\n",
    "                (salary_from IS NOT NULL OR\n",
    "                salary_to IS NOT NULL) AND\n",
    "                (salary_from + salary_to) IS NOT NULL\n",
    "                )\n",
    "                \n",
    "            SELECT \n",
    "            -- Группируем по столбцу опыта и считаем среднее значение зарплат \n",
    "                experience,\n",
    "                AVG(mean)\n",
    "            FROM  with_null\n",
    "            GROUP BY 1\n",
    "            '''\n"
   ]
  },
  {
   "cell_type": "code",
   "execution_count": 16,
   "metadata": {},
   "outputs": [
    {
     "data": {
      "text/html": [
       "<div>\n",
       "<style scoped>\n",
       "    .dataframe tbody tr th:only-of-type {\n",
       "        vertical-align: middle;\n",
       "    }\n",
       "\n",
       "    .dataframe tbody tr th {\n",
       "        vertical-align: top;\n",
       "    }\n",
       "\n",
       "    .dataframe thead th {\n",
       "        text-align: right;\n",
       "    }\n",
       "</style>\n",
       "<table border=\"1\" class=\"dataframe\">\n",
       "  <thead>\n",
       "    <tr style=\"text-align: right;\">\n",
       "      <th></th>\n",
       "      <th>experience</th>\n",
       "      <th>avg</th>\n",
       "    </tr>\n",
       "  </thead>\n",
       "  <tbody>\n",
       "    <tr>\n",
       "      <th>0</th>\n",
       "      <td>От 3 до 6 лет</td>\n",
       "      <td>243114.666667</td>\n",
       "    </tr>\n",
       "    <tr>\n",
       "      <th>1</th>\n",
       "      <td>От 1 года до 3 лет</td>\n",
       "      <td>139674.750000</td>\n",
       "    </tr>\n",
       "    <tr>\n",
       "      <th>2</th>\n",
       "      <td>Нет опыта</td>\n",
       "      <td>74642.857143</td>\n",
       "    </tr>\n",
       "  </tbody>\n",
       "</table>\n",
       "</div>"
      ],
      "text/plain": [
       "           experience            avg\n",
       "0       От 3 до 6 лет  243114.666667\n",
       "1  От 1 года до 3 лет  139674.750000\n",
       "2           Нет опыта   74642.857143"
      ]
     },
     "metadata": {},
     "output_type": "display_data"
    }
   ],
   "source": [
    "exit_6_6 = pd.read_sql_query(query_6_6,connection_project)\n",
    "display(exit_6_6)\n",
    "\n",
    "connection_project.close()"
   ]
  },
  {
   "cell_type": "markdown",
   "metadata": {},
   "source": [
    "# Общий вывод по проекту"
   ]
  },
  {
   "cell_type": "markdown",
   "metadata": {},
   "source": []
  }
 ],
 "metadata": {
  "kernelspec": {
   "display_name": "Python 3.9.7 ('base')",
   "language": "python",
   "name": "python3"
  },
  "language_info": {
   "codemirror_mode": {
    "name": "ipython",
    "version": 3
   },
   "file_extension": ".py",
   "mimetype": "text/x-python",
   "name": "python",
   "nbconvert_exporter": "python",
   "pygments_lexer": "ipython3",
   "version": "3.9.7"
  },
  "orig_nbformat": 4,
  "vscode": {
   "interpreter": {
    "hash": "5ee77b7342ed73636869c9d05dba8fccbb7f3f034dd95cc6a6276e844832775d"
   }
  }
 },
 "nbformat": 4,
 "nbformat_minor": 2
}
